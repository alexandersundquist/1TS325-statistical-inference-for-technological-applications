{
  "nbformat": 4,
  "nbformat_minor": 0,
  "metadata": {
    "colab": {
      "provenance": [],
      "toc_visible": true,
      "authorship_tag": "ABX9TyM4xKCAOmBVQclYFk3rjjw4"
    },
    "kernelspec": {
      "name": "python3",
      "display_name": "Python 3"
    },
    "language_info": {
      "name": "python"
    }
  },
  "cells": [
    {
      "cell_type": "markdown",
      "source": [
        "#Google Colab Preperations"
      ],
      "metadata": {
        "id": "SpmxpmTnKoDN"
      }
    },
    {
      "cell_type": "code",
      "execution_count": null,
      "metadata": {
        "colab": {
          "base_uri": "https://localhost:8080/"
        },
        "id": "Yf-roOtpDp3Z",
        "outputId": "8a479fc1-91f8-4589-a690-6d3e5a970c15"
      },
      "outputs": [
        {
          "output_type": "stream",
          "name": "stdout",
          "text": [
            "Mounted at /content/drive\n"
          ]
        },
        {
          "output_type": "execute_result",
          "data": {
            "text/plain": [
              "['Grundskola',\n",
              " 'Life stuff',\n",
              " 'Memories',\n",
              " 'Uni',\n",
              " 'Xiaomi ',\n",
              " 'M-care telefonreparation meddelande.gdoc',\n",
              " 'Övningsuppgift 3_Lösningsförslag-2.xlsx',\n",
              " 'Övningsuppgift 3_Lösningsförslag-2.gsheet',\n",
              " 'Copy of År 1',\n",
              " 'Copy of Adams - Calculus_ A Complete Course 9th Edition c2018 txtbk.pdf',\n",
              " 'Test.wav',\n",
              " 'Copy of Servicelista.gsheet',\n",
              " 'Fadderschema IB 2021.gsheet',\n",
              " 'Kontor förrådlista .gsheet',\n",
              " 'VUAP projekt film .mp4',\n",
              " 'Rapport elektronik projekt.docx',\n",
              " 'inbound5701277380449500804.jpg',\n",
              " 'inbound4347321590187847973.jpg',\n",
              " 'Laboration.asv',\n",
              " 'matlab_kod.asv',\n",
              " 'Servicelista.gsheet',\n",
              " 'Reglerteknik_inlupp_2.pdf',\n",
              " 'Reglerteknik inlupp 2.gdoc',\n",
              " 'inbound891644163481054736.jpg',\n",
              " 'Report.gdoc',\n",
              " 'inbound8047323940897218312.jpg',\n",
              " 'Populate database table USER.sql',\n",
              " 'Dreams Mice and Men text.docx',\n",
              " 'Strimman: dagbok 2.pdf',\n",
              " 'Copy of Report .docx',\n",
              " 'Colab Notebooks']"
            ]
          },
          "metadata": {},
          "execution_count": 1
        }
      ],
      "source": [
        "#Mount your personal Google Drive to Colab\n",
        "from google.colab import drive\n",
        "drive.mount('/content/drive')\n",
        "import os\n",
        "os.chdir('drive')\n",
        "os.chdir('MyDrive')\n",
        "os.listdir()"
      ]
    },
    {
      "cell_type": "code",
      "source": [
        "if not os.path.isdir(\"SI_for_TA\"): #create subfolder SI_for_TA does\n",
        "  os.mkdir(\"SI_for_TA\") ## if it does not already exist\n",
        "  os.chdir(\"SI_for_TA\") #move new subfolder=current working directory\n",
        "  os.getcwd() #check which is the current working directory"
      ],
      "metadata": {
        "id": "O-5Q01WyEy00"
      },
      "execution_count": null,
      "outputs": []
    },
    {
      "cell_type": "markdown",
      "source": [
        "#3 Task A - Python, Probability, and Statistics"
      ],
      "metadata": {
        "id": "_zkbNYxiKKv4"
      }
    },
    {
      "cell_type": "markdown",
      "source": [
        "##3.1 The tutorial “Python Statistics Fundamentals”"
      ],
      "metadata": {
        "id": "n4ts4GIqKQw1"
      }
    },
    {
      "cell_type": "markdown",
      "source": [
        "###Real Python - Python Statistics Fundamentals: How to Describe Your Data"
      ],
      "metadata": {
        "id": "4KowMGRdMr_s"
      }
    },
    {
      "cell_type": "markdown",
      "source": [
        "####Calculating Descriptive Statistics"
      ],
      "metadata": {
        "id": "D_mIL93EMia3"
      }
    },
    {
      "cell_type": "code",
      "source": [
        "import math\n",
        "import statistics\n",
        "import numpy as np\n",
        "import scipy.stats\n",
        "import pandas as pd"
      ],
      "metadata": {
        "id": "_cKDHtXyKabc"
      },
      "execution_count": null,
      "outputs": []
    },
    {
      "cell_type": "code",
      "source": [
        "x = [8.0, 1, 2.5, 4, 28.0]\n",
        "x_with_nan = [8.0, 1, 2.5, math.nan, 4, 28.0]\n",
        "\n",
        "print(x)\n",
        "print(x_with_nan)"
      ],
      "metadata": {
        "colab": {
          "base_uri": "https://localhost:8080/"
        },
        "id": "iddz0Yx_LICD",
        "outputId": "63e5fc7f-63fd-475b-f489-cd0eb9d76b02"
      },
      "execution_count": null,
      "outputs": [
        {
          "output_type": "stream",
          "name": "stdout",
          "text": [
            "[8.0, 1, 2.5, 4, 28.0]\n",
            "[8.0, 1, 2.5, nan, 4, 28.0]\n"
          ]
        }
      ]
    },
    {
      "cell_type": "code",
      "source": [
        "y, y_with_nan = np.array(x), np.array(x_with_nan)\n",
        "z, z_with_nan = pd.Series(x), pd.Series(x_with_nan)\n",
        "\n",
        "print('y:',y)\n",
        "print('y_with_nan:', y_with_nan)\n",
        "print('z:', z)\n",
        "print('z_with_nan:', z_with_nan)"
      ],
      "metadata": {
        "colab": {
          "base_uri": "https://localhost:8080/"
        },
        "id": "CqAZJY6WLnUL",
        "outputId": "06ac7c69-befc-4220-d80e-45811fb3e9e2"
      },
      "execution_count": null,
      "outputs": [
        {
          "output_type": "stream",
          "name": "stdout",
          "text": [
            "y: [ 8.   1.   2.5  4.  28. ]\n",
            "y_with_nan: [ 8.   1.   2.5  nan  4.  28. ]\n",
            "z: 0     8.0\n",
            "1     1.0\n",
            "2     2.5\n",
            "3     4.0\n",
            "4    28.0\n",
            "dtype: float64\n",
            "z_with_nan: 0     8.0\n",
            "1     1.0\n",
            "2     2.5\n",
            "3     NaN\n",
            "4     4.0\n",
            "5    28.0\n",
            "dtype: float64\n"
          ]
        }
      ]
    },
    {
      "cell_type": "markdown",
      "source": [
        "#####Measures of Central Tendency"
      ],
      "metadata": {
        "id": "VuWNbZZQM3IX"
      }
    },
    {
      "cell_type": "markdown",
      "source": [
        "Mean"
      ],
      "metadata": {
        "id": "-mX7u6DYRhJm"
      }
    },
    {
      "cell_type": "code",
      "source": [
        "mean_ = sum(x) / len(x)\n",
        "mean_"
      ],
      "metadata": {
        "colab": {
          "base_uri": "https://localhost:8080/"
        },
        "id": "UxYilChIMan2",
        "outputId": "e5542a33-1075-4407-8e6d-10585066f51e"
      },
      "execution_count": null,
      "outputs": [
        {
          "output_type": "execute_result",
          "data": {
            "text/plain": [
              "8.7"
            ]
          },
          "metadata": {},
          "execution_count": 9
        }
      ]
    },
    {
      "cell_type": "code",
      "source": [
        "mean_ = statistics.mean(x)\n",
        "print(mean_)\n",
        "\n",
        "mean_ = statistics.fmean(x)\n",
        "print(mean_)"
      ],
      "metadata": {
        "colab": {
          "base_uri": "https://localhost:8080/"
        },
        "id": "HtC_odvZNZ2r",
        "outputId": "e1ac32d5-827a-4f61-b017-1d33024b64a0"
      },
      "execution_count": null,
      "outputs": [
        {
          "output_type": "stream",
          "name": "stdout",
          "text": [
            "8.7\n",
            "8.7\n"
          ]
        }
      ]
    },
    {
      "cell_type": "code",
      "source": [
        "mean_ = statistics.mean(x_with_nan)\n",
        "mean_\n",
        "\n",
        "mean_ = statistics.fmean(x_with_nan)\n",
        "mean_"
      ],
      "metadata": {
        "colab": {
          "base_uri": "https://localhost:8080/"
        },
        "id": "Rup-dpGxNpkz",
        "outputId": "9c8b165f-4a39-46af-fc6d-055cdf97cd3d"
      },
      "execution_count": null,
      "outputs": [
        {
          "output_type": "execute_result",
          "data": {
            "text/plain": [
              "nan"
            ]
          },
          "metadata": {},
          "execution_count": 12
        }
      ]
    },
    {
      "cell_type": "code",
      "source": [
        "mean_ = np.mean(y)\n",
        "mean_"
      ],
      "metadata": {
        "colab": {
          "base_uri": "https://localhost:8080/"
        },
        "id": "TvRgFYwwNvuV",
        "outputId": "0d85b7a0-edea-4faf-e0d4-177adcf0b10c"
      },
      "execution_count": null,
      "outputs": [
        {
          "output_type": "execute_result",
          "data": {
            "text/plain": [
              "8.7"
            ]
          },
          "metadata": {},
          "execution_count": 13
        }
      ]
    },
    {
      "cell_type": "code",
      "source": [
        "mean_ = y.mean()\n",
        "mean_"
      ],
      "metadata": {
        "colab": {
          "base_uri": "https://localhost:8080/"
        },
        "id": "QbReZxaPN15k",
        "outputId": "4b260249-deb6-492b-9ff3-a8dc06cb8012"
      },
      "execution_count": null,
      "outputs": [
        {
          "output_type": "execute_result",
          "data": {
            "text/plain": [
              "8.7"
            ]
          },
          "metadata": {},
          "execution_count": 15
        }
      ]
    },
    {
      "cell_type": "code",
      "source": [
        "np.mean(y_with_nan)\n",
        "\n",
        "y_with_nan.mean()\n"
      ],
      "metadata": {
        "colab": {
          "base_uri": "https://localhost:8080/"
        },
        "id": "sPpvyJarN6Xs",
        "outputId": "62c51196-ba5d-4352-bea3-261a3c676ef8"
      },
      "execution_count": null,
      "outputs": [
        {
          "output_type": "execute_result",
          "data": {
            "text/plain": [
              "nan"
            ]
          },
          "metadata": {},
          "execution_count": 16
        }
      ]
    },
    {
      "cell_type": "code",
      "source": [
        "np.nanmean(y_with_nan)\n"
      ],
      "metadata": {
        "colab": {
          "base_uri": "https://localhost:8080/"
        },
        "id": "gj12yNj7OCxd",
        "outputId": "59ad085c-79d8-4cea-f5ff-39e80556c6cf"
      },
      "execution_count": null,
      "outputs": [
        {
          "output_type": "execute_result",
          "data": {
            "text/plain": [
              "8.7"
            ]
          },
          "metadata": {},
          "execution_count": 17
        }
      ]
    },
    {
      "cell_type": "code",
      "source": [
        "mean_ = z.mean()\n",
        "mean_"
      ],
      "metadata": {
        "colab": {
          "base_uri": "https://localhost:8080/"
        },
        "id": "zw9eYar9OKcR",
        "outputId": "f1940b60-324f-4097-c771-cf604b2ec2b2"
      },
      "execution_count": null,
      "outputs": [
        {
          "output_type": "execute_result",
          "data": {
            "text/plain": [
              "8.7"
            ]
          },
          "metadata": {},
          "execution_count": 18
        }
      ]
    },
    {
      "cell_type": "code",
      "source": [
        "z_with_nan.mean()"
      ],
      "metadata": {
        "colab": {
          "base_uri": "https://localhost:8080/"
        },
        "id": "vOI1BwmkOO3u",
        "outputId": "e0e56533-4998-4f38-f682-17810c28328b"
      },
      "execution_count": null,
      "outputs": [
        {
          "output_type": "execute_result",
          "data": {
            "text/plain": [
              "8.7"
            ]
          },
          "metadata": {},
          "execution_count": 20
        }
      ]
    },
    {
      "cell_type": "markdown",
      "source": [
        "Weighted average"
      ],
      "metadata": {
        "id": "0aa67gz6RdFT"
      }
    },
    {
      "cell_type": "code",
      "source": [
        "0.2 * 2 + 0.5 * 4 + 0.3 * 8"
      ],
      "metadata": {
        "colab": {
          "base_uri": "https://localhost:8080/"
        },
        "id": "hHE9EuKIOk20",
        "outputId": "4e2264e0-9167-4d20-e15c-d935ea16f708"
      },
      "execution_count": null,
      "outputs": [
        {
          "output_type": "execute_result",
          "data": {
            "text/plain": [
              "4.8"
            ]
          },
          "metadata": {},
          "execution_count": 21
        }
      ]
    },
    {
      "cell_type": "code",
      "source": [
        "x = [8.0, 1, 2.5, 4, 28.0]\n",
        "w = [0.1, 0.2, 0.3, 0.25, 0.15]\n",
        "wmean = sum(w[i] * x[i] for i in range(len(x))) / sum(w)\n",
        "print(wmean)\n",
        "\n",
        "wmean = sum(x_ * w_ for (x_, w_) in zip(x, w)) / sum(w)\n",
        "print(wmean)\n"
      ],
      "metadata": {
        "colab": {
          "base_uri": "https://localhost:8080/"
        },
        "id": "i7fNgEh2O3Gl",
        "outputId": "324e31aa-1186-4414-8284-3898d9444888"
      },
      "execution_count": null,
      "outputs": [
        {
          "output_type": "stream",
          "name": "stdout",
          "text": [
            "6.95\n",
            "6.95\n"
          ]
        }
      ]
    },
    {
      "cell_type": "code",
      "source": [
        "y, z, w = np.array(x), pd.Series(x), np.array(w)\n",
        "wmean = np.average(y, weights=w)\n",
        "print(wmean)\n",
        "\n",
        "wmean = np.average(z, weights=w)\n",
        "print(wmean)"
      ],
      "metadata": {
        "colab": {
          "base_uri": "https://localhost:8080/"
        },
        "id": "BKA0pmAsPHF1",
        "outputId": "e65087b5-c638-4b95-86dc-19a451d26f7c"
      },
      "execution_count": null,
      "outputs": [
        {
          "output_type": "stream",
          "name": "stdout",
          "text": [
            "6.95\n",
            "6.95\n"
          ]
        }
      ]
    },
    {
      "cell_type": "code",
      "source": [
        "(w * y).sum() / w.sum()"
      ],
      "metadata": {
        "colab": {
          "base_uri": "https://localhost:8080/"
        },
        "id": "bIviMoWdPSPG",
        "outputId": "5e3ae55e-223a-40a7-e814-159cbffb267c"
      },
      "execution_count": null,
      "outputs": [
        {
          "output_type": "execute_result",
          "data": {
            "text/plain": [
              "6.95"
            ]
          },
          "metadata": {},
          "execution_count": 24
        }
      ]
    },
    {
      "cell_type": "code",
      "source": [
        "w = np.array([0.1, 0.2, 0.3, 0.0, 0.2, 0.1])\n",
        "print((w * y_with_nan).sum() / w.sum())\n",
        "print(np.average(y_with_nan, weights=w))\n",
        "print(np.average(z_with_nan, weights=w))"
      ],
      "metadata": {
        "colab": {
          "base_uri": "https://localhost:8080/"
        },
        "id": "f9LDgkdvPah-",
        "outputId": "73e63e0f-c692-498d-d7f9-1343fb18b35d"
      },
      "execution_count": null,
      "outputs": [
        {
          "output_type": "stream",
          "name": "stdout",
          "text": [
            "nan\n",
            "nan\n",
            "nan\n"
          ]
        }
      ]
    },
    {
      "cell_type": "markdown",
      "source": [
        "Median"
      ],
      "metadata": {
        "id": "1-TMzgQTRj93"
      }
    },
    {
      "cell_type": "code",
      "source": [
        "n = len(x)\n",
        "if n % 2:\n",
        "    median_ = sorted(x)[round(0.5*(n-1))]\n",
        "else:\n",
        "    x_ord, index = sorted(x), round(0.5 * n)\n",
        "    median_ = 0.5 * (x_ord[index-1] + x_ord[index])\n",
        "\n",
        "median_"
      ],
      "metadata": {
        "colab": {
          "base_uri": "https://localhost:8080/"
        },
        "id": "766F6cHJRlMX",
        "outputId": "69472939-b84b-46a9-efe9-93a8045a1859"
      },
      "execution_count": null,
      "outputs": [
        {
          "output_type": "execute_result",
          "data": {
            "text/plain": [
              "4"
            ]
          },
          "metadata": {},
          "execution_count": 26
        }
      ]
    },
    {
      "cell_type": "code",
      "source": [
        "median_ = statistics.median(x)\n",
        "print(median_)\n",
        "\n",
        "median_ = statistics.median(x[:-1])\n",
        "print(median_)"
      ],
      "metadata": {
        "colab": {
          "base_uri": "https://localhost:8080/"
        },
        "id": "2BhqtQ6GRvcY",
        "outputId": "1d0ffb83-6ae9-4dde-ddb4-90b5ce4cbc7c"
      },
      "execution_count": null,
      "outputs": [
        {
          "output_type": "stream",
          "name": "stdout",
          "text": [
            "4\n",
            "3.25\n"
          ]
        }
      ]
    },
    {
      "cell_type": "code",
      "source": [
        "print(statistics.median_low(x[:-1]))\n",
        "\n",
        "print(statistics.median_high(x[:-1]))"
      ],
      "metadata": {
        "colab": {
          "base_uri": "https://localhost:8080/"
        },
        "id": "GTcyn77aR8CA",
        "outputId": "b976458b-0a7b-4094-e2bc-073bc7e182fd"
      },
      "execution_count": null,
      "outputs": [
        {
          "output_type": "stream",
          "name": "stdout",
          "text": [
            "2.5\n",
            "4\n"
          ]
        }
      ]
    },
    {
      "cell_type": "code",
      "source": [
        "print(statistics.median(x_with_nan))\n",
        "\n",
        "print(statistics.median_low(x_with_nan))\n",
        "\n",
        "print(statistics.median_high(x_with_nan))\n"
      ],
      "metadata": {
        "colab": {
          "base_uri": "https://localhost:8080/"
        },
        "id": "tYZQNmYdSGrr",
        "outputId": "a8007172-7c4f-46fd-8003-d3609a55b140"
      },
      "execution_count": null,
      "outputs": [
        {
          "output_type": "stream",
          "name": "stdout",
          "text": [
            "6.0\n",
            "4\n",
            "8.0\n"
          ]
        }
      ]
    },
    {
      "cell_type": "code",
      "source": [
        "median_ = np.median(y)\n",
        "print(median_)\n",
        "\n",
        "median_ = np.median(y[:-1])\n",
        "print(median_)"
      ],
      "metadata": {
        "colab": {
          "base_uri": "https://localhost:8080/"
        },
        "id": "-CfHOE77SRIC",
        "outputId": "ebe45ac3-0fe1-4aff-b563-b406ed10861a"
      },
      "execution_count": null,
      "outputs": [
        {
          "output_type": "stream",
          "name": "stdout",
          "text": [
            "4.0\n",
            "3.25\n"
          ]
        }
      ]
    },
    {
      "cell_type": "code",
      "source": [
        "print(np.median(y_with_nan))\n",
        "\n",
        "print(np.nanmedian(y_with_nan))\n",
        "\n",
        "print(np.nanmedian(y_with_nan[:-1]))"
      ],
      "metadata": {
        "colab": {
          "base_uri": "https://localhost:8080/"
        },
        "id": "VfA8ehn1ScZy",
        "outputId": "0edc5971-8809-4380-a46b-0a83eaf5b703"
      },
      "execution_count": null,
      "outputs": [
        {
          "output_type": "stream",
          "name": "stdout",
          "text": [
            "nan\n",
            "4.0\n",
            "3.25\n"
          ]
        }
      ]
    },
    {
      "cell_type": "code",
      "source": [
        "print(z.median())\n",
        "\n",
        "print(z_with_nan.median())"
      ],
      "metadata": {
        "colab": {
          "base_uri": "https://localhost:8080/"
        },
        "id": "hWjkTIyYSmoL",
        "outputId": "b71bea0a-ddc3-425e-eda5-8e8df00c190e"
      },
      "execution_count": null,
      "outputs": [
        {
          "output_type": "stream",
          "name": "stdout",
          "text": [
            "4.0\n",
            "4.0\n"
          ]
        }
      ]
    },
    {
      "cell_type": "markdown",
      "source": [
        "Mode"
      ],
      "metadata": {
        "id": "EX_MY3llTlyM"
      }
    },
    {
      "cell_type": "code",
      "source": [
        "u = [2, 3, 2, 8, 12]\n",
        "mode_ = max((u.count(item), item) for item in set(u))[1]\n",
        "mode_"
      ],
      "metadata": {
        "colab": {
          "base_uri": "https://localhost:8080/"
        },
        "id": "PVrAzSXHTmuR",
        "outputId": "d1eab392-ae6d-4e5c-f2d0-0e17146ee538"
      },
      "execution_count": null,
      "outputs": [
        {
          "output_type": "execute_result",
          "data": {
            "text/plain": [
              "2"
            ]
          },
          "metadata": {},
          "execution_count": 33
        }
      ]
    },
    {
      "cell_type": "code",
      "source": [
        "mode_ = statistics.mode(u)\n",
        "print(mode_)\n",
        "mode_ = statistics.multimode(u)\n",
        "print(mode_)"
      ],
      "metadata": {
        "colab": {
          "base_uri": "https://localhost:8080/"
        },
        "id": "ks7MPRudUG3c",
        "outputId": "822dcce8-37b2-4f1d-9ba6-b980e9d2f736"
      },
      "execution_count": null,
      "outputs": [
        {
          "output_type": "stream",
          "name": "stdout",
          "text": [
            "2\n",
            "[2]\n"
          ]
        }
      ]
    },
    {
      "cell_type": "code",
      "source": [
        "v = [12, 15, 12, 15, 21, 15, 12]\n",
        "print(statistics.mode(v))  # Raises StatisticsError\n",
        "print(statistics.multimode(v))"
      ],
      "metadata": {
        "colab": {
          "base_uri": "https://localhost:8080/"
        },
        "id": "fwsvAj2BUQVB",
        "outputId": "d860ba4a-d426-4a57-f75a-442052bbe7e6"
      },
      "execution_count": null,
      "outputs": [
        {
          "output_type": "stream",
          "name": "stdout",
          "text": [
            "12\n",
            "[12, 15]\n"
          ]
        }
      ]
    },
    {
      "cell_type": "code",
      "source": [
        "print(statistics.mode([2, math.nan, 2]))\n",
        "\n",
        "print(statistics.multimode([2, math.nan, 2]))\n",
        "\n",
        "print(statistics.mode([2, math.nan, 0, math.nan, 5]))\n",
        "\n",
        "print(statistics.multimode([2, math.nan, 0, math.nan, 5]))"
      ],
      "metadata": {
        "colab": {
          "base_uri": "https://localhost:8080/"
        },
        "id": "zMphAKzFUdIp",
        "outputId": "570c5cf0-b31f-480d-aff8-890e7cbd6483"
      },
      "execution_count": null,
      "outputs": [
        {
          "output_type": "stream",
          "name": "stdout",
          "text": [
            "2\n",
            "[2]\n",
            "nan\n",
            "[nan]\n"
          ]
        }
      ]
    },
    {
      "cell_type": "code",
      "source": [
        "u, v = np.array(u), np.array(v)\n",
        "mode_ = scipy.stats.mode(u)\n",
        "print(mode_)\n",
        "\n",
        "mode_ = scipy.stats.mode(v)\n",
        "print(mode_)"
      ],
      "metadata": {
        "colab": {
          "base_uri": "https://localhost:8080/"
        },
        "id": "YLju-gE7U6OS",
        "outputId": "179b83ca-9e71-4217-9286-9a77aaf8437e"
      },
      "execution_count": null,
      "outputs": [
        {
          "output_type": "stream",
          "name": "stdout",
          "text": [
            "ModeResult(mode=array([2]), count=array([2]))\n",
            "ModeResult(mode=array([12]), count=array([3]))\n"
          ]
        }
      ]
    },
    {
      "cell_type": "code",
      "source": [
        "print(mode_.mode)\n",
        "\n",
        "print(mode_.count)"
      ],
      "metadata": {
        "colab": {
          "base_uri": "https://localhost:8080/"
        },
        "id": "lEuqmYGtVHYY",
        "outputId": "867aa7ad-e02e-4d62-c88b-b449bdc299ee"
      },
      "execution_count": null,
      "outputs": [
        {
          "output_type": "stream",
          "name": "stdout",
          "text": [
            "[12]\n",
            "[3]\n"
          ]
        }
      ]
    },
    {
      "cell_type": "code",
      "source": [
        "u, v, w = pd.Series(u), pd.Series(v), pd.Series([2, 2, math.nan])\n",
        "print(u.mode())\n",
        "print(v.mode())\n",
        "print(w.mode())"
      ],
      "metadata": {
        "colab": {
          "base_uri": "https://localhost:8080/"
        },
        "id": "YrmG6QsIVTrg",
        "outputId": "23f3d464-5fe9-4773-fc35-93007f4da849"
      },
      "execution_count": null,
      "outputs": [
        {
          "output_type": "stream",
          "name": "stdout",
          "text": [
            "0    2\n",
            "dtype: int64\n",
            "0    12\n",
            "1    15\n",
            "dtype: int64\n",
            "0    2.0\n",
            "dtype: float64\n"
          ]
        }
      ]
    },
    {
      "cell_type": "markdown",
      "source": [
        "#####Measures of Variability\n"
      ],
      "metadata": {
        "id": "tRG7lgmIVemt"
      }
    },
    {
      "cell_type": "markdown",
      "source": [
        "Variance"
      ],
      "metadata": {
        "id": "sLvFM0P5WMgk"
      }
    },
    {
      "cell_type": "code",
      "source": [
        "n = len(x)\n",
        "mean_ = sum(x) / n\n",
        "var_ = sum((item - mean_)**2 for item in x) / (n - 1)\n",
        "var_"
      ],
      "metadata": {
        "colab": {
          "base_uri": "https://localhost:8080/"
        },
        "id": "4dLE7ZGYViwQ",
        "outputId": "d5d74130-1dc7-448e-dca8-6e918fda823f"
      },
      "execution_count": null,
      "outputs": [
        {
          "output_type": "execute_result",
          "data": {
            "text/plain": [
              "123.19999999999999"
            ]
          },
          "metadata": {},
          "execution_count": 42
        }
      ]
    },
    {
      "cell_type": "code",
      "source": [
        "print(statistics.variance(x))\n",
        "print(statistics.variance(x, mean_))"
      ],
      "metadata": {
        "colab": {
          "base_uri": "https://localhost:8080/"
        },
        "id": "aFvdl29lWYBM",
        "outputId": "4fdad23d-d811-4714-aed6-78b28113b58b"
      },
      "execution_count": null,
      "outputs": [
        {
          "output_type": "stream",
          "name": "stdout",
          "text": [
            "123.2\n",
            "123.2\n"
          ]
        }
      ]
    },
    {
      "cell_type": "code",
      "source": [
        "statistics.variance(x_with_nan)\n"
      ],
      "metadata": {
        "colab": {
          "base_uri": "https://localhost:8080/"
        },
        "id": "6ek3wXOHWrWi",
        "outputId": "e0a68116-86f4-4f11-88e9-c9612c20c41a"
      },
      "execution_count": null,
      "outputs": [
        {
          "output_type": "execute_result",
          "data": {
            "text/plain": [
              "nan"
            ]
          },
          "metadata": {},
          "execution_count": 47
        }
      ]
    },
    {
      "cell_type": "code",
      "source": [
        "var_ = np.var(y, ddof=1)\n",
        "print(var_)\n",
        "\n",
        "var_ = y.var(ddof=1)\n",
        "print(var_)"
      ],
      "metadata": {
        "colab": {
          "base_uri": "https://localhost:8080/"
        },
        "id": "CB2cXUicWxpm",
        "outputId": "fe6b1a54-596b-4017-ec5a-e4e73ef295bb"
      },
      "execution_count": null,
      "outputs": [
        {
          "output_type": "stream",
          "name": "stdout",
          "text": [
            "123.19999999999999\n",
            "123.19999999999999\n"
          ]
        }
      ]
    },
    {
      "cell_type": "code",
      "source": [
        "print(np.var(y_with_nan, ddof=1))\n",
        "\n",
        "print(y_with_nan.var(ddof=1))"
      ],
      "metadata": {
        "colab": {
          "base_uri": "https://localhost:8080/"
        },
        "id": "h3KngV0kW65U",
        "outputId": "f666e8d5-36c9-42ba-c4b1-102bde882644"
      },
      "execution_count": null,
      "outputs": [
        {
          "output_type": "stream",
          "name": "stdout",
          "text": [
            "nan\n",
            "nan\n"
          ]
        }
      ]
    },
    {
      "cell_type": "code",
      "source": [
        "np.nanvar(y_with_nan, ddof=1)\n"
      ],
      "metadata": {
        "colab": {
          "base_uri": "https://localhost:8080/"
        },
        "id": "cb-hWIsBXAhE",
        "outputId": "72cf4d0b-2135-4dbe-d410-baaa3a5179ff"
      },
      "execution_count": null,
      "outputs": [
        {
          "output_type": "execute_result",
          "data": {
            "text/plain": [
              "123.19999999999999"
            ]
          },
          "metadata": {},
          "execution_count": 50
        }
      ]
    },
    {
      "cell_type": "code",
      "source": [
        "print(z.var(ddof=1))\n",
        "\n",
        "print(z_with_nan.var(ddof=1))"
      ],
      "metadata": {
        "colab": {
          "base_uri": "https://localhost:8080/"
        },
        "id": "8-LS_9UXXEZ2",
        "outputId": "161206a5-6fc0-47ed-c91a-f79cbc61a0aa"
      },
      "execution_count": null,
      "outputs": [
        {
          "output_type": "stream",
          "name": "stdout",
          "text": [
            "123.19999999999999\n",
            "123.19999999999999\n"
          ]
        }
      ]
    },
    {
      "cell_type": "markdown",
      "source": [
        "Standard Deviation"
      ],
      "metadata": {
        "id": "5mPmV_SfXgWO"
      }
    },
    {
      "cell_type": "code",
      "source": [
        "std_ = var_ ** 0.5\n",
        "std_"
      ],
      "metadata": {
        "colab": {
          "base_uri": "https://localhost:8080/"
        },
        "id": "be79_GDSXiGi",
        "outputId": "b8847c57-4950-43f2-8cf2-fef76899f1ca"
      },
      "execution_count": null,
      "outputs": [
        {
          "output_type": "execute_result",
          "data": {
            "text/plain": [
              "11.099549540409285"
            ]
          },
          "metadata": {},
          "execution_count": 52
        }
      ]
    },
    {
      "cell_type": "code",
      "source": [
        "std_ = statistics.stdev(x)\n",
        "print(std_)\n",
        "print(statistics.stdev(x, mean_))"
      ],
      "metadata": {
        "colab": {
          "base_uri": "https://localhost:8080/"
        },
        "id": "y647CfH5Xr32",
        "outputId": "af9d9e96-80db-41ef-e863-7ab31ad1521a"
      },
      "execution_count": null,
      "outputs": [
        {
          "output_type": "stream",
          "name": "stdout",
          "text": [
            "11.099549540409287\n",
            "11.099549540409287\n"
          ]
        }
      ]
    },
    {
      "cell_type": "code",
      "source": [
        "np.std(y, ddof=1)\n",
        "\n",
        "y.std(ddof=1)\n",
        "\n",
        "np.std(y_with_nan, ddof=1)\n",
        "\n",
        "y_with_nan.std(ddof=1)\n",
        "\n",
        "np.nanstd(y_with_nan, ddof=1)"
      ],
      "metadata": {
        "colab": {
          "base_uri": "https://localhost:8080/"
        },
        "id": "2hAPmRa6X6Ui",
        "outputId": "7e7e16b1-3095-4b2c-df76-4cf3383517c9"
      },
      "execution_count": null,
      "outputs": [
        {
          "output_type": "execute_result",
          "data": {
            "text/plain": [
              "11.099549540409285"
            ]
          },
          "metadata": {},
          "execution_count": 56
        }
      ]
    },
    {
      "cell_type": "code",
      "source": [
        "z.std(ddof=1)\n",
        "\n",
        "z_with_nan.std(ddof=1)"
      ],
      "metadata": {
        "colab": {
          "base_uri": "https://localhost:8080/"
        },
        "id": "1-MZ-u2bX_QO",
        "outputId": "8cfc8157-5a70-46f1-94fb-3bf2e7c8f7ea"
      },
      "execution_count": null,
      "outputs": [
        {
          "output_type": "execute_result",
          "data": {
            "text/plain": [
              "11.099549540409285"
            ]
          },
          "metadata": {},
          "execution_count": 57
        }
      ]
    },
    {
      "cell_type": "markdown",
      "source": [
        "Skewness"
      ],
      "metadata": {
        "id": "IHMb_oijYaW1"
      }
    },
    {
      "cell_type": "markdown",
      "source": [
        "The first set is represented by the green dots and the second with the white ones. Usually, negative skewness values indicate that there’s a dominant tail on the left side, which you can see with the first set. Positive skewness values correspond to a longer or fatter tail on the right side, which you can see in the second set. If the skewness is close to 0 (for example, between −0.5 and 0.5), then the dataset is considered quite symmetrical."
      ],
      "metadata": {
        "id": "1DoqiIVFY0AQ"
      }
    },
    {
      "cell_type": "code",
      "source": [
        "x = [8.0, 1, 2.5, 4, 28.0]\n",
        "n = len(x)\n",
        "mean_ = sum(x) / n\n",
        "var_ = sum((item - mean_)**2 for item in x) / (n - 1)\n",
        "std_ = var_ ** 0.5\n",
        "skew_ = (sum((item - mean_)**3 for item in x)\n",
        "         * n / ((n - 1) * (n - 2) * std_**3))\n",
        "skew_"
      ],
      "metadata": {
        "colab": {
          "base_uri": "https://localhost:8080/"
        },
        "id": "GVFq6mnbYbG3",
        "outputId": "7578d22c-a37f-4838-a4e1-1b633ba1b83a"
      },
      "execution_count": null,
      "outputs": [
        {
          "output_type": "execute_result",
          "data": {
            "text/plain": [
              "1.9470432273905929"
            ]
          },
          "metadata": {},
          "execution_count": 58
        }
      ]
    },
    {
      "cell_type": "code",
      "source": [
        "y, y_with_nan = np.array(x), np.array(x_with_nan)\n",
        "print(scipy.stats.skew(y, bias=False))\n",
        "\n",
        "print(scipy.stats.skew(y_with_nan, bias=False))"
      ],
      "metadata": {
        "colab": {
          "base_uri": "https://localhost:8080/"
        },
        "id": "6kbFaS7JY-8A",
        "outputId": "be1b5049-eeb3-46b1-e6dd-dedb8b6956fa"
      },
      "execution_count": null,
      "outputs": [
        {
          "output_type": "stream",
          "name": "stdout",
          "text": [
            "1.9470432273905927\n",
            "nan\n"
          ]
        }
      ]
    },
    {
      "cell_type": "code",
      "source": [
        "z, z_with_nan = pd.Series(x), pd.Series(x_with_nan)\n",
        "print(z.skew())\n",
        "\n",
        "print(z_with_nan.skew())"
      ],
      "metadata": {
        "colab": {
          "base_uri": "https://localhost:8080/"
        },
        "id": "0025_FOpZLv4",
        "outputId": "735a2dee-2de1-4890-82e1-164493d58304"
      },
      "execution_count": null,
      "outputs": [
        {
          "output_type": "stream",
          "name": "stdout",
          "text": [
            "1.9470432273905924\n",
            "1.9470432273905924\n"
          ]
        }
      ]
    },
    {
      "cell_type": "markdown",
      "source": [
        "Percentiles"
      ],
      "metadata": {
        "id": "-5yOE_wuZRqa"
      }
    },
    {
      "cell_type": "code",
      "source": [
        "x = [-5.0, -1.1, 0.1, 2.0, 8.0, 12.8, 21.0, 25.8, 41.0]\n",
        "print(statistics.quantiles(x, n=2))\n",
        "\n",
        "print(statistics.quantiles(x, n=4, method='inclusive'))"
      ],
      "metadata": {
        "colab": {
          "base_uri": "https://localhost:8080/"
        },
        "id": "m0mDAw-HZSfx",
        "outputId": "f629d1bf-b66d-44fb-c4b0-c312a0b5cbda"
      },
      "execution_count": null,
      "outputs": [
        {
          "output_type": "stream",
          "name": "stdout",
          "text": [
            "[8.0]\n",
            "[0.1, 8.0, 21.0]\n"
          ]
        }
      ]
    },
    {
      "cell_type": "code",
      "source": [
        "y = np.array(x)\n",
        "print(np.percentile(y, 5))\n",
        "\n",
        "print(np.percentile(y, 95))"
      ],
      "metadata": {
        "colab": {
          "base_uri": "https://localhost:8080/"
        },
        "id": "7Us7jn6IaCrr",
        "outputId": "b56d37ab-67fb-4df8-ed18-8d1375453983"
      },
      "execution_count": null,
      "outputs": [
        {
          "output_type": "stream",
          "name": "stdout",
          "text": [
            "-3.44\n",
            "34.919999999999995\n"
          ]
        }
      ]
    },
    {
      "cell_type": "code",
      "source": [
        "print(np.percentile(y, [25, 50, 75]))\n",
        "\n",
        "print(np.median(y))"
      ],
      "metadata": {
        "colab": {
          "base_uri": "https://localhost:8080/"
        },
        "id": "KVpF1ly7aOyq",
        "outputId": "79b795e2-89b5-453e-e40b-ec48a341f275"
      },
      "execution_count": null,
      "outputs": [
        {
          "output_type": "stream",
          "name": "stdout",
          "text": [
            "[ 0.1  8.  21. ]\n",
            "8.0\n"
          ]
        }
      ]
    },
    {
      "cell_type": "code",
      "source": [
        "y_with_nan = np.insert(y, 2, np.nan)\n",
        "print(y_with_nan)\n",
        "\n",
        "print(np.nanpercentile(y_with_nan, [25, 50, 75]))"
      ],
      "metadata": {
        "colab": {
          "base_uri": "https://localhost:8080/"
        },
        "id": "AyaN0U2mapbi",
        "outputId": "4bbc3e70-2d8e-4281-f3aa-5ce5e9b33d01"
      },
      "execution_count": null,
      "outputs": [
        {
          "output_type": "stream",
          "name": "stdout",
          "text": [
            "[-5.  -1.1  nan  0.1  2.   8.  12.8 21.  25.8 41. ]\n",
            "[ 0.1  8.  21. ]\n"
          ]
        }
      ]
    },
    {
      "cell_type": "code",
      "source": [
        "np.quantile(y, 0.05)\n",
        "\n",
        "np.quantile(y, 0.95)\n",
        "\n",
        "np.quantile(y, [0.25, 0.5, 0.75])\n",
        "\n",
        "np.nanquantile(y_with_nan, [0.25, 0.5, 0.75])"
      ],
      "metadata": {
        "colab": {
          "base_uri": "https://localhost:8080/"
        },
        "id": "NGVMJrUOazsB",
        "outputId": "3b5a3168-617c-4724-9898-5f5ccad33463"
      },
      "execution_count": null,
      "outputs": [
        {
          "output_type": "execute_result",
          "data": {
            "text/plain": [
              "array([ 0.1,  8. , 21. ])"
            ]
          },
          "metadata": {},
          "execution_count": 65
        }
      ]
    },
    {
      "cell_type": "code",
      "source": [
        "z, z_with_nan = pd.Series(y), pd.Series(y_with_nan)\n",
        "z.quantile(0.05)\n",
        "\n",
        "z.quantile(0.95)\n",
        "\n",
        "z.quantile([0.25, 0.5, 0.75])\n",
        "\n",
        "z_with_nan.quantile([0.25, 0.5, 0.75])"
      ],
      "metadata": {
        "colab": {
          "base_uri": "https://localhost:8080/"
        },
        "id": "fw5rbcxLa68J",
        "outputId": "2314c000-aa77-4fa4-c369-460f918595fa"
      },
      "execution_count": null,
      "outputs": [
        {
          "output_type": "execute_result",
          "data": {
            "text/plain": [
              "0.25     0.1\n",
              "0.50     8.0\n",
              "0.75    21.0\n",
              "dtype: float64"
            ]
          },
          "metadata": {},
          "execution_count": 66
        }
      ]
    },
    {
      "cell_type": "markdown",
      "source": [
        "Summary of Descriptive Statistics"
      ],
      "metadata": {
        "id": "9X6MRDYnc9LS"
      }
    },
    {
      "cell_type": "code",
      "source": [
        "result = scipy.stats.describe(y, ddof=1, bias=False)\n",
        "result"
      ],
      "metadata": {
        "colab": {
          "base_uri": "https://localhost:8080/"
        },
        "id": "ixIE92-tcsBF",
        "outputId": "06c2314e-2b58-4a77-9a6f-08af3444b9dc"
      },
      "execution_count": null,
      "outputs": [
        {
          "output_type": "execute_result",
          "data": {
            "text/plain": [
              "DescribeResult(nobs=9, minmax=(-5.0, 41.0), mean=11.622222222222222, variance=228.75194444444446, skewness=0.9249043136685094, kurtosis=0.14770623629658886)"
            ]
          },
          "metadata": {},
          "execution_count": 67
        }
      ]
    },
    {
      "cell_type": "code",
      "source": [
        "result.nobs\n",
        "\n",
        "result.minmax[0]  # Min\n",
        "\n",
        "result.minmax[1]  # Max\n",
        "\n",
        "result.mean\n",
        "\n",
        "result.variance\n",
        "\n",
        "result.skewness\n",
        "\n",
        "result.kurtosis"
      ],
      "metadata": {
        "id": "lr6zM2g9c8LI"
      },
      "execution_count": null,
      "outputs": []
    },
    {
      "cell_type": "code",
      "source": [
        "result = z.describe()\n",
        "result"
      ],
      "metadata": {
        "colab": {
          "base_uri": "https://localhost:8080/"
        },
        "id": "-acefjfodLlY",
        "outputId": "cec063bf-7b3d-43cf-befd-0f3eb5fcdac9"
      },
      "execution_count": null,
      "outputs": [
        {
          "output_type": "execute_result",
          "data": {
            "text/plain": [
              "count     9.000000\n",
              "mean     11.622222\n",
              "std      15.124548\n",
              "min      -5.000000\n",
              "25%       0.100000\n",
              "50%       8.000000\n",
              "75%      21.000000\n",
              "max      41.000000\n",
              "dtype: float64"
            ]
          },
          "metadata": {},
          "execution_count": 68
        }
      ]
    },
    {
      "cell_type": "code",
      "source": [
        "result['mean']\n",
        "\n",
        "result['std']\n",
        "\n",
        "result['min']\n",
        "\n",
        "result['max']\n",
        "\n",
        "result['25%']\n",
        "\n",
        "result['50%']\n",
        "\n",
        "result['75%']"
      ],
      "metadata": {
        "colab": {
          "base_uri": "https://localhost:8080/"
        },
        "id": "lB0Sqfl2dTck",
        "outputId": "4e406ab3-c0de-4559-9eb7-b79d73bfac84"
      },
      "execution_count": null,
      "outputs": [
        {
          "output_type": "execute_result",
          "data": {
            "text/plain": [
              "21.0"
            ]
          },
          "metadata": {},
          "execution_count": 69
        }
      ]
    },
    {
      "cell_type": "markdown",
      "source": [
        "#####Measures of Correlation Between Pairs of Data"
      ],
      "metadata": {
        "id": "j7hcVOCIdXMl"
      }
    },
    {
      "cell_type": "code",
      "source": [
        "x = list(range(-10, 11))\n",
        "y = [0, 2, 2, 2, 2, 3, 3, 6, 7, 4, 7, 6, 6, 9, 4, 5, 5, 10, 11, 12, 14]\n",
        "x_, y_ = np.array(x), np.array(y)\n",
        "x__, y__ = pd.Series(x_), pd.Series(y_)"
      ],
      "metadata": {
        "id": "9nlx577RdZsM"
      },
      "execution_count": null,
      "outputs": []
    },
    {
      "cell_type": "markdown",
      "source": [
        "Covariance"
      ],
      "metadata": {
        "id": "3X8m6V1Kd2ve"
      }
    },
    {
      "cell_type": "markdown",
      "source": [
        "The sample covariance is a measure that quantifies the strength and direction of a relationship between a pair of variables:\n",
        "\n",
        "If the correlation is positive, then the covariance is positive, as well. A stronger relationship corresponds to a higher value of the covariance.\n",
        "If the correlation is negative, then the covariance is negative, as well. A stronger relationship corresponds to a lower (or higher absolute) value of the covariance.\n",
        "If the correlation is weak, then the covariance is close to zero."
      ],
      "metadata": {
        "id": "zaCKrqm2eB5K"
      }
    },
    {
      "cell_type": "code",
      "source": [
        "n = len(x)\n",
        "mean_x, mean_y = sum(x) / n, sum(y) / n\n",
        "cov_xy = (sum((x[k] - mean_x) * (y[k] - mean_y) for k in range(n))\n",
        "          / (n - 1))\n",
        "cov_xy"
      ],
      "metadata": {
        "colab": {
          "base_uri": "https://localhost:8080/"
        },
        "id": "nTIM_ntYd4Pd",
        "outputId": "24738c79-7866-4223-d86d-3ed9a55fd074"
      },
      "execution_count": null,
      "outputs": [
        {
          "output_type": "execute_result",
          "data": {
            "text/plain": [
              "19.95"
            ]
          },
          "metadata": {},
          "execution_count": 71
        }
      ]
    },
    {
      "cell_type": "code",
      "source": [
        "cov_matrix = np.cov(x_, y_)\n",
        "cov_matrix"
      ],
      "metadata": {
        "colab": {
          "base_uri": "https://localhost:8080/"
        },
        "id": "-J0cjg9teXEQ",
        "outputId": "00353f55-5c83-4a59-e72a-c9665457d459"
      },
      "execution_count": null,
      "outputs": [
        {
          "output_type": "execute_result",
          "data": {
            "text/plain": [
              "array([[38.5       , 19.95      ],\n",
              "       [19.95      , 13.91428571]])"
            ]
          },
          "metadata": {},
          "execution_count": 72
        }
      ]
    },
    {
      "cell_type": "code",
      "source": [
        "cov_xy = x__.cov(y__)\n",
        "cov_xy\n",
        "\n",
        "cov_xy = y__.cov(x__)\n",
        "cov_xy"
      ],
      "metadata": {
        "colab": {
          "base_uri": "https://localhost:8080/"
        },
        "id": "I14LZ-TFeord",
        "outputId": "00736d92-89e0-4192-db48-740cf33d1ef2"
      },
      "execution_count": null,
      "outputs": [
        {
          "output_type": "execute_result",
          "data": {
            "text/plain": [
              "19.95"
            ]
          },
          "metadata": {},
          "execution_count": 73
        }
      ]
    },
    {
      "cell_type": "markdown",
      "source": [
        "Correlation Coefficient"
      ],
      "metadata": {
        "id": "e1yPzdIGerpm"
      }
    },
    {
      "cell_type": "code",
      "source": [
        "var_x = sum((item - mean_x)**2 for item in x) / (n - 1)\n",
        "var_y = sum((item - mean_y)**2 for item in y) / (n - 1)\n",
        "std_x, std_y = var_x ** 0.5, var_y ** 0.5\n",
        "r = cov_xy / (std_x * std_y)\n",
        "r"
      ],
      "metadata": {
        "colab": {
          "base_uri": "https://localhost:8080/"
        },
        "id": "9ToNQVqne-oG",
        "outputId": "a2cc1e25-24f0-40f2-c824-0ce7fab3a0d0"
      },
      "execution_count": null,
      "outputs": [
        {
          "output_type": "execute_result",
          "data": {
            "text/plain": [
              "0.861950005631606"
            ]
          },
          "metadata": {},
          "execution_count": 74
        }
      ]
    },
    {
      "cell_type": "code",
      "source": [
        "r, p = scipy.stats.pearsonr(x_, y_)\n",
        "print(r)\n",
        "print(p)"
      ],
      "metadata": {
        "colab": {
          "base_uri": "https://localhost:8080/"
        },
        "id": "gJM6jt8VfGOM",
        "outputId": "8d65cf22-0e6b-4f30-8130-5a8861dc07fc"
      },
      "execution_count": null,
      "outputs": [
        {
          "output_type": "stream",
          "name": "stdout",
          "text": [
            "0.8619500056316061\n",
            "5.122760847201135e-07\n"
          ]
        }
      ]
    },
    {
      "cell_type": "code",
      "source": [
        "corr_matrix = np.corrcoef(x_, y_)\n",
        "corr_matrix"
      ],
      "metadata": {
        "colab": {
          "base_uri": "https://localhost:8080/"
        },
        "id": "ljonB9tvfQJY",
        "outputId": "9dd79f31-5eae-403d-9bdf-146a6dd1e8d5"
      },
      "execution_count": null,
      "outputs": [
        {
          "output_type": "execute_result",
          "data": {
            "text/plain": [
              "array([[1.        , 0.86195001],\n",
              "       [0.86195001, 1.        ]])"
            ]
          },
          "metadata": {},
          "execution_count": 76
        }
      ]
    },
    {
      "cell_type": "code",
      "source": [
        "scipy.stats.linregress(x_, y_)"
      ],
      "metadata": {
        "colab": {
          "base_uri": "https://localhost:8080/"
        },
        "id": "eZM1mBOzfXC3",
        "outputId": "25323762-420b-4a48-b29a-c01b2e061344"
      },
      "execution_count": null,
      "outputs": [
        {
          "output_type": "execute_result",
          "data": {
            "text/plain": [
              "LinregressResult(slope=0.5181818181818181, intercept=5.714285714285714, rvalue=0.861950005631606, pvalue=5.122760847201164e-07, stderr=0.06992387660074979, intercept_stderr=0.4234100995002589)"
            ]
          },
          "metadata": {},
          "execution_count": 77
        }
      ]
    },
    {
      "cell_type": "code",
      "source": [
        "result = scipy.stats.linregress(x_, y_)\n",
        "r = result.rvalue\n",
        "r"
      ],
      "metadata": {
        "colab": {
          "base_uri": "https://localhost:8080/"
        },
        "id": "lMgo2ah0fgtk",
        "outputId": "8bc1f6c2-0884-40bb-f2e3-a32fa6fffbff"
      },
      "execution_count": null,
      "outputs": [
        {
          "output_type": "execute_result",
          "data": {
            "text/plain": [
              "0.861950005631606"
            ]
          },
          "metadata": {},
          "execution_count": 78
        }
      ]
    },
    {
      "cell_type": "code",
      "source": [
        "r = x__.corr(y__)\n",
        "r\n",
        "\n",
        "r = y__.corr(x__)\n",
        "r"
      ],
      "metadata": {
        "colab": {
          "base_uri": "https://localhost:8080/"
        },
        "id": "dehO6RpRfk3H",
        "outputId": "8b653eed-b45c-459e-f3b3-dafaa6ad3e44"
      },
      "execution_count": null,
      "outputs": [
        {
          "output_type": "execute_result",
          "data": {
            "text/plain": [
              "0.861950005631606"
            ]
          },
          "metadata": {},
          "execution_count": 79
        }
      ]
    },
    {
      "cell_type": "markdown",
      "source": [
        "####Working With 2D Data"
      ],
      "metadata": {
        "id": "8KT0p0D7fovk"
      }
    },
    {
      "cell_type": "markdown",
      "source": [
        "Axes"
      ],
      "metadata": {
        "id": "GuGGaFW5f40F"
      }
    },
    {
      "cell_type": "code",
      "source": [
        "a = np.array([[1, 1, 1],\n",
        "              [2, 3, 1],\n",
        "              [4, 9, 2],\n",
        "              [8, 27, 4],\n",
        "              [16, 1, 1]])\n",
        "a"
      ],
      "metadata": {
        "colab": {
          "base_uri": "https://localhost:8080/"
        },
        "id": "Q6AxJNKefrhY",
        "outputId": "79a9bd6b-0bac-415e-a57f-c75ba3400de4"
      },
      "execution_count": null,
      "outputs": [
        {
          "output_type": "execute_result",
          "data": {
            "text/plain": [
              "array([[ 1,  1,  1],\n",
              "       [ 2,  3,  1],\n",
              "       [ 4,  9,  2],\n",
              "       [ 8, 27,  4],\n",
              "       [16,  1,  1]])"
            ]
          },
          "metadata": {},
          "execution_count": 80
        }
      ]
    },
    {
      "cell_type": "code",
      "source": [
        "np.mean(a)\n",
        "\n",
        "a.mean()\n",
        "\n",
        "np.median(a)\n",
        "\n",
        "a.var(ddof=1)"
      ],
      "metadata": {
        "colab": {
          "base_uri": "https://localhost:8080/"
        },
        "id": "PNgg1CSQgEfj",
        "outputId": "f576a230-e818-45d9-f820-70418a9824b3"
      },
      "execution_count": null,
      "outputs": [
        {
          "output_type": "execute_result",
          "data": {
            "text/plain": [
              "53.40000000000001"
            ]
          },
          "metadata": {},
          "execution_count": 81
        }
      ]
    },
    {
      "cell_type": "markdown",
      "source": [
        "The functions and methods you’ve used so far have one optional parameter called axis, which is essential for handling 2D data. axis can take on any of the following values:\n",
        "\n",
        "axis=None says to calculate the statistics across all data in the array. The examples above work like this. This behavior is often the default in NumPy.\n",
        "axis=0 says to calculate the statistics across all rows, that is, for each column of the array. This behavior is often the default for SciPy statistical functions.\n",
        "axis=1 says to calculate the statistics across all columns, that is, for each row of the array."
      ],
      "metadata": {
        "id": "2yjqXF8wgj9T"
      }
    },
    {
      "cell_type": "code",
      "source": [
        "np.mean(a, axis=0)\n",
        "\n",
        "a.mean(axis=0)"
      ],
      "metadata": {
        "colab": {
          "base_uri": "https://localhost:8080/"
        },
        "id": "5n13b6SAgg5-",
        "outputId": "4f5c10b5-55b8-4774-a0ad-90929432967a"
      },
      "execution_count": null,
      "outputs": [
        {
          "output_type": "execute_result",
          "data": {
            "text/plain": [
              "array([6.2, 8.2, 1.8])"
            ]
          },
          "metadata": {},
          "execution_count": 82
        }
      ]
    },
    {
      "cell_type": "code",
      "source": [
        "np.mean(a, axis=1)\n",
        "\n",
        "a.mean(axis=1)"
      ],
      "metadata": {
        "colab": {
          "base_uri": "https://localhost:8080/"
        },
        "id": "qxXNCiQlg1_5",
        "outputId": "779b3a36-b585-4552-e0b8-5b7d4acb8ad7"
      },
      "execution_count": null,
      "outputs": [
        {
          "output_type": "execute_result",
          "data": {
            "text/plain": [
              "array([ 1.,  2.,  5., 13.,  6.])"
            ]
          },
          "metadata": {},
          "execution_count": 83
        }
      ]
    },
    {
      "cell_type": "code",
      "source": [
        "np.median(a, axis=0)\n",
        "\n",
        "np.median(a, axis=1)\n",
        "\n",
        "a.var(axis=0, ddof=1)\n",
        "\n",
        "a.var(axis=1, ddof=1)"
      ],
      "metadata": {
        "colab": {
          "base_uri": "https://localhost:8080/"
        },
        "id": "zJRHJFisg8Ga",
        "outputId": "a5963ca6-d445-4b5a-d9d4-87d88494da8a"
      },
      "execution_count": null,
      "outputs": [
        {
          "output_type": "execute_result",
          "data": {
            "text/plain": [
              "array([  0.,   1.,  13., 151.,  75.])"
            ]
          },
          "metadata": {},
          "execution_count": 84
        }
      ]
    },
    {
      "cell_type": "markdown",
      "source": [
        "DataFrames"
      ],
      "metadata": {
        "id": "OTPVw62Rhvuj"
      }
    },
    {
      "cell_type": "code",
      "source": [
        "row_names = ['first', 'second', 'third', 'fourth', 'fifth']\n",
        "col_names = ['A', 'B', 'C']\n",
        "df = pd.DataFrame(a, index=row_names, columns=col_names)\n",
        "df"
      ],
      "metadata": {
        "colab": {
          "base_uri": "https://localhost:8080/",
          "height": 206
        },
        "id": "w8-hptV_hwnx",
        "outputId": "9f1360b3-ec3a-4db3-866c-769035fcadc1"
      },
      "execution_count": null,
      "outputs": [
        {
          "output_type": "execute_result",
          "data": {
            "text/plain": [
              "         A   B  C\n",
              "first    1   1  1\n",
              "second   2   3  1\n",
              "third    4   9  2\n",
              "fourth   8  27  4\n",
              "fifth   16   1  1"
            ],
            "text/html": [
              "\n",
              "  <div id=\"df-76fc53f9-6af8-4f4e-a05d-1584349e64a3\">\n",
              "    <div class=\"colab-df-container\">\n",
              "      <div>\n",
              "<style scoped>\n",
              "    .dataframe tbody tr th:only-of-type {\n",
              "        vertical-align: middle;\n",
              "    }\n",
              "\n",
              "    .dataframe tbody tr th {\n",
              "        vertical-align: top;\n",
              "    }\n",
              "\n",
              "    .dataframe thead th {\n",
              "        text-align: right;\n",
              "    }\n",
              "</style>\n",
              "<table border=\"1\" class=\"dataframe\">\n",
              "  <thead>\n",
              "    <tr style=\"text-align: right;\">\n",
              "      <th></th>\n",
              "      <th>A</th>\n",
              "      <th>B</th>\n",
              "      <th>C</th>\n",
              "    </tr>\n",
              "  </thead>\n",
              "  <tbody>\n",
              "    <tr>\n",
              "      <th>first</th>\n",
              "      <td>1</td>\n",
              "      <td>1</td>\n",
              "      <td>1</td>\n",
              "    </tr>\n",
              "    <tr>\n",
              "      <th>second</th>\n",
              "      <td>2</td>\n",
              "      <td>3</td>\n",
              "      <td>1</td>\n",
              "    </tr>\n",
              "    <tr>\n",
              "      <th>third</th>\n",
              "      <td>4</td>\n",
              "      <td>9</td>\n",
              "      <td>2</td>\n",
              "    </tr>\n",
              "    <tr>\n",
              "      <th>fourth</th>\n",
              "      <td>8</td>\n",
              "      <td>27</td>\n",
              "      <td>4</td>\n",
              "    </tr>\n",
              "    <tr>\n",
              "      <th>fifth</th>\n",
              "      <td>16</td>\n",
              "      <td>1</td>\n",
              "      <td>1</td>\n",
              "    </tr>\n",
              "  </tbody>\n",
              "</table>\n",
              "</div>\n",
              "      <button class=\"colab-df-convert\" onclick=\"convertToInteractive('df-76fc53f9-6af8-4f4e-a05d-1584349e64a3')\"\n",
              "              title=\"Convert this dataframe to an interactive table.\"\n",
              "              style=\"display:none;\">\n",
              "        \n",
              "  <svg xmlns=\"http://www.w3.org/2000/svg\" height=\"24px\"viewBox=\"0 0 24 24\"\n",
              "       width=\"24px\">\n",
              "    <path d=\"M0 0h24v24H0V0z\" fill=\"none\"/>\n",
              "    <path d=\"M18.56 5.44l.94 2.06.94-2.06 2.06-.94-2.06-.94-.94-2.06-.94 2.06-2.06.94zm-11 1L8.5 8.5l.94-2.06 2.06-.94-2.06-.94L8.5 2.5l-.94 2.06-2.06.94zm10 10l.94 2.06.94-2.06 2.06-.94-2.06-.94-.94-2.06-.94 2.06-2.06.94z\"/><path d=\"M17.41 7.96l-1.37-1.37c-.4-.4-.92-.59-1.43-.59-.52 0-1.04.2-1.43.59L10.3 9.45l-7.72 7.72c-.78.78-.78 2.05 0 2.83L4 21.41c.39.39.9.59 1.41.59.51 0 1.02-.2 1.41-.59l7.78-7.78 2.81-2.81c.8-.78.8-2.07 0-2.86zM5.41 20L4 18.59l7.72-7.72 1.47 1.35L5.41 20z\"/>\n",
              "  </svg>\n",
              "      </button>\n",
              "      \n",
              "  <style>\n",
              "    .colab-df-container {\n",
              "      display:flex;\n",
              "      flex-wrap:wrap;\n",
              "      gap: 12px;\n",
              "    }\n",
              "\n",
              "    .colab-df-convert {\n",
              "      background-color: #E8F0FE;\n",
              "      border: none;\n",
              "      border-radius: 50%;\n",
              "      cursor: pointer;\n",
              "      display: none;\n",
              "      fill: #1967D2;\n",
              "      height: 32px;\n",
              "      padding: 0 0 0 0;\n",
              "      width: 32px;\n",
              "    }\n",
              "\n",
              "    .colab-df-convert:hover {\n",
              "      background-color: #E2EBFA;\n",
              "      box-shadow: 0px 1px 2px rgba(60, 64, 67, 0.3), 0px 1px 3px 1px rgba(60, 64, 67, 0.15);\n",
              "      fill: #174EA6;\n",
              "    }\n",
              "\n",
              "    [theme=dark] .colab-df-convert {\n",
              "      background-color: #3B4455;\n",
              "      fill: #D2E3FC;\n",
              "    }\n",
              "\n",
              "    [theme=dark] .colab-df-convert:hover {\n",
              "      background-color: #434B5C;\n",
              "      box-shadow: 0px 1px 3px 1px rgba(0, 0, 0, 0.15);\n",
              "      filter: drop-shadow(0px 1px 2px rgba(0, 0, 0, 0.3));\n",
              "      fill: #FFFFFF;\n",
              "    }\n",
              "  </style>\n",
              "\n",
              "      <script>\n",
              "        const buttonEl =\n",
              "          document.querySelector('#df-76fc53f9-6af8-4f4e-a05d-1584349e64a3 button.colab-df-convert');\n",
              "        buttonEl.style.display =\n",
              "          google.colab.kernel.accessAllowed ? 'block' : 'none';\n",
              "\n",
              "        async function convertToInteractive(key) {\n",
              "          const element = document.querySelector('#df-76fc53f9-6af8-4f4e-a05d-1584349e64a3');\n",
              "          const dataTable =\n",
              "            await google.colab.kernel.invokeFunction('convertToInteractive',\n",
              "                                                     [key], {});\n",
              "          if (!dataTable) return;\n",
              "\n",
              "          const docLinkHtml = 'Like what you see? Visit the ' +\n",
              "            '<a target=\"_blank\" href=https://colab.research.google.com/notebooks/data_table.ipynb>data table notebook</a>'\n",
              "            + ' to learn more about interactive tables.';\n",
              "          element.innerHTML = '';\n",
              "          dataTable['output_type'] = 'display_data';\n",
              "          await google.colab.output.renderOutput(dataTable, element);\n",
              "          const docLink = document.createElement('div');\n",
              "          docLink.innerHTML = docLinkHtml;\n",
              "          element.appendChild(docLink);\n",
              "        }\n",
              "      </script>\n",
              "    </div>\n",
              "  </div>\n",
              "  "
            ]
          },
          "metadata": {},
          "execution_count": 86
        }
      ]
    },
    {
      "cell_type": "code",
      "source": [
        "df['A']"
      ],
      "metadata": {
        "colab": {
          "base_uri": "https://localhost:8080/"
        },
        "id": "7ZGprMPOiL9O",
        "outputId": "5f39676b-7f94-453e-850b-670f0eb06a67"
      },
      "execution_count": null,
      "outputs": [
        {
          "output_type": "execute_result",
          "data": {
            "text/plain": [
              "first      1\n",
              "second     2\n",
              "third      4\n",
              "fourth     8\n",
              "fifth     16\n",
              "Name: A, dtype: int64"
            ]
          },
          "metadata": {},
          "execution_count": 87
        }
      ]
    },
    {
      "cell_type": "code",
      "source": [
        "df['A'].mean()\n",
        "\n",
        "df['A'].var()"
      ],
      "metadata": {
        "colab": {
          "base_uri": "https://localhost:8080/"
        },
        "id": "w9XOCc__iQTb",
        "outputId": "cb90c2ed-13bd-486b-9d6d-e80aafb3fee9"
      },
      "execution_count": null,
      "outputs": [
        {
          "output_type": "execute_result",
          "data": {
            "text/plain": [
              "37.20000000000001"
            ]
          },
          "metadata": {},
          "execution_count": 88
        }
      ]
    },
    {
      "cell_type": "code",
      "source": [
        "df.describe()"
      ],
      "metadata": {
        "colab": {
          "base_uri": "https://localhost:8080/",
          "height": 300
        },
        "id": "equQJ_CpiiCP",
        "outputId": "430c9849-2b38-4570-8052-b3b2d3efd095"
      },
      "execution_count": null,
      "outputs": [
        {
          "output_type": "execute_result",
          "data": {
            "text/plain": [
              "              A          B        C\n",
              "count   5.00000   5.000000  5.00000\n",
              "mean    6.20000   8.200000  1.80000\n",
              "std     6.09918  11.009087  1.30384\n",
              "min     1.00000   1.000000  1.00000\n",
              "25%     2.00000   1.000000  1.00000\n",
              "50%     4.00000   3.000000  1.00000\n",
              "75%     8.00000   9.000000  2.00000\n",
              "max    16.00000  27.000000  4.00000"
            ],
            "text/html": [
              "\n",
              "  <div id=\"df-02d910d1-3376-41da-ac2e-0430d6eb0a40\">\n",
              "    <div class=\"colab-df-container\">\n",
              "      <div>\n",
              "<style scoped>\n",
              "    .dataframe tbody tr th:only-of-type {\n",
              "        vertical-align: middle;\n",
              "    }\n",
              "\n",
              "    .dataframe tbody tr th {\n",
              "        vertical-align: top;\n",
              "    }\n",
              "\n",
              "    .dataframe thead th {\n",
              "        text-align: right;\n",
              "    }\n",
              "</style>\n",
              "<table border=\"1\" class=\"dataframe\">\n",
              "  <thead>\n",
              "    <tr style=\"text-align: right;\">\n",
              "      <th></th>\n",
              "      <th>A</th>\n",
              "      <th>B</th>\n",
              "      <th>C</th>\n",
              "    </tr>\n",
              "  </thead>\n",
              "  <tbody>\n",
              "    <tr>\n",
              "      <th>count</th>\n",
              "      <td>5.00000</td>\n",
              "      <td>5.000000</td>\n",
              "      <td>5.00000</td>\n",
              "    </tr>\n",
              "    <tr>\n",
              "      <th>mean</th>\n",
              "      <td>6.20000</td>\n",
              "      <td>8.200000</td>\n",
              "      <td>1.80000</td>\n",
              "    </tr>\n",
              "    <tr>\n",
              "      <th>std</th>\n",
              "      <td>6.09918</td>\n",
              "      <td>11.009087</td>\n",
              "      <td>1.30384</td>\n",
              "    </tr>\n",
              "    <tr>\n",
              "      <th>min</th>\n",
              "      <td>1.00000</td>\n",
              "      <td>1.000000</td>\n",
              "      <td>1.00000</td>\n",
              "    </tr>\n",
              "    <tr>\n",
              "      <th>25%</th>\n",
              "      <td>2.00000</td>\n",
              "      <td>1.000000</td>\n",
              "      <td>1.00000</td>\n",
              "    </tr>\n",
              "    <tr>\n",
              "      <th>50%</th>\n",
              "      <td>4.00000</td>\n",
              "      <td>3.000000</td>\n",
              "      <td>1.00000</td>\n",
              "    </tr>\n",
              "    <tr>\n",
              "      <th>75%</th>\n",
              "      <td>8.00000</td>\n",
              "      <td>9.000000</td>\n",
              "      <td>2.00000</td>\n",
              "    </tr>\n",
              "    <tr>\n",
              "      <th>max</th>\n",
              "      <td>16.00000</td>\n",
              "      <td>27.000000</td>\n",
              "      <td>4.00000</td>\n",
              "    </tr>\n",
              "  </tbody>\n",
              "</table>\n",
              "</div>\n",
              "      <button class=\"colab-df-convert\" onclick=\"convertToInteractive('df-02d910d1-3376-41da-ac2e-0430d6eb0a40')\"\n",
              "              title=\"Convert this dataframe to an interactive table.\"\n",
              "              style=\"display:none;\">\n",
              "        \n",
              "  <svg xmlns=\"http://www.w3.org/2000/svg\" height=\"24px\"viewBox=\"0 0 24 24\"\n",
              "       width=\"24px\">\n",
              "    <path d=\"M0 0h24v24H0V0z\" fill=\"none\"/>\n",
              "    <path d=\"M18.56 5.44l.94 2.06.94-2.06 2.06-.94-2.06-.94-.94-2.06-.94 2.06-2.06.94zm-11 1L8.5 8.5l.94-2.06 2.06-.94-2.06-.94L8.5 2.5l-.94 2.06-2.06.94zm10 10l.94 2.06.94-2.06 2.06-.94-2.06-.94-.94-2.06-.94 2.06-2.06.94z\"/><path d=\"M17.41 7.96l-1.37-1.37c-.4-.4-.92-.59-1.43-.59-.52 0-1.04.2-1.43.59L10.3 9.45l-7.72 7.72c-.78.78-.78 2.05 0 2.83L4 21.41c.39.39.9.59 1.41.59.51 0 1.02-.2 1.41-.59l7.78-7.78 2.81-2.81c.8-.78.8-2.07 0-2.86zM5.41 20L4 18.59l7.72-7.72 1.47 1.35L5.41 20z\"/>\n",
              "  </svg>\n",
              "      </button>\n",
              "      \n",
              "  <style>\n",
              "    .colab-df-container {\n",
              "      display:flex;\n",
              "      flex-wrap:wrap;\n",
              "      gap: 12px;\n",
              "    }\n",
              "\n",
              "    .colab-df-convert {\n",
              "      background-color: #E8F0FE;\n",
              "      border: none;\n",
              "      border-radius: 50%;\n",
              "      cursor: pointer;\n",
              "      display: none;\n",
              "      fill: #1967D2;\n",
              "      height: 32px;\n",
              "      padding: 0 0 0 0;\n",
              "      width: 32px;\n",
              "    }\n",
              "\n",
              "    .colab-df-convert:hover {\n",
              "      background-color: #E2EBFA;\n",
              "      box-shadow: 0px 1px 2px rgba(60, 64, 67, 0.3), 0px 1px 3px 1px rgba(60, 64, 67, 0.15);\n",
              "      fill: #174EA6;\n",
              "    }\n",
              "\n",
              "    [theme=dark] .colab-df-convert {\n",
              "      background-color: #3B4455;\n",
              "      fill: #D2E3FC;\n",
              "    }\n",
              "\n",
              "    [theme=dark] .colab-df-convert:hover {\n",
              "      background-color: #434B5C;\n",
              "      box-shadow: 0px 1px 3px 1px rgba(0, 0, 0, 0.15);\n",
              "      filter: drop-shadow(0px 1px 2px rgba(0, 0, 0, 0.3));\n",
              "      fill: #FFFFFF;\n",
              "    }\n",
              "  </style>\n",
              "\n",
              "      <script>\n",
              "        const buttonEl =\n",
              "          document.querySelector('#df-02d910d1-3376-41da-ac2e-0430d6eb0a40 button.colab-df-convert');\n",
              "        buttonEl.style.display =\n",
              "          google.colab.kernel.accessAllowed ? 'block' : 'none';\n",
              "\n",
              "        async function convertToInteractive(key) {\n",
              "          const element = document.querySelector('#df-02d910d1-3376-41da-ac2e-0430d6eb0a40');\n",
              "          const dataTable =\n",
              "            await google.colab.kernel.invokeFunction('convertToInteractive',\n",
              "                                                     [key], {});\n",
              "          if (!dataTable) return;\n",
              "\n",
              "          const docLinkHtml = 'Like what you see? Visit the ' +\n",
              "            '<a target=\"_blank\" href=https://colab.research.google.com/notebooks/data_table.ipynb>data table notebook</a>'\n",
              "            + ' to learn more about interactive tables.';\n",
              "          element.innerHTML = '';\n",
              "          dataTable['output_type'] = 'display_data';\n",
              "          await google.colab.output.renderOutput(dataTable, element);\n",
              "          const docLink = document.createElement('div');\n",
              "          docLink.innerHTML = docLinkHtml;\n",
              "          element.appendChild(docLink);\n",
              "        }\n",
              "      </script>\n",
              "    </div>\n",
              "  </div>\n",
              "  "
            ]
          },
          "metadata": {},
          "execution_count": 89
        }
      ]
    },
    {
      "cell_type": "markdown",
      "source": [
        "####Visualizing Data"
      ],
      "metadata": {
        "id": "Jgv0A9D1izlF"
      }
    },
    {
      "cell_type": "code",
      "source": [
        "import matplotlib.pyplot as plt\n",
        "plt.style.use('ggplot')"
      ],
      "metadata": {
        "id": "vmwt47hDi1ku"
      },
      "execution_count": null,
      "outputs": []
    },
    {
      "cell_type": "markdown",
      "source": [
        "Boxplot"
      ],
      "metadata": {
        "id": "tq-C1sIPjYUM"
      }
    },
    {
      "cell_type": "code",
      "source": [
        "np.random.seed(seed=0)\n",
        "x = np.random.randn(1000)\n",
        "y = np.random.randn(100)\n",
        "z = np.random.randn(10)"
      ],
      "metadata": {
        "id": "QwhsGU3wjZIr"
      },
      "execution_count": null,
      "outputs": []
    },
    {
      "cell_type": "code",
      "source": [
        "fig, ax = plt.subplots()\n",
        "ax.boxplot((x, y, z), vert=False, showmeans=True, meanline=True,\n",
        "           labels=('x', 'y', 'z'), patch_artist=True,\n",
        "           medianprops={'linewidth': 2, 'color': 'purple'},\n",
        "           meanprops={'linewidth': 2, 'color': 'red'})\n",
        "plt.show()"
      ],
      "metadata": {
        "colab": {
          "base_uri": "https://localhost:8080/",
          "height": 320
        },
        "id": "MKdddIwtj4NS",
        "outputId": "6c9bc1ae-5f64-4ca4-aa6a-e2b7760b1c07"
      },
      "execution_count": null,
      "outputs": [
        {
          "output_type": "stream",
          "name": "stderr",
          "text": [
            "/usr/local/lib/python3.8/dist-packages/matplotlib/cbook/__init__.py:1376: VisibleDeprecationWarning: Creating an ndarray from ragged nested sequences (which is a list-or-tuple of lists-or-tuples-or ndarrays with different lengths or shapes) is deprecated. If you meant to do this, you must specify 'dtype=object' when creating the ndarray.\n",
            "  X = np.atleast_1d(X.T if isinstance(X, np.ndarray) else np.asarray(X))\n"
          ]
        },
        {
          "output_type": "display_data",
          "data": {
            "text/plain": [
              "<Figure size 432x288 with 1 Axes>"
            ],
            "image/png": "[encoded data removed]"
          },
          "metadata": {}
        }
      ]
    },
    {
      "cell_type": "markdown",
      "source": [
        "Histogram"
      ],
      "metadata": {
        "id": "jUmgFN-_kf5g"
      }
    },
    {
      "cell_type": "code",
      "source": [
        "hist, bin_edges = np.histogram(x, bins=10)\n",
        "print(hist)\n",
        "\n",
        "print(bin_edges)"
      ],
      "metadata": {
        "colab": {
          "base_uri": "https://localhost:8080/"
        },
        "id": "UbaSmbBFkg2C",
        "outputId": "4c869e0a-80f9-48c3-f611-fbe9a9c7370c"
      },
      "execution_count": null,
      "outputs": [
        {
          "output_type": "stream",
          "name": "stdout",
          "text": [
            "[  9  20  70 146 217 239 160  86  38  15]\n",
            "[-3.04614305 -2.46559324 -1.88504342 -1.3044936  -0.72394379 -0.14339397\n",
            "  0.43715585  1.01770566  1.59825548  2.1788053   2.75935511]\n"
          ]
        }
      ]
    },
    {
      "cell_type": "code",
      "source": [
        "fig, ax = plt.subplots()\n",
        "ax.hist(x, bin_edges, cumulative=False)\n",
        "ax.set_xlabel('x')\n",
        "ax.set_ylabel('Frequency')\n",
        "plt.show()"
      ],
      "metadata": {
        "colab": {
          "base_uri": "https://localhost:8080/",
          "height": 286
        },
        "id": "ZLi5X63slKcE",
        "outputId": "bae29bd8-7ca4-4071-a35c-f10ffa75c69c"
      },
      "execution_count": null,
      "outputs": [
        {
          "output_type": "display_data",
          "data": {
            "text/plain": [
              "<Figure size 432x288 with 1 Axes>"
            ],
            "image/png": "[encoded data removed]"
          },
          "metadata": {}
        }
      ]
    },
    {
      "cell_type": "code",
      "source": [
        "fig, ax = plt.subplots()\n",
        "ax.hist(x, bin_edges, cumulative=True)\n",
        "ax.set_xlabel('x')\n",
        "ax.set_ylabel('Frequency')\n",
        "plt.show()"
      ],
      "metadata": {
        "colab": {
          "base_uri": "https://localhost:8080/",
          "height": 282
        },
        "id": "v2M8X1_nlXlr",
        "outputId": "b6dde05d-fe97-4f69-caf7-6d6e794b3e35"
      },
      "execution_count": null,
      "outputs": [
        {
          "output_type": "display_data",
          "data": {
            "text/plain": [
              "<Figure size 432x288 with 1 Axes>"
            ],
            "image/png": "[encoded data removed]"
          },
          "metadata": {}
        }
      ]
    },
    {
      "cell_type": "markdown",
      "source": [
        "Pie Charts"
      ],
      "metadata": {
        "id": "PPPj6mUwlg6J"
      }
    },
    {
      "cell_type": "code",
      "source": [
        "x, y, z = 128, 256, 1024"
      ],
      "metadata": {
        "id": "yx2RP02EliVe"
      },
      "execution_count": null,
      "outputs": []
    },
    {
      "cell_type": "code",
      "source": [
        "fig, ax = plt.subplots()\n",
        "ax.pie((x, y, z), labels=('x', 'y', 'z'), autopct='%1.1f%%')\n",
        "plt.show()"
      ],
      "metadata": {
        "colab": {
          "base_uri": "https://localhost:8080/",
          "height": 248
        },
        "id": "RdYxkT6jluTo",
        "outputId": "1b18c90b-bf0e-4e63-8da6-e664a15fc687"
      },
      "execution_count": null,
      "outputs": [
        {
          "output_type": "display_data",
          "data": {
            "text/plain": [
              "<Figure size 432x288 with 1 Axes>"
            ],
            "image/png": "[encoded data removed]"
          },
          "metadata": {}
        }
      ]
    },
    {
      "cell_type": "markdown",
      "source": [
        "Bar Charts"
      ],
      "metadata": {
        "id": "NBM_P23Zl2Ki"
      }
    },
    {
      "cell_type": "code",
      "source": [
        "x = np.arange(21)\n",
        "y = np.random.randint(21, size=21)\n",
        "err = np.random.randn(21)"
      ],
      "metadata": {
        "id": "L4-7PtL9l20B"
      },
      "execution_count": null,
      "outputs": []
    },
    {
      "cell_type": "code",
      "source": [
        "fig, ax = plt.subplots()\n",
        "ax.bar(x, y, yerr=err)\n",
        "ax.set_xlabel('x')\n",
        "ax.set_ylabel('y')\n",
        "plt.show()"
      ],
      "metadata": {
        "colab": {
          "base_uri": "https://localhost:8080/",
          "height": 282
        },
        "id": "V1_KtsCdmVxp",
        "outputId": "96041d38-a6e8-46b9-e6bf-cca23c145987"
      },
      "execution_count": null,
      "outputs": [
        {
          "output_type": "display_data",
          "data": {
            "text/plain": [
              "<Figure size 432x288 with 1 Axes>"
            ],
            "image/png": "[encoded data removed]"
          },
          "metadata": {}
        }
      ]
    },
    {
      "cell_type": "markdown",
      "source": [
        "X-Y Plots / Scatter Plot"
      ],
      "metadata": {
        "id": "scviDb_Nm-xq"
      }
    },
    {
      "cell_type": "code",
      "source": [
        "x = np.arange(21)\n",
        "y = 5 + 2 * x + 2 * np.random.randn(21)\n",
        "slope, intercept, r, *__ = scipy.stats.linregress(x, y)\n",
        "line = f'Regression line: y={intercept:.2f}+{slope:.2f}x, r={r:.2f}'"
      ],
      "metadata": {
        "id": "iNi8byFKnJUV"
      },
      "execution_count": null,
      "outputs": []
    },
    {
      "cell_type": "code",
      "source": [
        "fig, ax = plt.subplots()\n",
        "ax.plot(x, y, linewidth=0, marker='s', label='Data points')\n",
        "ax.plot(x, intercept + slope * x, label=line)\n",
        "ax.set_xlabel('x')\n",
        "ax.set_ylabel('y')\n",
        "ax.legend(facecolor='white')\n",
        "plt.show()"
      ],
      "metadata": {
        "colab": {
          "base_uri": "https://localhost:8080/",
          "height": 282
        },
        "id": "8elsldWgnQoF",
        "outputId": "fd9f0135-002e-4b0e-f86b-8682ce7431e4"
      },
      "execution_count": null,
      "outputs": [
        {
          "output_type": "display_data",
          "data": {
            "text/plain": [
              "<Figure size 432x288 with 1 Axes>"
            ],
            "image/png": "[encoded data removed]"
          },
          "metadata": {}
        }
      ]
    },
    {
      "cell_type": "markdown",
      "source": [
        "Heatmaps"
      ],
      "metadata": {
        "id": "CEOn_5Ggnf_e"
      }
    },
    {
      "cell_type": "code",
      "source": [
        "matrix = np.cov(x, y).round(decimals=2)\n",
        "fig, ax = plt.subplots()\n",
        "ax.imshow(matrix)\n",
        "ax.grid(False)\n",
        "ax.xaxis.set(ticks=(0, 1), ticklabels=('x', 'y'))\n",
        "ax.yaxis.set(ticks=(0, 1), ticklabels=('x', 'y'))\n",
        "ax.set_ylim(1.5, -0.5)\n",
        "for i in range(2):\n",
        "    for j in range(2):\n",
        "        ax.text(j, i, matrix[i, j], ha='center', va='center', color='w')\n",
        "plt.show()"
      ],
      "metadata": {
        "colab": {
          "base_uri": "https://localhost:8080/",
          "height": 265
        },
        "id": "rQKvXXfJnhFr",
        "outputId": "6dd91223-b613-4914-a04c-47022c8527d7"
      },
      "execution_count": null,
      "outputs": [
        {
          "output_type": "display_data",
          "data": {
            "text/plain": [
              "<Figure size 432x288 with 1 Axes>"
            ],
            "image/png": "[encoded data removed]"
          },
          "metadata": {}
        }
      ]
    },
    {
      "cell_type": "markdown",
      "source": [
        "#4 Task B - KDEs vs Normalized Histograms"
      ],
      "metadata": {
        "id": "oMn-xAUVpS9x"
      }
    },
    {
      "cell_type": "markdown",
      "source": [
        "An estimate of the\n",
        "underlying probability density function (pdf) that generated the data collected."
      ],
      "metadata": {
        "id": "khKCv3kqqDdc"
      }
    },
    {
      "cell_type": "markdown",
      "source": [
        "An often better alternative to histogram normalization is to use kernel density estimators\n",
        "(KDEs) that produce smooth estimates of the underlying pdf. In the\n",
        "following the idea of kernel density estimation is introduced together with\n",
        "examples how this method can be used.\n",
        "Definition: If we have a data set D = {x1,x2,...,xN } consistings of ob-\n",
        "servations xi from an unknown pdf p(), and if K() denote any kind of\n",
        "symmetric pdf, then the Kernel Density Estimate ˆp(x) of p(x) is given\n",
        "by\n",
        "ˆp(x|D) = ˆp(x) = 1\n",
        "N ·b\n",
        "N∑\n",
        "n=1\n",
        "K((x −xn)/b)"
      ],
      "metadata": {
        "id": "-P2IXR7Opqzl"
      }
    },
    {
      "cell_type": "markdown",
      "source": [
        "Two commonly used methods for\n",
        "selecting an optimal value of b are the following.\n",
        "1. Maximum likelihood estimation: This means b is selected to maxi-\n",
        "mize the likelihood function L(b|D) = ∏Mm=1 ˆp( ̃xm|D) using an inde-\n",
        "pendent set of examples  ̃D = { ̃x1,  ̃x2,...,  ̃xM } that are not part of\n",
        "D = {x1,x2,...,xN }.\n",
        "2. Minimize distance between p(x) and ˆp(x|D): A common choice is the\n",
        "”energy distance”, which is defined as D(p, ˆp) = ∫∞−∞(p(x) −ˆp(x))2dx.\n",
        "Also there there will be a need for an independent set of examples  ̃D\n",
        "for approximation of this distance."
      ],
      "metadata": {
        "id": "HWQVEvoYqofg"
      }
    },
    {
      "cell_type": "markdown",
      "source": [
        "####4.3 Exercise 1. Comparing different histograms and KDEs"
      ],
      "metadata": {
        "id": "B6LQDi5Zr7vD"
      }
    },
    {
      "cell_type": "code",
      "source": [
        "import numpy as np\n",
        "import matplotlib\n",
        "import matplotlib.pyplot as plt\n",
        "from sklearn.neighbors import KernelDensity\n",
        "# sets the style for plots by choosing colors, line widths,\n",
        "# and other stylistic elements:\n",
        "plt.style.use('ggplot')\n",
        "\n",
        "# Generate 20 data to have something to look at, use a fixed seed\n",
        "# for the random number generator to produce the same results\n",
        "# in every run\n",
        "np.random.seed(1)\n",
        "N = 20\n",
        "X = np.concatenate(\n",
        "(np.random.normal(0, 1, int(0.3 * N)),\n",
        "np.random.normal(5, 1, int(0.7 * N)))\n",
        ")[:, np.newaxis]\n",
        "X_plot = np.linspace(-5, 10, 1000)[:, np.newaxis]\n",
        "bins = np.linspace(-5, 10, 10)\n",
        "\n",
        "#Prepare a figure with a 2x2 subplot configuration\n",
        "fig, ax = plt.subplots(2, 2, sharex=True, sharey=True)\n",
        "fig.subplots_adjust(hspace=0.05, wspace=0.05)\n",
        "\n",
        "#Set a parameter to make the histograms produced normalized\n",
        "density_param = {\"density\": True}\n",
        "\n",
        "# histogram upper left\n",
        "ax[0, 0].hist(X[:, 0], bins=bins, fc=\"#AAAAFF\", **density_param)\n",
        "ax[0, 0].text(-3.5, 0.31, \"Histogram\")\n",
        "\n",
        "# histogram upper right\n",
        "ax[0, 1].hist(X[:, 0], bins=bins + 0.75, fc=\"#AAAAFF\",**density_param)\n",
        "ax[0, 1].text(-3.5, 0.31, \"Histogram, bins shifted\")\n",
        "\n",
        "# Gaussian KDE lower left\n",
        "kde = KernelDensity(kernel=\"gaussian\", bandwidth=2.0).fit(X)\n",
        "log_dens = kde.score_samples(X_plot)\n",
        "ax[1, 0].fill(X_plot[:, 0], np.exp(log_dens), fc=\"#AAAAFF\")\n",
        "ax[1, 0].text(-3.5, 0.31, \"Kernel Density bw=2.0\")\n",
        "\n",
        "# Gaussian KDE lower right\n",
        "kde = KernelDensity(kernel=\"gaussian\", bandwidth=0.3).fit(X)\n",
        "log_dens = kde.score_samples(X_plot)\n",
        "ax[1, 1].fill(X_plot[:, 0], np.exp(log_dens), fc=\"#AAAAFF\")\n",
        "ax[1, 1].text(-3.5, 0.31, \"Kernel Density bw=0.3\")\n",
        "\n",
        "# Add decorations: At the bottom of each subplot the\n",
        "# datapoints generated are shown as black crosses.\n",
        "for axi in ax.ravel():\n",
        "  axi.plot(X[:, 0], np.full(X.shape[0], -0.01), \"+k\")\n",
        "  axi.set_xlim(-4, 9)\n",
        "  axi.set_ylim(-0.02, 0.34)\n",
        "\n",
        "for axi in ax[:, 0]:\n",
        "  axi.set_ylabel(\"pdf estimate\")\n",
        "\n",
        "for axi in ax[1, :]:\n",
        "  axi.set_xlabel(\"x\")"
      ],
      "metadata": {
        "colab": {
          "base_uri": "https://localhost:8080/",
          "height": 282
        },
        "id": "3IaKOOfipXUh",
        "outputId": "101e1ef7-a54c-48eb-d12b-bc1c0d347d01"
      },
      "execution_count": null,
      "outputs": [
        {
          "output_type": "display_data",
          "data": {
            "text/plain": [
              "<Figure size 432x288 with 4 Axes>"
            ],
            "image/png": "[encoded data removed]"
          },
          "metadata": {}
        }
      ]
    },
    {
      "cell_type": "markdown",
      "source": [
        "####4.4 Exercise 2: Finding the optimal bandwidth for KDE"
      ],
      "metadata": {
        "id": "s24pjeSGtyIL"
      }
    },
    {
      "cell_type": "code",
      "source": [
        "import numpy as np\n",
        "import matplotlib.pyplot as plt\n",
        "from sklearn.neighbors import KernelDensity\n",
        "from sklearn.model_selection import GridSearchCV\n",
        "# sets the style for plots by choosing colors, line\n",
        "# widths, and other stylistic elements:\n",
        "plt.style.use('ggplot')\n",
        "\n",
        "\n",
        "# The grid to search through in order to find the\n",
        "# most promising (optimal) bandwidth\n",
        "bandwidth = np.arange(0.05, 2, .05)\n",
        "\n",
        "kde = KernelDensity(kernel='gaussian')\n",
        "\n",
        "#Default: Finds the maximum likelihood estimate using 5-fold CV:\n",
        "grid = GridSearchCV(kde, {'bandwidth': bandwidth})\n",
        "grid.fit(X)\n",
        "optimal_kde = grid.best_estimator_\n",
        "optimal_bandwidth=optimal_kde.bandwidth\n",
        "print(\"Optimal bandwidth:\",optimal_bandwidth)\n",
        "\n",
        "#Prepare a figure with a 2x2 subplot configuration\n",
        "fig1, ax1 = plt.subplots(2, 2, sharex=True, sharey=True)\n",
        "fig1.subplots_adjust(hspace=0.05, wspace=0.05)\n",
        "\n",
        "# histogram upper left\n",
        "density_param = {\"density\": True}\n",
        "ax1[0, 0].hist(X[:, 0], bins=bins, fc=\"#AAAAFF\", **density_param)\n",
        "ax1[0, 0].text(-3.5, 0.31, \"Histogram\")\n",
        "\n",
        "# histogram upper right\n",
        "ax1[0, 1].hist(X[:, 0], bins=bins + 0.75, fc=\"#AAAAFF\",\n",
        "**density_param)\n",
        "ax1[0, 1].text(-3.5, 0.31, \" \")\n",
        "ax1[0, 1].plot(X_plot[:, 0], np.exp(log_dens))\n",
        "\n",
        "# Gaussian KDE lower left\n",
        "kde = KernelDensity(kernel=\"gaussian\", bandwidth=2.0).fit(X)\n",
        "log_dens = kde.score_samples(X_plot)\n",
        "#ax1[1, 0].fill(X_plot[:, 0], np.exp(log_dens), fc=\"#AAAAFF\")\n",
        "ax1[1, 0].plot(X_plot[:, 0], np.exp(log_dens),color=\"red\")\n",
        "ax1[1, 0].text(-3.5, 0.31, \"KDE bw=2.0\")\n",
        "ax1[0, 0].plot(X_plot[:, 0], np.exp(log_dens),color=\"red\")\n",
        "ax1[0, 0].text(-3.5, 0.31, \"Histogram & KDE bw=2.0\")\n",
        "\n",
        "# Gaussian KDE lower right\n",
        "kde = KernelDensity(kernel=\"gaussian\", bandwidth=1.3).fit(X)\n",
        "log_dens = kde.score_samples(X_plot)\n",
        "#ax1[1, 1].fill(X_plot[:, 0], np.exp(log_dens), fc=\"#AAAAFF\")\n",
        "ax1[1, 1].plot(X_plot[:, 0], np.exp(log_dens),color=\"red\")\n",
        "\n",
        "ax1[1, 1].text(-3.5, 0.31, \"KDE bw=1.3\")\n",
        "ax1[0, 1].plot(X_plot[:, 0], np.exp(log_dens),color=\"red\")\n",
        "ax1[0, 1].text(-3.5, 0.31, \"Histo, bins shifted & KDE bw=1.3\")\n",
        "\n",
        "for axi in ax1.ravel():\n",
        "  axi.plot(X[:, 0], np.full(X.shape[0], -0.01), \"+k\")\n",
        "  axi.set_xlim(-4, 9)\n",
        "  axi.set_ylim(-0.02, 0.34)\n",
        "\n",
        "for axi in ax1[:, 0]:\n",
        "  axi.set_ylabel(\"pdf estimate\")\n",
        "\n",
        "for axi in ax1[1, :]:\n",
        "  axi.set_xlabel(\"x\")"
      ],
      "metadata": {
        "colab": {
          "base_uri": "https://localhost:8080/",
          "height": 299
        },
        "id": "Uu17hfv_smHQ",
        "outputId": "aeb1ec96-7230-495f-ca16-ddbe16968735"
      },
      "execution_count": null,
      "outputs": [
        {
          "output_type": "stream",
          "name": "stdout",
          "text": [
            "Optimal bandwidth: 1.3\n"
          ]
        },
        {
          "output_type": "display_data",
          "data": {
            "text/plain": [
              "<Figure size 432x288 with 4 Axes>"
            ],
            "image/png": "[encoded data removed]"
          },
          "metadata": {}
        }
      ]
    },
    {
      "cell_type": "markdown",
      "source": [
        "####4.5 Exercise 3. KDE based Violin Plots instead of Box Plots"
      ],
      "metadata": {
        "id": "i0CyFetftu3O"
      }
    },
    {
      "cell_type": "markdown",
      "source": [
        "KDE is the foundation for so-called Violin plots that can replace box plots\n",
        "in many cases. The idea is to determine and visualize a KDE based on\n",
        "the data collected, instead of only showing the box plot. Only for visual\n",
        "pleasure and to easier grasp the conceptual analogy with the box plot, the\n",
        "KDE is presented jointly with a mirrored copy of itself, thereby creating\n",
        "an object that often has the shape of a violin."
      ],
      "metadata": {
        "id": "-5n12rJ7t_Ho"
      }
    },
    {
      "cell_type": "code",
      "source": [
        "#Generate three datasets of different size from N(0,1)\n",
        "#and put them into a DataFrame callled df, in order to prepare for visualization using plotly below\n",
        "import numpy as np\n",
        "x = np.random.randn(1000)\n",
        "y = np.random.randn(100)\n",
        "z = np.random.randn(10)\n",
        "df_A = pd.DataFrame(x, columns = ['A'])\n",
        "df_B = pd.DataFrame(y, columns = ['B'])\n",
        "df_C = pd.DataFrame(z, columns = ['C'])\n",
        "df=pd.concat([df_A,df_B,df_C],axis=1)\n",
        "\n",
        "#Use plotly to summarize the three datasets as boxplots\n",
        "import plotly.graph_objects as go\n",
        "import numpy as np\n",
        "fig = go.Figure()\n",
        "# Use x instead of y argument if you want horizontal plot\n",
        "fig.add_trace(go.Box(y=x,name='Sample A',marker_color =\n",
        "'indianred'))\n",
        "fig.add_trace(go.Box(y=y,name='Sample B',marker_color =\n",
        "'lightseagreen'))\n",
        "fig.add_trace(go.Box(y=z,name='Sample C',marker_color = 'blue'))\n",
        "fig.show()\n",
        "\n",
        "#Use plotly to summarize the resulting three datasets as violinplots\n",
        "import plotly.graph_objects as go\n",
        "import numpy as np\n",
        "fig = go.Figure()\n",
        "# Use x instead of y argument if you want horizontal plot\n",
        "fig.add_trace(go.Violin(y=x,name='Sample A',marker_color =\n",
        "'indianred'))\n",
        "fig.add_trace(go.Violin(y=y,name='Sample B',marker_color =\n",
        "'lightseagreen'))\n",
        "fig.add_trace(go.Violin(y=z,name='Sample C',marker_color = 'blue'))\n",
        "fig.show()"
      ],
      "metadata": {
        "colab": {
          "base_uri": "https://localhost:8080/",
          "height": 1000
        },
        "id": "kJM7jDyStwU9",
        "outputId": "082cacf1-b24e-415f-a81c-466f2352676f"
      },
      "execution_count": null,
      "outputs": [
        {
          "output_type": "display_data",
          "data": {
            "text/html": [
              "<html>\n",
              "<head><meta charset=\"utf-8\" /></head>\n",
              "<body>\n",
              "    <div>            <script src=\"https://cdnjs.cloudflare.com/ajax/libs/mathjax/2.7.5/MathJax.js?config=TeX-AMS-MML_SVG\"></script><script type=\"text/javascript\">if (window.MathJax) {MathJax.Hub.Config({SVG: {font: \"STIX-Web\"}});}</script>                <script type=\"text/javascript\">window.PlotlyConfig = {MathJaxConfig: 'local'};</script>\n",
              "        <script src=\"https://cdn.plot.ly/plotly-2.8.3.min.js\"></script>                <div id=\"fc5fcd3c-32f7-4384-a7a1-61104e64218a\" class=\"plotly-graph-div\" style=\"height:525px; width:100%;\"></div>            <script type=\"text/javascript\">                                    window.PLOTLYENV=window.PLOTLYENV || {};                                    if (document.getElementById(\"fc5fcd3c-32f7-4384-a7a1-61104e64218a\")) {                    Plotly.newPlot(                        \"fc5fcd3c-32f7-4384-a7a1-61104e64218a\",                        [{\"marker\":{\"color\":\"indianred\"},\"name\":\"Sample A\",\"y\":[-1.1006191772129212,1.1447237098396141,0.9015907205927955,0.5024943389018682,0.9008559492644118,-0.6837278591743331,-0.12289022551864817,-0.9357694342590688,-0.2678880796260159,0.530355466738186,-0.691660751725309,-0.39675352685597737,-0.6871727001195994,-0.8452056414987196,-0.671246130836819,-0.01266459891890136,-1.1173103486352778,0.23441569781709215,1.6598021771098705,0.7420441605773356,-0.19183555236161492,-0.8876289640848363,-0.7471582937508376,1.6924546010277466,0.05080775477602897,-0.6369956465693534,0.19091548466746602,2.100255136478842,0.12015895248162915,0.6172031097074192,0.3001703199558275,-0.35224984649351865,-1.1425181980221402,-0.3493427224128775,-0.2088942333747781,0.5866231911821976,0.8389834138745049,0.9311020813035573,0.2855873252542588,0.8851411642707281,-0.7543979409966528,1.2528681552332879,0.5129298204180088,-0.29809283510271567,0.48851814653749703,-0.07557171302105573,1.131629387451427,1.5198168164221988,2.1855754065331614,-1.3964963354881377,-1.4441138054295894,-0.5044658629464512,0.16003706944783047,0.8761689211162249,0.31563494724160523,-2.022201215824003,-0.3062040126283718,0.8279746426072462,0.2300947353643834,0.7620111803120247,-0.22232814261035927,-0.20075806892999745,0.1865613909882843,0.4100516472082563,0.19829972012676975,0.11900864580745882,-0.6706622862890306,0.3775637863209194,0.12182127099143693,1.1294839079119197,1.198917879901507,0.18515641748394385,-0.3752849500901142,-0.6387304074542224,0.4234943540641129,0.07734006834855942,-0.3438536755710756,0.04359685683424694,-0.6200008439481293,0.6980320340722189,-0.4471285647859982,1.2245077048054989,0.4034916417908,0.593578523237067,-1.0949118457410418,0.1693824330586681,0.7405564510962748,-0.9537006018079346,-0.26621850600362207,0.03261454669335856,-1.3731173202467557,0.31515939204229176,0.8461606475850334,-0.8595159408319863,0.35054597866410736,-1.3122834112374318,-0.038695509266051115,-1.6157723547032947,1.121417708235664,0.4089005379368278,-0.024616955875778355,-0.7751616191691596,1.2737559301587766,1.9671017492547347,-1.857981864446752,1.2361640304528203,1.6276507531489064,0.3380116965744758,-1.199268032335186,0.8633453175440216,-0.18092030207815046,-0.6039206277932573,-1.2300581356669618,0.5505374959762154,0.7928068659193477,-0.6235307296797916,0.5205763370733708,-1.1443413896231427,0.8018610318713447,0.04656729842414554,-0.18656977190734877,-0.10174587252914521,0.8688861570058679,0.7504116398650081,0.5294653243527092,0.13770120999738608,0.07782112791270591,0.6183802619985245,0.23249455917873788,0.6825514068644851,-0.31011677351806,-2.434837764107139,1.038824601859414,2.1869796469742577,0.44136444356858207,-0.10015523328349978,-0.13644474389603303,-0.11905418777480989,0.0174094083000046,-1.1220187287468883,-0.5170944579202279,-0.997026827650263,0.2487991613877705,-0.29664115237086275,0.4952113239779604,-0.17470315974250095,0.9863351878212421,0.2135339013354418,2.1906997289697334,-1.8963609228910925,-0.646916688254908,0.901486891648711,2.528325706806398,-0.24863477771546005,0.043668993178389105,-0.22631424251360518,1.3314571125875918,-0.2873078634760189,0.6800698398781045,-0.3198015988986712,-1.2725587552459943,0.31354772046343216,0.5031848134353261,1.2932258825322618,-0.11044702641731631,-0.6173620637123609,0.5627610966190263,0.24073709223773224,0.28066507712263905,-0.07311270374727777,1.1603385699937696,0.36949271637572373,1.9046587083409812,1.1110566985605046,0.6590497961002102,-1.6274383406162574,0.602319280295629,0.42028220364705954,0.8109516728035557,1.0444420947072588,-0.40087819178892664,0.8240056184504077,-0.5623054310190898,1.9548780750090344,-1.3319516665172482,-1.7606885603987834,-1.6507212658241002,-0.8905555841630485,-1.119115398559728,1.956078903703642,-0.32649949807818424,-1.342675789377436,1.114382976779792,-0.5865239388215925,-1.2368533765413974,0.8758389276492995,0.6233621765780327,-0.4349566829552277,1.4075400002412286,0.12910157971072544,1.6169495988573002,0.5027408819999043,1.5588055406198593,0.10940269642542817,-1.2197443969790327,2.4493686490613973,-0.5457741679825677,-0.19883786288889674,-0.7003985049212547,-0.20339444896455844,0.24266944108179458,0.20183017887400403,0.6610202875986929,1.792158208975567,-0.12046457178850745,-1.2331207354464266,-1.1823181265096336,-0.6657545181991266,-1.674195807618932,0.8250298244389859,-0.4982135636310781,-0.3109849783028509,-0.0018914828380037015,-1.396620424595432,-0.861316360776042,0.6747115256879723,0.6185391307862932,-0.44317193070063776,1.8105349141254563,-1.3057269225577375,-0.34498721015497946,-0.23083974313546946,-2.79308500014654,1.9375288136160798,0.36633201454005826,-1.0445893819077916,2.0511734428574444,0.5856620001723825,0.4295261400219645,-0.6069983982000461,0.1062227240352178,-1.5256803162293577,0.7950260944248447,-0.37443831884322065,0.13404819655462313,1.2020548621997058,0.28474811084905793,0.2624674454632686,0.27649930482218366,-0.7332716038953129,0.8360047194342688,1.5433591108044837,0.7588056600979309,0.8849088144648833,-0.8772815189181883,-0.8677872228729256,-1.44087602429184,1.232253070828436,-0.2541798676073683,1.3998439424809859,-0.7819116826868007,-0.437508982828581,0.0954250871912577,0.9214500686595114,0.060750195799506745,0.21112475500771674,0.01652756730561561,0.17718772027596041,-1.1164700178847444,0.0809271009732786,-0.18657899351146628,-0.0568244808858473,0.4923365559366488,-0.6806781410088858,-0.0845080274046298,-0.2973618827735036,0.41730200497486253,0.7847706510155895,-0.9554252623736892,0.5859104311026156,2.0657833202188343,-1.471156925832625,-0.8301718953151139,-0.8805775998441709,-0.27909772154329027,1.622849085954001,0.013352676347176594,-0.6946935952872263,0.6218035043055724,-0.5998045310708474,1.1234121620219353,0.30526704024401075,1.3887793963702684,-0.6613442431530187,3.0308571123720305,0.8245846250334574,0.6545801525867004,-0.05118844760766421,-0.7255971191344275,-0.8677686776235903,-0.13597732610058932,-0.7972697854931297,0.28267571224842025,-0.8260974318473202,0.6210827008390084,0.9561217041246964,-0.7058405074022839,1.1926860677546935,-0.23794193575218264,1.1552878860882252,0.4381663472912375,1.1223283216570923,-0.9970197955296825,-0.10679398677922511,1.4514292605909354,-0.6180368476815788,-2.037201225680795,-1.9425891814764555,-2.506440652676061,-2.114163921916826,-0.41163916318848254,1.2785280828417218,-0.4422292795131728,0.3235273536014321,-0.10999149016360682,0.008548945436024693,-0.16819883974471597,-0.1741803443079907,0.46116409997701746,-1.1759826714413153,1.0101271773347245,0.9200179332477632,-0.19505734087590118,0.8053934242321815,-0.7013444262571769,-0.5372230238753384,0.15626385027008327,-0.1902210250848615,-0.44873803267162277,-0.6724480387865963,-0.5574947217860433,0.9391687441964878,-1.9433234056683528,0.352494364369333,-0.2364369518129867,0.7278134999996488,0.5150736136393657,-2.7825344676529227,0.5846466104774262,0.32427424344842104,0.02186283662655242,-0.46867381627789134,0.8532812219556223,-0.4130293097110322,1.8347176266496867,0.5643828554943137,2.1378280674394823,-0.7855339969202355,-1.7559256402328518,0.7147895974858154,0.8527040617252863,0.03536009705475734,-1.5387932457446432,-0.4478951847161186,0.6179855339203347,-0.18417632565374534,-0.11598518547239624,-0.1754589686617526,-0.9339146556265013,-0.5330203260835993,-1.426555420520532,1.7679599483110264,-0.4753728751379821,0.47761018181755727,-1.0218859446413093,0.7945282396010823,-1.8731609776353015,0.9206151180549562,-0.03536792487871091,2.1106050536007097,-1.3065340728440185,0.076380480159592,0.3672318138838647,1.2328991923762371,-0.4228569613907754,0.08646440652428741,-2.1424667290773685,-0.830168864022708,0.45161595055524156,1.1041743263032135,-0.28173626906561283,2.0563555231982935,1.7602492264490932,-0.06065249177480989,-2.4135030011737877,-1.7775663758059874,-0.7778588266274128,1.1158411079241686,0.3102722877837673,-2.094247816222812,-0.22876582887016242,1.6133613745631155,-0.3748046873026527,-0.7499696172756662,2.054624102518116,0.05340953679834792,-0.4791570987860799,0.3501671588282789,0.017164726374088564,-0.42914227823509377,1.208456328551963,1.1157018027844863,0.8408615581411037,-0.1028872175735376,1.146900376399483,-0.04970257915867584,0.46664326722884075,1.033686867939501,0.8088443602656821,1.7897546832062712,0.4512840160401709,-1.6840599858682372,-1.1601701049822761,1.350106818681726,-0.3312831699326283,0.3865391451330911,-0.8514556565308268,1.000881423680301,-0.38483224883279044,1.4581082386095199,-0.5322340208981775,1.1181333967176956,0.6743961048208689,-0.7223919054141509,1.0989963327471792,-0.901634490475998,-0.8224671889042517,0.7217112921126926,-0.625342001465988,-0.5938430672545096,-0.3439007092103924,-1.0001691898725158,1.0449944096738975,0.6085146984848496,-0.06932869669048287,-0.10839206717353982,0.45015551276717897,1.7653351005190716,0.8709698025322423,-0.5084571342754007,0.7774192052488628,-0.11877117210308928,-0.19899818380372442,1.8664713751521251,-0.41893789767812306,-0.47918491512740585,-1.9521052872452325,-1.4023291454531368,0.4511229387345986,-0.6949209011852391,0.515413801783241,-1.1148710523659369,-0.7673098263317347,0.6745707069560037,1.460892380463078,0.5924728014240198,1.197830841721251,1.7045941713724069,1.0400891531540952,-0.918440038300026,-0.10534471250754213,0.630195670684911,-0.4148469012882354,0.45194603732122307,-1.5791562853944654,-0.8286279788564058,0.528879745585174,-2.2370865111124707,-1.1077125022845524,-0.01771831791014226,-1.719394474619523,0.057120996082092076,-0.7995474906917599,-0.2915945955008327,-0.25898285340053234,0.1892931975586576,-0.5637887345823027,0.08968640732259017,-0.6011568006493835,0.5560735100773853,1.693809113288081,0.19686977925029145,0.1698692553475717,-1.1640079711612021,0.6933662256603845,-0.7580673285562323,-0.8088471964721285,0.5574394528580334,0.18103874435787085,1.1071754509490623,1.4428769284963092,-0.5396815622024924,0.12837699015594436,1.7604151835753223,0.9665392502290573,0.7130490503032691,1.3062060651354486,-0.604602969164376,0.6365834094146309,1.4092533893640082,1.6209122856217475,-0.8061848173822241,-0.2516742076314244,0.3827151737243639,-0.2889973430098159,-0.3918162398080484,0.684001328181953,-0.35340998286701436,-1.7879128911997157,0.36184731583956825,-0.4244927905709274,-0.7315309817303334,-1.5657381506559054,1.0138224669717055,-2.2271126318500145,-1.6993336047222958,-0.27584606256114336,1.2289555856506973,1.3097059056826534,-1.1549826349293644,-0.17763219598355098,-1.5104563750875688,1.0112070637749084,-1.4765626605201803,-0.14319574500723764,1.0329837789497511,-0.22241402852990858,1.4701603438257402,-0.870008223190852,0.36919046954687373,0.8532821858237332,-0.13971173044107246,1.3863142642463189,0.5481295846881931,-1.6374495930083417,3.9586027040379634,0.6486436440906672,0.10734329382358966,-1.3988128186664763,0.08176781880561644,-0.45994283084068716,0.6443536660303223,0.37167029121186534,1.853009485069379,0.14225137252631778,0.5135054799885475,0.3724568515114425,-0.14848980305939366,-0.1834001973200239,1.1010002026684818,0.7800271353386294,-0.62944160405378,-1.1134361029729902,-0.06741002494685439,1.1614399816743937,-0.027529386267978004,1.7464350892279725,-0.7750702870734348,0.14164053766580517,-2.516303860965749,-0.5956678809102903,-0.30912131864186215,0.5109377744920892,1.7106618386711354,0.03494358936374005,1.4539175816088175,0.6616810764659825,0.9863521802120643,-0.466154856825928,1.3849913436486387,-1.072964278711645,0.49515861120031657,-0.952062100706259,-0.5181455523987548,-1.4614036047221062,-0.5163479086460222,0.35111689651096534,-0.06877046307863847,-1.3477649412536636,1.470739856691369,0.33722093830845856,1.0080654330757632,0.7852269196346882,-0.6648677669672133,-1.9450469586120391,-0.9154243682317061,1.2251558492732308,-1.053546073700315,0.8160436843240609,-0.6124069731288238,0.3931092448539835,-1.8239198526251938,1.167075165999964,-0.03966870009048212,0.8858257989659072,0.18986164938309566,0.7980637952989431,-0.10193203926360005,0.7433565435138623,-1.5095726842240433,-1.0807106924455065,0.7254740044815357,-0.039178256209496685,-0.22875417122021255,-0.17961229465135792,0.5017251093451655,-0.593343754242419,0.5103075967452559,-0.9157918490686792,-0.40725204301996576,0.9849516717192109,1.0712524278458908,-1.0971543602553622,0.8386347472283774,-1.039182322034903,0.7330232317190783,-1.8988120593192948,-1.1171106924391125,-0.5089722778228615,-0.16648595488595935,1.4236144293489872,0.9039991740035269,1.5754679085723808,1.2066078980355681,-0.2828635516348445,-0.2663268843187201,1.0689716222012626,0.040371431022839264,-0.15699367249331792,-1.3352027230151915,-0.10646012155553987,-2.7909964066938464,-0.45611755514868535,-0.9798902516618007,0.6925743475393558,-0.4786723564156615,-0.3290515493410809,1.3471054646704976,-1.0490677451686161,0.31665889515665435,-1.895266947476466,0.08972911744465112,0.41026574539684446,0.8598709717969121,-0.8986831933186461,0.3196569419445935,0.31815419967868935,-0.01923163409763723,0.15001627872780374,0.4635343217316655,0.39788042488185116,-0.9960108890883996,-1.1958615103244818,2.505980285318673,1.9197922864280879,-1.3916938760540336,0.4502177420378455,0.6274370827531105,0.7513372351604846,0.14039543644735017,-0.9268719392086243,-0.18242040636309756,-0.49112513779081807,0.1343731160397544,-0.26837130412057664,-0.13167562628701832,1.018552474767882,1.2305581999547246,-1.181103172771823,-0.45993010443458127,-0.7907999537751678,1.2237222119601092,-0.05936790254849916,1.4489894041582356,-0.4775808546567209,0.025999994185658175,-1.3486964467972422,1.3025355364861801,-0.36261208757725877,-1.4851564513254543,-0.5924612851532695,-2.304907937770138,-0.03181717269879145,0.11248774241419583,0.28807816700515054,1.498108183577034,-0.30097615395533844,0.8074559170052702,0.3122386890129999,-0.1933216404740039,-2.076802021923554,0.9475011673456759,-0.5039739491423175,0.017955891650826426,-1.2704607763854796,0.2829955338110016,0.10803081731234535,0.02941761897076564,-0.13479312929572362,1.0492182907525678,0.9662208625783415,0.7259168525208212,3.3210787561703645,-0.6002253303773148,-0.37951751553387963,-1.014803690858671,0.43598619629640983,-0.6874873930601744,-2.698361741666047,-1.2133381258287046,0.07225189915588459,1.0097873349475586,-1.5569415578650314,-0.6124421282843443,-0.13935180545092124,-0.7285374894247015,0.5311637934562251,0.004000841975375483,0.3212659144838316,-0.7252149257453662,1.5365363280210986,-0.00037500875835609604,1.2935496206633084,-0.43899766366627757,0.5900394641608302,-0.6793837829972343,-0.9509092510507696,-0.7043503315234588,-0.04586668606976747,-0.21873345896770915,1.5392070096550627,-1.1487042296369459,-1.0903383324548148,1.700188146645526,0.6087836589081088,-1.8814108671660597,0.4972690986459772,0.23733269933959658,-2.1444440467284505,-0.3695624253374333,-0.017454951836177974,0.7314025171250657,0.9544956665476875,0.09574677111013467,1.0334508032642373,-0.1462732746113538,-0.857496824739772,-0.934181843147949,0.542645294566316,-1.9581690855990108,0.6778075711198115,-1.1065730673918852,-0.3592240957107388,0.5053819027529176,1.2179409008013473,-1.9406809643648932,-0.806178211953457,0.04906169237310281,-0.596086334587662,0.8616231013412039,-2.0863905654565262,0.3618016405710469,0.425920176502816,0.049080397141630476,1.1022367325853422,-1.229574253546429,1.108616757989675,-0.7029204029101687,0.7255505180787332,-0.32420421948521105,0.8143431291489254,0.7804699297583744,-1.4640535735805917,-0.1544911938105286,-0.09243231854158614,-0.2378752654568325,-0.7556627651019651,1.8514378945735097,0.20909667657552103,1.5550159943330888,-0.5691486535119704,-1.061796761310848,0.13224777891978462,-0.5632366041174566,2.3901459623335115,0.24542284918911964,1.1525991350106037,-0.22423577212349852,-0.32606130576013626,-0.030911417604135967,0.35571726157601685,0.8495868450948219,-0.1221540151116833,-0.6808515740173174,-1.0678765764865552,-0.07667936270573186,0.5729627259567562,0.45794707630974174,-0.017817549053938987,-0.600138799235613,0.14676526338688947,0.5718048788649898,-0.03681765651702741,0.11236848879221897,-0.1505043256504516,0.9154992680625726,-0.4382002673386686,0.1855356209665554,0.3944280300121126,0.7255225582535588,1.4958847658844756,0.6754538092042119,0.5992132354592584,-1.4702370890213132,0.6064039443038369,2.293717612357178,-0.8300109855676734,-1.0195198494057163,-0.2146538422260227,1.0212481260989013,0.5247504922968238,-0.47712420646933207,-0.03599018172719132,1.0370389817739079,0.672619748121479,2.428876969522979,1.0056866803112163,0.3535672160026291,0.6147262758274484,-0.34898419091555255,-0.977773001532967,0.17195713216759081,0.4905610438096389,-1.395283025065327,-0.5223564651356952,-0.36925590182896817,0.2656424025142851,-0.2604660588653798,0.445096710344572,0.09811224622199123,1.0603275091568074,-1.7111676596244927,1.6571246380429256,1.4176740129993604,0.05031708614713537,0.6503232142523461,0.6065484004132948,-0.7372896277599319,0.16466506584920662,0.7781741790995664,0.30981675860748836,1.0513207678487513,0.09499611006916124,0.08075098862302005,-0.7678037460245601,-0.3645380497066375,-0.45971768103806804,1.7054835177554424,0.24050555214736213,-0.9994265013581795,0.3985983881614373,-0.1920036966310444,-3.053764380426305,0.4798523711538174,-1.5526987831768355,0.578464420256242,-0.96126359903051,-1.458324460393154,0.49434165098237876,-1.4941937652746844,-0.44669920347712,0.20437739492116297,0.612232523128053,0.7448845364406519,-0.036281288553702225,-0.8323953476886892,1.923815425970925,-0.6059813205385978,1.8035889814864974,-0.4525249732840256,1.1612856933418074,1.069965538950133,-1.0455342473768945,0.35528450700622954,0.7553920291908554,0.7009821215232441,-0.198937450283896,0.3019600454061449,-0.3946896809955576,-1.1718133792211223,0.9840122369402405,-0.5596814219185569,1.3797581916062172,0.6024509012396099,-0.8926466735128841,-0.16119831954123737,-0.28638491539517374,-0.8708876496519611,0.5014295898933301,-0.47861407386118443,1.6316915136307972,0.8608912410184296,-0.8801890645415797,-0.01900052154731654,-0.22676019216958399,-1.5645078538111965,0.9312556787681191,0.9498088152113293,0.9255012147023857,-0.4569878575935375,1.0689859716189178,-0.20975293542255413,0.9351477795910749,1.8125278151175406,0.14010988130475283,-1.4191487771444868,-0.31690119652834625,0.6409858663835063,1.2198743790306215,-1.133792035393578,-0.19054829766145195,0.23333912626012182,0.43499832426284113,0.9104236030030839,-0.9484396564537968,-0.4234782972255359,1.0079664776005783,0.3923349111243075,0.44838065078168743,1.1253234986642537,0.10405338970908944,0.5280034220718364,-0.3145638619172873,-1.3450100202683752,-1.2952578852810872,0.07432055368263171,-0.1995607179962165,-0.654603168524978,0.31801429641916884,-0.8902715521082489,0.11133726638297002,-0.019522558320273307,-0.8399889146122471,-2.298205880537852,1.456527386472777,0.3166372357039576,-2.664125939262139,-0.42642861763352236,0.39378773124931865,-0.22814069070045617,0.5803301126032293,-0.9732675852492401,0.1751677292180687,-0.053483692735156345,-0.1830619869619735,-0.22102890178833562,0.19975955519262756,0.9327214136880919,-0.5301198002000516,-0.4072400240119308,0.16056499174251157,-0.12014997562874898,0.38560229234432525,0.7182907357543429,1.2911889028508758,-0.11644414827166405,-2.2772979966603657,-0.06962453945512911,0.35387042688284037,-0.18695501653274957,-0.15323616176709168,-2.432508512647113,0.5079843366153792,-0.3240323290200066,-1.5110766079102027,-0.8714220655949576,-0.8648299414655872,0.6087490823417022,0.5616380965234054,1.514750382482251,0.6479248123129182,-1.3516493853176743,-1.4092092764721913,1.130725354529131,1.5666862010961442,-0.23774809814536352,0.5588029881851114,-1.5048912837795123,-1.9439217583317874,-1.1740236765428438],\"type\":\"box\"},{\"marker\":{\"color\":\"lightseagreen\"},\"name\":\"Sample B\",\"y\":[-0.3571875256030163,-0.521376385408038,-0.2301140634512672,-0.4910144326991102,0.6793011449496629,1.4275469513273447,0.036197462760435326,2.029997487440461,-0.6344047103008461,-0.5251033939389392,0.3877346627429501,-0.35479876201067406,1.1770522557766416,-0.6411078151978892,1.32269398510864,0.19417501629377704,2.5654527807167797,-0.4641149056482057,-0.20269390770746232,0.14565181728648766,-2.1810279670819495,0.6022651275385377,0.48084611326516874,0.10931836390543528,-1.5443957813866982,-1.5465610399686571,0.5866185186008445,1.175178687557355,1.5944646318222213,-0.8954415239499194,-1.0307980277587836,-0.2719387996845504,-1.9757301418738367,-0.5889311760437443,0.851789637515316,1.634602501369415,0.2791554536346638,1.640553648555269,0.410872937999071,0.19136391513892,-0.17144118747753334,0.18693704577199538,-0.25485294724388907,-0.1409107523901582,-0.6618918349396725,0.2590319017920037,0.014448415017786457,-1.479580034616112,-0.24070050175198632,-0.8556713923944985,-2.048200458740775,0.4838836493413234,1.5586882545223812,2.369730189064904,1.5624195294929633,-0.8708015526080608,1.175244992708054,1.1198990035561387,-1.9878295313946217,0.8612885153914502,0.6271770353915255,0.1628082503067918,0.2886167156768053,0.05830738274408399,1.6319358486550282,-0.40178883383188707,-0.19993939322127943,0.007388983706183854,0.2756640751500719,-1.7632498009912314,1.3879738095489653,0.22619975684315669,0.5691245958247787,0.19731599174779044,-0.18644127128388416,-0.35524151349696165,0.09611414233952063,0.15205234093342904,1.1552617554181506,0.34605774628467395,-0.13348866936606069,1.9865651109424,-1.279426156313522,-1.3402091759035006,0.3546020521128279,-0.21237328549062034,-1.7745959882248337,-0.3122296613778122,-0.7106557706807829,1.1311286004249619,-0.6212517704302448,1.0506146488672723,0.45978170021018383,-0.20633091204487983,0.02117182858814892,0.4286587396338861,-2.3080385136282993,0.3270684075693673,-0.37911961080083867,1.7979193663881117],\"type\":\"box\"},{\"marker\":{\"color\":\"blue\"},\"name\":\"Sample C\",\"y\":[-0.6912689567621623,1.1425639200052216,-2.514924624405778,0.8146250149842883,0.2761027539232751,-0.24701649088573535,-0.1208893104863365,-0.2605605906223512,0.42300320958327586,-0.1342485646303186],\"type\":\"box\"}],                        {\"template\":{\"data\":{\"bar\":[{\"error_x\":{\"color\":\"#2a3f5f\"},\"error_y\":{\"color\":\"#2a3f5f\"},\"marker\":{\"line\":{\"color\":\"#E5ECF6\",\"width\":0.5},\"pattern\":{\"fillmode\":\"overlay\",\"size\":10,\"solidity\":0.2}},\"type\":\"bar\"}],\"barpolar\":[{\"marker\":{\"line\":{\"color\":\"#E5ECF6\",\"width\":0.5},\"pattern\":{\"fillmode\":\"overlay\",\"size\":10,\"solidity\":0.2}},\"type\":\"barpolar\"}],\"carpet\":[{\"aaxis\":{\"endlinecolor\":\"#2a3f5f\",\"gridcolor\":\"white\",\"linecolor\":\"white\",\"minorgridcolor\":\"white\",\"startlinecolor\":\"#2a3f5f\"},\"baxis\":{\"endlinecolor\":\"#2a3f5f\",\"gridcolor\":\"white\",\"linecolor\":\"white\",\"minorgridcolor\":\"white\",\"startlinecolor\":\"#2a3f5f\"},\"type\":\"carpet\"}],\"choropleth\":[{\"colorbar\":{\"outlinewidth\":0,\"ticks\":\"\"},\"type\":\"choropleth\"}],\"contour\":[{\"colorbar\":{\"outlinewidth\":0,\"ticks\":\"\"},\"colorscale\":[[0.0,\"#0d0887\"],[0.1111111111111111,\"#46039f\"],[0.2222222222222222,\"#7201a8\"],[0.3333333333333333,\"#9c179e\"],[0.4444444444444444,\"#bd3786\"],[0.5555555555555556,\"#d8576b\"],[0.6666666666666666,\"#ed7953\"],[0.7777777777777778,\"#fb9f3a\"],[0.8888888888888888,\"#fdca26\"],[1.0,\"#f0f921\"]],\"type\":\"contour\"}],\"contourcarpet\":[{\"colorbar\":{\"outlinewidth\":0,\"ticks\":\"\"},\"type\":\"contourcarpet\"}],\"heatmap\":[{\"colorbar\":{\"outlinewidth\":0,\"ticks\":\"\"},\"colorscale\":[[0.0,\"#0d0887\"],[0.1111111111111111,\"#46039f\"],[0.2222222222222222,\"#7201a8\"],[0.3333333333333333,\"#9c179e\"],[0.4444444444444444,\"#bd3786\"],[0.5555555555555556,\"#d8576b\"],[0.6666666666666666,\"#ed7953\"],[0.7777777777777778,\"#fb9f3a\"],[0.8888888888888888,\"#fdca26\"],[1.0,\"#f0f921\"]],\"type\":\"heatmap\"}],\"heatmapgl\":[{\"colorbar\":{\"outlinewidth\":0,\"ticks\":\"\"},\"colorscale\":[[0.0,\"#0d0887\"],[0.1111111111111111,\"#46039f\"],[0.2222222222222222,\"#7201a8\"],[0.3333333333333333,\"#9c179e\"],[0.4444444444444444,\"#bd3786\"],[0.5555555555555556,\"#d8576b\"],[0.6666666666666666,\"#ed7953\"],[0.7777777777777778,\"#fb9f3a\"],[0.8888888888888888,\"#fdca26\"],[1.0,\"#f0f921\"]],\"type\":\"heatmapgl\"}],\"histogram\":[{\"marker\":{\"pattern\":{\"fillmode\":\"overlay\",\"size\":10,\"solidity\":0.2}},\"type\":\"histogram\"}],\"histogram2d\":[{\"colorbar\":{\"outlinewidth\":0,\"ticks\":\"\"},\"colorscale\":[[0.0,\"#0d0887\"],[0.1111111111111111,\"#46039f\"],[0.2222222222222222,\"#7201a8\"],[0.3333333333333333,\"#9c179e\"],[0.4444444444444444,\"#bd3786\"],[0.5555555555555556,\"#d8576b\"],[0.6666666666666666,\"#ed7953\"],[0.7777777777777778,\"#fb9f3a\"],[0.8888888888888888,\"#fdca26\"],[1.0,\"#f0f921\"]],\"type\":\"histogram2d\"}],\"histogram2dcontour\":[{\"colorbar\":{\"outlinewidth\":0,\"ticks\":\"\"},\"colorscale\":[[0.0,\"#0d0887\"],[0.1111111111111111,\"#46039f\"],[0.2222222222222222,\"#7201a8\"],[0.3333333333333333,\"#9c179e\"],[0.4444444444444444,\"#bd3786\"],[0.5555555555555556,\"#d8576b\"],[0.6666666666666666,\"#ed7953\"],[0.7777777777777778,\"#fb9f3a\"],[0.8888888888888888,\"#fdca26\"],[1.0,\"#f0f921\"]],\"type\":\"histogram2dcontour\"}],\"mesh3d\":[{\"colorbar\":{\"outlinewidth\":0,\"ticks\":\"\"},\"type\":\"mesh3d\"}],\"parcoords\":[{\"line\":{\"colorbar\":{\"outlinewidth\":0,\"ticks\":\"\"}},\"type\":\"parcoords\"}],\"pie\":[{\"automargin\":true,\"type\":\"pie\"}],\"scatter\":[{\"marker\":{\"colorbar\":{\"outlinewidth\":0,\"ticks\":\"\"}},\"type\":\"scatter\"}],\"scatter3d\":[{\"line\":{\"colorbar\":{\"outlinewidth\":0,\"ticks\":\"\"}},\"marker\":{\"colorbar\":{\"outlinewidth\":0,\"ticks\":\"\"}},\"type\":\"scatter3d\"}],\"scattercarpet\":[{\"marker\":{\"colorbar\":{\"outlinewidth\":0,\"ticks\":\"\"}},\"type\":\"scattercarpet\"}],\"scattergeo\":[{\"marker\":{\"colorbar\":{\"outlinewidth\":0,\"ticks\":\"\"}},\"type\":\"scattergeo\"}],\"scattergl\":[{\"marker\":{\"colorbar\":{\"outlinewidth\":0,\"ticks\":\"\"}},\"type\":\"scattergl\"}],\"scattermapbox\":[{\"marker\":{\"colorbar\":{\"outlinewidth\":0,\"ticks\":\"\"}},\"type\":\"scattermapbox\"}],\"scatterpolar\":[{\"marker\":{\"colorbar\":{\"outlinewidth\":0,\"ticks\":\"\"}},\"type\":\"scatterpolar\"}],\"scatterpolargl\":[{\"marker\":{\"colorbar\":{\"outlinewidth\":0,\"ticks\":\"\"}},\"type\":\"scatterpolargl\"}],\"scatterternary\":[{\"marker\":{\"colorbar\":{\"outlinewidth\":0,\"ticks\":\"\"}},\"type\":\"scatterternary\"}],\"surface\":[{\"colorbar\":{\"outlinewidth\":0,\"ticks\":\"\"},\"colorscale\":[[0.0,\"#0d0887\"],[0.1111111111111111,\"#46039f\"],[0.2222222222222222,\"#7201a8\"],[0.3333333333333333,\"#9c179e\"],[0.4444444444444444,\"#bd3786\"],[0.5555555555555556,\"#d8576b\"],[0.6666666666666666,\"#ed7953\"],[0.7777777777777778,\"#fb9f3a\"],[0.8888888888888888,\"#fdca26\"],[1.0,\"#f0f921\"]],\"type\":\"surface\"}],\"table\":[{\"cells\":{\"fill\":{\"color\":\"#EBF0F8\"},\"line\":{\"color\":\"white\"}},\"header\":{\"fill\":{\"color\":\"#C8D4E3\"},\"line\":{\"color\":\"white\"}},\"type\":\"table\"}]},\"layout\":{\"annotationdefaults\":{\"arrowcolor\":\"#2a3f5f\",\"arrowhead\":0,\"arrowwidth\":1},\"autotypenumbers\":\"strict\",\"coloraxis\":{\"colorbar\":{\"outlinewidth\":0,\"ticks\":\"\"}},\"colorscale\":{\"diverging\":[[0,\"#8e0152\"],[0.1,\"#c51b7d\"],[0.2,\"#de77ae\"],[0.3,\"#f1b6da\"],[0.4,\"#fde0ef\"],[0.5,\"#f7f7f7\"],[0.6,\"#e6f5d0\"],[0.7,\"#b8e186\"],[0.8,\"#7fbc41\"],[0.9,\"#4d9221\"],[1,\"#276419\"]],\"sequential\":[[0.0,\"#0d0887\"],[0.1111111111111111,\"#46039f\"],[0.2222222222222222,\"#7201a8\"],[0.3333333333333333,\"#9c179e\"],[0.4444444444444444,\"#bd3786\"],[0.5555555555555556,\"#d8576b\"],[0.6666666666666666,\"#ed7953\"],[0.7777777777777778,\"#fb9f3a\"],[0.8888888888888888,\"#fdca26\"],[1.0,\"#f0f921\"]],\"sequentialminus\":[[0.0,\"#0d0887\"],[0.1111111111111111,\"#46039f\"],[0.2222222222222222,\"#7201a8\"],[0.3333333333333333,\"#9c179e\"],[0.4444444444444444,\"#bd3786\"],[0.5555555555555556,\"#d8576b\"],[0.6666666666666666,\"#ed7953\"],[0.7777777777777778,\"#fb9f3a\"],[0.8888888888888888,\"#fdca26\"],[1.0,\"#f0f921\"]]},\"colorway\":[\"#636efa\",\"#EF553B\",\"#00cc96\",\"#ab63fa\",\"#FFA15A\",\"#19d3f3\",\"#FF6692\",\"#B6E880\",\"#FF97FF\",\"#FECB52\"],\"font\":{\"color\":\"#2a3f5f\"},\"geo\":{\"bgcolor\":\"white\",\"lakecolor\":\"white\",\"landcolor\":\"#E5ECF6\",\"showlakes\":true,\"showland\":true,\"subunitcolor\":\"white\"},\"hoverlabel\":{\"align\":\"left\"},\"hovermode\":\"closest\",\"mapbox\":{\"style\":\"light\"},\"paper_bgcolor\":\"white\",\"plot_bgcolor\":\"#E5ECF6\",\"polar\":{\"angularaxis\":{\"gridcolor\":\"white\",\"linecolor\":\"white\",\"ticks\":\"\"},\"bgcolor\":\"#E5ECF6\",\"radialaxis\":{\"gridcolor\":\"white\",\"linecolor\":\"white\",\"ticks\":\"\"}},\"scene\":{\"xaxis\":{\"backgroundcolor\":\"#E5ECF6\",\"gridcolor\":\"white\",\"gridwidth\":2,\"linecolor\":\"white\",\"showbackground\":true,\"ticks\":\"\",\"zerolinecolor\":\"white\"},\"yaxis\":{\"backgroundcolor\":\"#E5ECF6\",\"gridcolor\":\"white\",\"gridwidth\":2,\"linecolor\":\"white\",\"showbackground\":true,\"ticks\":\"\",\"zerolinecolor\":\"white\"},\"zaxis\":{\"backgroundcolor\":\"#E5ECF6\",\"gridcolor\":\"white\",\"gridwidth\":2,\"linecolor\":\"white\",\"showbackground\":true,\"ticks\":\"\",\"zerolinecolor\":\"white\"}},\"shapedefaults\":{\"line\":{\"color\":\"#2a3f5f\"}},\"ternary\":{\"aaxis\":{\"gridcolor\":\"white\",\"linecolor\":\"white\",\"ticks\":\"\"},\"baxis\":{\"gridcolor\":\"white\",\"linecolor\":\"white\",\"ticks\":\"\"},\"bgcolor\":\"#E5ECF6\",\"caxis\":{\"gridcolor\":\"white\",\"linecolor\":\"white\",\"ticks\":\"\"}},\"title\":{\"x\":0.05},\"xaxis\":{\"automargin\":true,\"gridcolor\":\"white\",\"linecolor\":\"white\",\"ticks\":\"\",\"title\":{\"standoff\":15},\"zerolinecolor\":\"white\",\"zerolinewidth\":2},\"yaxis\":{\"automargin\":true,\"gridcolor\":\"white\",\"linecolor\":\"white\",\"ticks\":\"\",\"title\":{\"standoff\":15},\"zerolinecolor\":\"white\",\"zerolinewidth\":2}}}},                        {\"responsive\": true}                    ).then(function(){\n",
              "                            \n",
              "var gd = document.getElementById('fc5fcd3c-32f7-4384-a7a1-61104e64218a');\n",
              "var x = new MutationObserver(function (mutations, observer) {{\n",
              "        var display = window.getComputedStyle(gd).display;\n",
              "        if (!display || display === 'none') {{\n",
              "            console.log([gd, 'removed!']);\n",
              "            Plotly.purge(gd);\n",
              "            observer.disconnect();\n",
              "        }}\n",
              "}});\n",
              "\n",
              "// Listen for the removal of the full notebook cells\n",
              "var notebookContainer = gd.closest('#notebook-container');\n",
              "if (notebookContainer) {{\n",
              "    x.observe(notebookContainer, {childList: true});\n",
              "}}\n",
              "\n",
              "// Listen for the clearing of the current output cell\n",
              "var outputEl = gd.closest('.output');\n",
              "if (outputEl) {{\n",
              "    x.observe(outputEl, {childList: true});\n",
              "}}\n",
              "\n",
              "                        })                };                            </script>        </div>\n",
              "</body>\n",
              "</html>"
            ]
          },
          "metadata": {}
        },
        {
          "output_type": "display_data",
          "data": {
            "text/html": [
              "<html>\n",
              "<head><meta charset=\"utf-8\" /></head>\n",
              "<body>\n",
              "    <div>            <script src=\"https://cdnjs.cloudflare.com/ajax/libs/mathjax/2.7.5/MathJax.js?config=TeX-AMS-MML_SVG\"></script><script type=\"text/javascript\">if (window.MathJax) {MathJax.Hub.Config({SVG: {font: \"STIX-Web\"}});}</script>                <script type=\"text/javascript\">window.PlotlyConfig = {MathJaxConfig: 'local'};</script>\n",
              "        <script src=\"https://cdn.plot.ly/plotly-2.8.3.min.js\"></script>                <div id=\"f9d52c04-0da2-46c6-9ae7-59d17bffea14\" class=\"plotly-graph-div\" style=\"height:525px; width:100%;\"></div>            <script type=\"text/javascript\">                                    window.PLOTLYENV=window.PLOTLYENV || {};                                    if (document.getElementById(\"f9d52c04-0da2-46c6-9ae7-59d17bffea14\")) {                    Plotly.newPlot(                        \"f9d52c04-0da2-46c6-9ae7-59d17bffea14\",                        [{\"marker\":{\"color\":\"indianred\"},\"name\":\"Sample A\",\"y\":[-1.1006191772129212,1.1447237098396141,0.9015907205927955,0.5024943389018682,0.9008559492644118,-0.6837278591743331,-0.12289022551864817,-0.9357694342590688,-0.2678880796260159,0.530355466738186,-0.691660751725309,-0.39675352685597737,-0.6871727001195994,-0.8452056414987196,-0.671246130836819,-0.01266459891890136,-1.1173103486352778,0.23441569781709215,1.6598021771098705,0.7420441605773356,-0.19183555236161492,-0.8876289640848363,-0.7471582937508376,1.6924546010277466,0.05080775477602897,-0.6369956465693534,0.19091548466746602,2.100255136478842,0.12015895248162915,0.6172031097074192,0.3001703199558275,-0.35224984649351865,-1.1425181980221402,-0.3493427224128775,-0.2088942333747781,0.5866231911821976,0.8389834138745049,0.9311020813035573,0.2855873252542588,0.8851411642707281,-0.7543979409966528,1.2528681552332879,0.5129298204180088,-0.29809283510271567,0.48851814653749703,-0.07557171302105573,1.131629387451427,1.5198168164221988,2.1855754065331614,-1.3964963354881377,-1.4441138054295894,-0.5044658629464512,0.16003706944783047,0.8761689211162249,0.31563494724160523,-2.022201215824003,-0.3062040126283718,0.8279746426072462,0.2300947353643834,0.7620111803120247,-0.22232814261035927,-0.20075806892999745,0.1865613909882843,0.4100516472082563,0.19829972012676975,0.11900864580745882,-0.6706622862890306,0.3775637863209194,0.12182127099143693,1.1294839079119197,1.198917879901507,0.18515641748394385,-0.3752849500901142,-0.6387304074542224,0.4234943540641129,0.07734006834855942,-0.3438536755710756,0.04359685683424694,-0.6200008439481293,0.6980320340722189,-0.4471285647859982,1.2245077048054989,0.4034916417908,0.593578523237067,-1.0949118457410418,0.1693824330586681,0.7405564510962748,-0.9537006018079346,-0.26621850600362207,0.03261454669335856,-1.3731173202467557,0.31515939204229176,0.8461606475850334,-0.8595159408319863,0.35054597866410736,-1.3122834112374318,-0.038695509266051115,-1.6157723547032947,1.121417708235664,0.4089005379368278,-0.024616955875778355,-0.7751616191691596,1.2737559301587766,1.9671017492547347,-1.857981864446752,1.2361640304528203,1.6276507531489064,0.3380116965744758,-1.199268032335186,0.8633453175440216,-0.18092030207815046,-0.6039206277932573,-1.2300581356669618,0.5505374959762154,0.7928068659193477,-0.6235307296797916,0.5205763370733708,-1.1443413896231427,0.8018610318713447,0.04656729842414554,-0.18656977190734877,-0.10174587252914521,0.8688861570058679,0.7504116398650081,0.5294653243527092,0.13770120999738608,0.07782112791270591,0.6183802619985245,0.23249455917873788,0.6825514068644851,-0.31011677351806,-2.434837764107139,1.038824601859414,2.1869796469742577,0.44136444356858207,-0.10015523328349978,-0.13644474389603303,-0.11905418777480989,0.0174094083000046,-1.1220187287468883,-0.5170944579202279,-0.997026827650263,0.2487991613877705,-0.29664115237086275,0.4952113239779604,-0.17470315974250095,0.9863351878212421,0.2135339013354418,2.1906997289697334,-1.8963609228910925,-0.646916688254908,0.901486891648711,2.528325706806398,-0.24863477771546005,0.043668993178389105,-0.22631424251360518,1.3314571125875918,-0.2873078634760189,0.6800698398781045,-0.3198015988986712,-1.2725587552459943,0.31354772046343216,0.5031848134353261,1.2932258825322618,-0.11044702641731631,-0.6173620637123609,0.5627610966190263,0.24073709223773224,0.28066507712263905,-0.07311270374727777,1.1603385699937696,0.36949271637572373,1.9046587083409812,1.1110566985605046,0.6590497961002102,-1.6274383406162574,0.602319280295629,0.42028220364705954,0.8109516728035557,1.0444420947072588,-0.40087819178892664,0.8240056184504077,-0.5623054310190898,1.9548780750090344,-1.3319516665172482,-1.7606885603987834,-1.6507212658241002,-0.8905555841630485,-1.119115398559728,1.956078903703642,-0.32649949807818424,-1.342675789377436,1.114382976779792,-0.5865239388215925,-1.2368533765413974,0.8758389276492995,0.6233621765780327,-0.4349566829552277,1.4075400002412286,0.12910157971072544,1.6169495988573002,0.5027408819999043,1.5588055406198593,0.10940269642542817,-1.2197443969790327,2.4493686490613973,-0.5457741679825677,-0.19883786288889674,-0.7003985049212547,-0.20339444896455844,0.24266944108179458,0.20183017887400403,0.6610202875986929,1.792158208975567,-0.12046457178850745,-1.2331207354464266,-1.1823181265096336,-0.6657545181991266,-1.674195807618932,0.8250298244389859,-0.4982135636310781,-0.3109849783028509,-0.0018914828380037015,-1.396620424595432,-0.861316360776042,0.6747115256879723,0.6185391307862932,-0.44317193070063776,1.8105349141254563,-1.3057269225577375,-0.34498721015497946,-0.23083974313546946,-2.79308500014654,1.9375288136160798,0.36633201454005826,-1.0445893819077916,2.0511734428574444,0.5856620001723825,0.4295261400219645,-0.6069983982000461,0.1062227240352178,-1.5256803162293577,0.7950260944248447,-0.37443831884322065,0.13404819655462313,1.2020548621997058,0.28474811084905793,0.2624674454632686,0.27649930482218366,-0.7332716038953129,0.8360047194342688,1.5433591108044837,0.7588056600979309,0.8849088144648833,-0.8772815189181883,-0.8677872228729256,-1.44087602429184,1.232253070828436,-0.2541798676073683,1.3998439424809859,-0.7819116826868007,-0.437508982828581,0.0954250871912577,0.9214500686595114,0.060750195799506745,0.21112475500771674,0.01652756730561561,0.17718772027596041,-1.1164700178847444,0.0809271009732786,-0.18657899351146628,-0.0568244808858473,0.4923365559366488,-0.6806781410088858,-0.0845080274046298,-0.2973618827735036,0.41730200497486253,0.7847706510155895,-0.9554252623736892,0.5859104311026156,2.0657833202188343,-1.471156925832625,-0.8301718953151139,-0.8805775998441709,-0.27909772154329027,1.622849085954001,0.013352676347176594,-0.6946935952872263,0.6218035043055724,-0.5998045310708474,1.1234121620219353,0.30526704024401075,1.3887793963702684,-0.6613442431530187,3.0308571123720305,0.8245846250334574,0.6545801525867004,-0.05118844760766421,-0.7255971191344275,-0.8677686776235903,-0.13597732610058932,-0.7972697854931297,0.28267571224842025,-0.8260974318473202,0.6210827008390084,0.9561217041246964,-0.7058405074022839,1.1926860677546935,-0.23794193575218264,1.1552878860882252,0.4381663472912375,1.1223283216570923,-0.9970197955296825,-0.10679398677922511,1.4514292605909354,-0.6180368476815788,-2.037201225680795,-1.9425891814764555,-2.506440652676061,-2.114163921916826,-0.41163916318848254,1.2785280828417218,-0.4422292795131728,0.3235273536014321,-0.10999149016360682,0.008548945436024693,-0.16819883974471597,-0.1741803443079907,0.46116409997701746,-1.1759826714413153,1.0101271773347245,0.9200179332477632,-0.19505734087590118,0.8053934242321815,-0.7013444262571769,-0.5372230238753384,0.15626385027008327,-0.1902210250848615,-0.44873803267162277,-0.6724480387865963,-0.5574947217860433,0.9391687441964878,-1.9433234056683528,0.352494364369333,-0.2364369518129867,0.7278134999996488,0.5150736136393657,-2.7825344676529227,0.5846466104774262,0.32427424344842104,0.02186283662655242,-0.46867381627789134,0.8532812219556223,-0.4130293097110322,1.8347176266496867,0.5643828554943137,2.1378280674394823,-0.7855339969202355,-1.7559256402328518,0.7147895974858154,0.8527040617252863,0.03536009705475734,-1.5387932457446432,-0.4478951847161186,0.6179855339203347,-0.18417632565374534,-0.11598518547239624,-0.1754589686617526,-0.9339146556265013,-0.5330203260835993,-1.426555420520532,1.7679599483110264,-0.4753728751379821,0.47761018181755727,-1.0218859446413093,0.7945282396010823,-1.8731609776353015,0.9206151180549562,-0.03536792487871091,2.1106050536007097,-1.3065340728440185,0.076380480159592,0.3672318138838647,1.2328991923762371,-0.4228569613907754,0.08646440652428741,-2.1424667290773685,-0.830168864022708,0.45161595055524156,1.1041743263032135,-0.28173626906561283,2.0563555231982935,1.7602492264490932,-0.06065249177480989,-2.4135030011737877,-1.7775663758059874,-0.7778588266274128,1.1158411079241686,0.3102722877837673,-2.094247816222812,-0.22876582887016242,1.6133613745631155,-0.3748046873026527,-0.7499696172756662,2.054624102518116,0.05340953679834792,-0.4791570987860799,0.3501671588282789,0.017164726374088564,-0.42914227823509377,1.208456328551963,1.1157018027844863,0.8408615581411037,-0.1028872175735376,1.146900376399483,-0.04970257915867584,0.46664326722884075,1.033686867939501,0.8088443602656821,1.7897546832062712,0.4512840160401709,-1.6840599858682372,-1.1601701049822761,1.350106818681726,-0.3312831699326283,0.3865391451330911,-0.8514556565308268,1.000881423680301,-0.38483224883279044,1.4581082386095199,-0.5322340208981775,1.1181333967176956,0.6743961048208689,-0.7223919054141509,1.0989963327471792,-0.901634490475998,-0.8224671889042517,0.7217112921126926,-0.625342001465988,-0.5938430672545096,-0.3439007092103924,-1.0001691898725158,1.0449944096738975,0.6085146984848496,-0.06932869669048287,-0.10839206717353982,0.45015551276717897,1.7653351005190716,0.8709698025322423,-0.5084571342754007,0.7774192052488628,-0.11877117210308928,-0.19899818380372442,1.8664713751521251,-0.41893789767812306,-0.47918491512740585,-1.9521052872452325,-1.4023291454531368,0.4511229387345986,-0.6949209011852391,0.515413801783241,-1.1148710523659369,-0.7673098263317347,0.6745707069560037,1.460892380463078,0.5924728014240198,1.197830841721251,1.7045941713724069,1.0400891531540952,-0.918440038300026,-0.10534471250754213,0.630195670684911,-0.4148469012882354,0.45194603732122307,-1.5791562853944654,-0.8286279788564058,0.528879745585174,-2.2370865111124707,-1.1077125022845524,-0.01771831791014226,-1.719394474619523,0.057120996082092076,-0.7995474906917599,-0.2915945955008327,-0.25898285340053234,0.1892931975586576,-0.5637887345823027,0.08968640732259017,-0.6011568006493835,0.5560735100773853,1.693809113288081,0.19686977925029145,0.1698692553475717,-1.1640079711612021,0.6933662256603845,-0.7580673285562323,-0.8088471964721285,0.5574394528580334,0.18103874435787085,1.1071754509490623,1.4428769284963092,-0.5396815622024924,0.12837699015594436,1.7604151835753223,0.9665392502290573,0.7130490503032691,1.3062060651354486,-0.604602969164376,0.6365834094146309,1.4092533893640082,1.6209122856217475,-0.8061848173822241,-0.2516742076314244,0.3827151737243639,-0.2889973430098159,-0.3918162398080484,0.684001328181953,-0.35340998286701436,-1.7879128911997157,0.36184731583956825,-0.4244927905709274,-0.7315309817303334,-1.5657381506559054,1.0138224669717055,-2.2271126318500145,-1.6993336047222958,-0.27584606256114336,1.2289555856506973,1.3097059056826534,-1.1549826349293644,-0.17763219598355098,-1.5104563750875688,1.0112070637749084,-1.4765626605201803,-0.14319574500723764,1.0329837789497511,-0.22241402852990858,1.4701603438257402,-0.870008223190852,0.36919046954687373,0.8532821858237332,-0.13971173044107246,1.3863142642463189,0.5481295846881931,-1.6374495930083417,3.9586027040379634,0.6486436440906672,0.10734329382358966,-1.3988128186664763,0.08176781880561644,-0.45994283084068716,0.6443536660303223,0.37167029121186534,1.853009485069379,0.14225137252631778,0.5135054799885475,0.3724568515114425,-0.14848980305939366,-0.1834001973200239,1.1010002026684818,0.7800271353386294,-0.62944160405378,-1.1134361029729902,-0.06741002494685439,1.1614399816743937,-0.027529386267978004,1.7464350892279725,-0.7750702870734348,0.14164053766580517,-2.516303860965749,-0.5956678809102903,-0.30912131864186215,0.5109377744920892,1.7106618386711354,0.03494358936374005,1.4539175816088175,0.6616810764659825,0.9863521802120643,-0.466154856825928,1.3849913436486387,-1.072964278711645,0.49515861120031657,-0.952062100706259,-0.5181455523987548,-1.4614036047221062,-0.5163479086460222,0.35111689651096534,-0.06877046307863847,-1.3477649412536636,1.470739856691369,0.33722093830845856,1.0080654330757632,0.7852269196346882,-0.6648677669672133,-1.9450469586120391,-0.9154243682317061,1.2251558492732308,-1.053546073700315,0.8160436843240609,-0.6124069731288238,0.3931092448539835,-1.8239198526251938,1.167075165999964,-0.03966870009048212,0.8858257989659072,0.18986164938309566,0.7980637952989431,-0.10193203926360005,0.7433565435138623,-1.5095726842240433,-1.0807106924455065,0.7254740044815357,-0.039178256209496685,-0.22875417122021255,-0.17961229465135792,0.5017251093451655,-0.593343754242419,0.5103075967452559,-0.9157918490686792,-0.40725204301996576,0.9849516717192109,1.0712524278458908,-1.0971543602553622,0.8386347472283774,-1.039182322034903,0.7330232317190783,-1.8988120593192948,-1.1171106924391125,-0.5089722778228615,-0.16648595488595935,1.4236144293489872,0.9039991740035269,1.5754679085723808,1.2066078980355681,-0.2828635516348445,-0.2663268843187201,1.0689716222012626,0.040371431022839264,-0.15699367249331792,-1.3352027230151915,-0.10646012155553987,-2.7909964066938464,-0.45611755514868535,-0.9798902516618007,0.6925743475393558,-0.4786723564156615,-0.3290515493410809,1.3471054646704976,-1.0490677451686161,0.31665889515665435,-1.895266947476466,0.08972911744465112,0.41026574539684446,0.8598709717969121,-0.8986831933186461,0.3196569419445935,0.31815419967868935,-0.01923163409763723,0.15001627872780374,0.4635343217316655,0.39788042488185116,-0.9960108890883996,-1.1958615103244818,2.505980285318673,1.9197922864280879,-1.3916938760540336,0.4502177420378455,0.6274370827531105,0.7513372351604846,0.14039543644735017,-0.9268719392086243,-0.18242040636309756,-0.49112513779081807,0.1343731160397544,-0.26837130412057664,-0.13167562628701832,1.018552474767882,1.2305581999547246,-1.181103172771823,-0.45993010443458127,-0.7907999537751678,1.2237222119601092,-0.05936790254849916,1.4489894041582356,-0.4775808546567209,0.025999994185658175,-1.3486964467972422,1.3025355364861801,-0.36261208757725877,-1.4851564513254543,-0.5924612851532695,-2.304907937770138,-0.03181717269879145,0.11248774241419583,0.28807816700515054,1.498108183577034,-0.30097615395533844,0.8074559170052702,0.3122386890129999,-0.1933216404740039,-2.076802021923554,0.9475011673456759,-0.5039739491423175,0.017955891650826426,-1.2704607763854796,0.2829955338110016,0.10803081731234535,0.02941761897076564,-0.13479312929572362,1.0492182907525678,0.9662208625783415,0.7259168525208212,3.3210787561703645,-0.6002253303773148,-0.37951751553387963,-1.014803690858671,0.43598619629640983,-0.6874873930601744,-2.698361741666047,-1.2133381258287046,0.07225189915588459,1.0097873349475586,-1.5569415578650314,-0.6124421282843443,-0.13935180545092124,-0.7285374894247015,0.5311637934562251,0.004000841975375483,0.3212659144838316,-0.7252149257453662,1.5365363280210986,-0.00037500875835609604,1.2935496206633084,-0.43899766366627757,0.5900394641608302,-0.6793837829972343,-0.9509092510507696,-0.7043503315234588,-0.04586668606976747,-0.21873345896770915,1.5392070096550627,-1.1487042296369459,-1.0903383324548148,1.700188146645526,0.6087836589081088,-1.8814108671660597,0.4972690986459772,0.23733269933959658,-2.1444440467284505,-0.3695624253374333,-0.017454951836177974,0.7314025171250657,0.9544956665476875,0.09574677111013467,1.0334508032642373,-0.1462732746113538,-0.857496824739772,-0.934181843147949,0.542645294566316,-1.9581690855990108,0.6778075711198115,-1.1065730673918852,-0.3592240957107388,0.5053819027529176,1.2179409008013473,-1.9406809643648932,-0.806178211953457,0.04906169237310281,-0.596086334587662,0.8616231013412039,-2.0863905654565262,0.3618016405710469,0.425920176502816,0.049080397141630476,1.1022367325853422,-1.229574253546429,1.108616757989675,-0.7029204029101687,0.7255505180787332,-0.32420421948521105,0.8143431291489254,0.7804699297583744,-1.4640535735805917,-0.1544911938105286,-0.09243231854158614,-0.2378752654568325,-0.7556627651019651,1.8514378945735097,0.20909667657552103,1.5550159943330888,-0.5691486535119704,-1.061796761310848,0.13224777891978462,-0.5632366041174566,2.3901459623335115,0.24542284918911964,1.1525991350106037,-0.22423577212349852,-0.32606130576013626,-0.030911417604135967,0.35571726157601685,0.8495868450948219,-0.1221540151116833,-0.6808515740173174,-1.0678765764865552,-0.07667936270573186,0.5729627259567562,0.45794707630974174,-0.017817549053938987,-0.600138799235613,0.14676526338688947,0.5718048788649898,-0.03681765651702741,0.11236848879221897,-0.1505043256504516,0.9154992680625726,-0.4382002673386686,0.1855356209665554,0.3944280300121126,0.7255225582535588,1.4958847658844756,0.6754538092042119,0.5992132354592584,-1.4702370890213132,0.6064039443038369,2.293717612357178,-0.8300109855676734,-1.0195198494057163,-0.2146538422260227,1.0212481260989013,0.5247504922968238,-0.47712420646933207,-0.03599018172719132,1.0370389817739079,0.672619748121479,2.428876969522979,1.0056866803112163,0.3535672160026291,0.6147262758274484,-0.34898419091555255,-0.977773001532967,0.17195713216759081,0.4905610438096389,-1.395283025065327,-0.5223564651356952,-0.36925590182896817,0.2656424025142851,-0.2604660588653798,0.445096710344572,0.09811224622199123,1.0603275091568074,-1.7111676596244927,1.6571246380429256,1.4176740129993604,0.05031708614713537,0.6503232142523461,0.6065484004132948,-0.7372896277599319,0.16466506584920662,0.7781741790995664,0.30981675860748836,1.0513207678487513,0.09499611006916124,0.08075098862302005,-0.7678037460245601,-0.3645380497066375,-0.45971768103806804,1.7054835177554424,0.24050555214736213,-0.9994265013581795,0.3985983881614373,-0.1920036966310444,-3.053764380426305,0.4798523711538174,-1.5526987831768355,0.578464420256242,-0.96126359903051,-1.458324460393154,0.49434165098237876,-1.4941937652746844,-0.44669920347712,0.20437739492116297,0.612232523128053,0.7448845364406519,-0.036281288553702225,-0.8323953476886892,1.923815425970925,-0.6059813205385978,1.8035889814864974,-0.4525249732840256,1.1612856933418074,1.069965538950133,-1.0455342473768945,0.35528450700622954,0.7553920291908554,0.7009821215232441,-0.198937450283896,0.3019600454061449,-0.3946896809955576,-1.1718133792211223,0.9840122369402405,-0.5596814219185569,1.3797581916062172,0.6024509012396099,-0.8926466735128841,-0.16119831954123737,-0.28638491539517374,-0.8708876496519611,0.5014295898933301,-0.47861407386118443,1.6316915136307972,0.8608912410184296,-0.8801890645415797,-0.01900052154731654,-0.22676019216958399,-1.5645078538111965,0.9312556787681191,0.9498088152113293,0.9255012147023857,-0.4569878575935375,1.0689859716189178,-0.20975293542255413,0.9351477795910749,1.8125278151175406,0.14010988130475283,-1.4191487771444868,-0.31690119652834625,0.6409858663835063,1.2198743790306215,-1.133792035393578,-0.19054829766145195,0.23333912626012182,0.43499832426284113,0.9104236030030839,-0.9484396564537968,-0.4234782972255359,1.0079664776005783,0.3923349111243075,0.44838065078168743,1.1253234986642537,0.10405338970908944,0.5280034220718364,-0.3145638619172873,-1.3450100202683752,-1.2952578852810872,0.07432055368263171,-0.1995607179962165,-0.654603168524978,0.31801429641916884,-0.8902715521082489,0.11133726638297002,-0.019522558320273307,-0.8399889146122471,-2.298205880537852,1.456527386472777,0.3166372357039576,-2.664125939262139,-0.42642861763352236,0.39378773124931865,-0.22814069070045617,0.5803301126032293,-0.9732675852492401,0.1751677292180687,-0.053483692735156345,-0.1830619869619735,-0.22102890178833562,0.19975955519262756,0.9327214136880919,-0.5301198002000516,-0.4072400240119308,0.16056499174251157,-0.12014997562874898,0.38560229234432525,0.7182907357543429,1.2911889028508758,-0.11644414827166405,-2.2772979966603657,-0.06962453945512911,0.35387042688284037,-0.18695501653274957,-0.15323616176709168,-2.432508512647113,0.5079843366153792,-0.3240323290200066,-1.5110766079102027,-0.8714220655949576,-0.8648299414655872,0.6087490823417022,0.5616380965234054,1.514750382482251,0.6479248123129182,-1.3516493853176743,-1.4092092764721913,1.130725354529131,1.5666862010961442,-0.23774809814536352,0.5588029881851114,-1.5048912837795123,-1.9439217583317874,-1.1740236765428438],\"type\":\"violin\"},{\"marker\":{\"color\":\"lightseagreen\"},\"name\":\"Sample B\",\"y\":[-0.3571875256030163,-0.521376385408038,-0.2301140634512672,-0.4910144326991102,0.6793011449496629,1.4275469513273447,0.036197462760435326,2.029997487440461,-0.6344047103008461,-0.5251033939389392,0.3877346627429501,-0.35479876201067406,1.1770522557766416,-0.6411078151978892,1.32269398510864,0.19417501629377704,2.5654527807167797,-0.4641149056482057,-0.20269390770746232,0.14565181728648766,-2.1810279670819495,0.6022651275385377,0.48084611326516874,0.10931836390543528,-1.5443957813866982,-1.5465610399686571,0.5866185186008445,1.175178687557355,1.5944646318222213,-0.8954415239499194,-1.0307980277587836,-0.2719387996845504,-1.9757301418738367,-0.5889311760437443,0.851789637515316,1.634602501369415,0.2791554536346638,1.640553648555269,0.410872937999071,0.19136391513892,-0.17144118747753334,0.18693704577199538,-0.25485294724388907,-0.1409107523901582,-0.6618918349396725,0.2590319017920037,0.014448415017786457,-1.479580034616112,-0.24070050175198632,-0.8556713923944985,-2.048200458740775,0.4838836493413234,1.5586882545223812,2.369730189064904,1.5624195294929633,-0.8708015526080608,1.175244992708054,1.1198990035561387,-1.9878295313946217,0.8612885153914502,0.6271770353915255,0.1628082503067918,0.2886167156768053,0.05830738274408399,1.6319358486550282,-0.40178883383188707,-0.19993939322127943,0.007388983706183854,0.2756640751500719,-1.7632498009912314,1.3879738095489653,0.22619975684315669,0.5691245958247787,0.19731599174779044,-0.18644127128388416,-0.35524151349696165,0.09611414233952063,0.15205234093342904,1.1552617554181506,0.34605774628467395,-0.13348866936606069,1.9865651109424,-1.279426156313522,-1.3402091759035006,0.3546020521128279,-0.21237328549062034,-1.7745959882248337,-0.3122296613778122,-0.7106557706807829,1.1311286004249619,-0.6212517704302448,1.0506146488672723,0.45978170021018383,-0.20633091204487983,0.02117182858814892,0.4286587396338861,-2.3080385136282993,0.3270684075693673,-0.37911961080083867,1.7979193663881117],\"type\":\"violin\"},{\"marker\":{\"color\":\"blue\"},\"name\":\"Sample C\",\"y\":[-0.6912689567621623,1.1425639200052216,-2.514924624405778,0.8146250149842883,0.2761027539232751,-0.24701649088573535,-0.1208893104863365,-0.2605605906223512,0.42300320958327586,-0.1342485646303186],\"type\":\"violin\"}],                        {\"template\":{\"data\":{\"bar\":[{\"error_x\":{\"color\":\"#2a3f5f\"},\"error_y\":{\"color\":\"#2a3f5f\"},\"marker\":{\"line\":{\"color\":\"#E5ECF6\",\"width\":0.5},\"pattern\":{\"fillmode\":\"overlay\",\"size\":10,\"solidity\":0.2}},\"type\":\"bar\"}],\"barpolar\":[{\"marker\":{\"line\":{\"color\":\"#E5ECF6\",\"width\":0.5},\"pattern\":{\"fillmode\":\"overlay\",\"size\":10,\"solidity\":0.2}},\"type\":\"barpolar\"}],\"carpet\":[{\"aaxis\":{\"endlinecolor\":\"#2a3f5f\",\"gridcolor\":\"white\",\"linecolor\":\"white\",\"minorgridcolor\":\"white\",\"startlinecolor\":\"#2a3f5f\"},\"baxis\":{\"endlinecolor\":\"#2a3f5f\",\"gridcolor\":\"white\",\"linecolor\":\"white\",\"minorgridcolor\":\"white\",\"startlinecolor\":\"#2a3f5f\"},\"type\":\"carpet\"}],\"choropleth\":[{\"colorbar\":{\"outlinewidth\":0,\"ticks\":\"\"},\"type\":\"choropleth\"}],\"contour\":[{\"colorbar\":{\"outlinewidth\":0,\"ticks\":\"\"},\"colorscale\":[[0.0,\"#0d0887\"],[0.1111111111111111,\"#46039f\"],[0.2222222222222222,\"#7201a8\"],[0.3333333333333333,\"#9c179e\"],[0.4444444444444444,\"#bd3786\"],[0.5555555555555556,\"#d8576b\"],[0.6666666666666666,\"#ed7953\"],[0.7777777777777778,\"#fb9f3a\"],[0.8888888888888888,\"#fdca26\"],[1.0,\"#f0f921\"]],\"type\":\"contour\"}],\"contourcarpet\":[{\"colorbar\":{\"outlinewidth\":0,\"ticks\":\"\"},\"type\":\"contourcarpet\"}],\"heatmap\":[{\"colorbar\":{\"outlinewidth\":0,\"ticks\":\"\"},\"colorscale\":[[0.0,\"#0d0887\"],[0.1111111111111111,\"#46039f\"],[0.2222222222222222,\"#7201a8\"],[0.3333333333333333,\"#9c179e\"],[0.4444444444444444,\"#bd3786\"],[0.5555555555555556,\"#d8576b\"],[0.6666666666666666,\"#ed7953\"],[0.7777777777777778,\"#fb9f3a\"],[0.8888888888888888,\"#fdca26\"],[1.0,\"#f0f921\"]],\"type\":\"heatmap\"}],\"heatmapgl\":[{\"colorbar\":{\"outlinewidth\":0,\"ticks\":\"\"},\"colorscale\":[[0.0,\"#0d0887\"],[0.1111111111111111,\"#46039f\"],[0.2222222222222222,\"#7201a8\"],[0.3333333333333333,\"#9c179e\"],[0.4444444444444444,\"#bd3786\"],[0.5555555555555556,\"#d8576b\"],[0.6666666666666666,\"#ed7953\"],[0.7777777777777778,\"#fb9f3a\"],[0.8888888888888888,\"#fdca26\"],[1.0,\"#f0f921\"]],\"type\":\"heatmapgl\"}],\"histogram\":[{\"marker\":{\"pattern\":{\"fillmode\":\"overlay\",\"size\":10,\"solidity\":0.2}},\"type\":\"histogram\"}],\"histogram2d\":[{\"colorbar\":{\"outlinewidth\":0,\"ticks\":\"\"},\"colorscale\":[[0.0,\"#0d0887\"],[0.1111111111111111,\"#46039f\"],[0.2222222222222222,\"#7201a8\"],[0.3333333333333333,\"#9c179e\"],[0.4444444444444444,\"#bd3786\"],[0.5555555555555556,\"#d8576b\"],[0.6666666666666666,\"#ed7953\"],[0.7777777777777778,\"#fb9f3a\"],[0.8888888888888888,\"#fdca26\"],[1.0,\"#f0f921\"]],\"type\":\"histogram2d\"}],\"histogram2dcontour\":[{\"colorbar\":{\"outlinewidth\":0,\"ticks\":\"\"},\"colorscale\":[[0.0,\"#0d0887\"],[0.1111111111111111,\"#46039f\"],[0.2222222222222222,\"#7201a8\"],[0.3333333333333333,\"#9c179e\"],[0.4444444444444444,\"#bd3786\"],[0.5555555555555556,\"#d8576b\"],[0.6666666666666666,\"#ed7953\"],[0.7777777777777778,\"#fb9f3a\"],[0.8888888888888888,\"#fdca26\"],[1.0,\"#f0f921\"]],\"type\":\"histogram2dcontour\"}],\"mesh3d\":[{\"colorbar\":{\"outlinewidth\":0,\"ticks\":\"\"},\"type\":\"mesh3d\"}],\"parcoords\":[{\"line\":{\"colorbar\":{\"outlinewidth\":0,\"ticks\":\"\"}},\"type\":\"parcoords\"}],\"pie\":[{\"automargin\":true,\"type\":\"pie\"}],\"scatter\":[{\"marker\":{\"colorbar\":{\"outlinewidth\":0,\"ticks\":\"\"}},\"type\":\"scatter\"}],\"scatter3d\":[{\"line\":{\"colorbar\":{\"outlinewidth\":0,\"ticks\":\"\"}},\"marker\":{\"colorbar\":{\"outlinewidth\":0,\"ticks\":\"\"}},\"type\":\"scatter3d\"}],\"scattercarpet\":[{\"marker\":{\"colorbar\":{\"outlinewidth\":0,\"ticks\":\"\"}},\"type\":\"scattercarpet\"}],\"scattergeo\":[{\"marker\":{\"colorbar\":{\"outlinewidth\":0,\"ticks\":\"\"}},\"type\":\"scattergeo\"}],\"scattergl\":[{\"marker\":{\"colorbar\":{\"outlinewidth\":0,\"ticks\":\"\"}},\"type\":\"scattergl\"}],\"scattermapbox\":[{\"marker\":{\"colorbar\":{\"outlinewidth\":0,\"ticks\":\"\"}},\"type\":\"scattermapbox\"}],\"scatterpolar\":[{\"marker\":{\"colorbar\":{\"outlinewidth\":0,\"ticks\":\"\"}},\"type\":\"scatterpolar\"}],\"scatterpolargl\":[{\"marker\":{\"colorbar\":{\"outlinewidth\":0,\"ticks\":\"\"}},\"type\":\"scatterpolargl\"}],\"scatterternary\":[{\"marker\":{\"colorbar\":{\"outlinewidth\":0,\"ticks\":\"\"}},\"type\":\"scatterternary\"}],\"surface\":[{\"colorbar\":{\"outlinewidth\":0,\"ticks\":\"\"},\"colorscale\":[[0.0,\"#0d0887\"],[0.1111111111111111,\"#46039f\"],[0.2222222222222222,\"#7201a8\"],[0.3333333333333333,\"#9c179e\"],[0.4444444444444444,\"#bd3786\"],[0.5555555555555556,\"#d8576b\"],[0.6666666666666666,\"#ed7953\"],[0.7777777777777778,\"#fb9f3a\"],[0.8888888888888888,\"#fdca26\"],[1.0,\"#f0f921\"]],\"type\":\"surface\"}],\"table\":[{\"cells\":{\"fill\":{\"color\":\"#EBF0F8\"},\"line\":{\"color\":\"white\"}},\"header\":{\"fill\":{\"color\":\"#C8D4E3\"},\"line\":{\"color\":\"white\"}},\"type\":\"table\"}]},\"layout\":{\"annotationdefaults\":{\"arrowcolor\":\"#2a3f5f\",\"arrowhead\":0,\"arrowwidth\":1},\"autotypenumbers\":\"strict\",\"coloraxis\":{\"colorbar\":{\"outlinewidth\":0,\"ticks\":\"\"}},\"colorscale\":{\"diverging\":[[0,\"#8e0152\"],[0.1,\"#c51b7d\"],[0.2,\"#de77ae\"],[0.3,\"#f1b6da\"],[0.4,\"#fde0ef\"],[0.5,\"#f7f7f7\"],[0.6,\"#e6f5d0\"],[0.7,\"#b8e186\"],[0.8,\"#7fbc41\"],[0.9,\"#4d9221\"],[1,\"#276419\"]],\"sequential\":[[0.0,\"#0d0887\"],[0.1111111111111111,\"#46039f\"],[0.2222222222222222,\"#7201a8\"],[0.3333333333333333,\"#9c179e\"],[0.4444444444444444,\"#bd3786\"],[0.5555555555555556,\"#d8576b\"],[0.6666666666666666,\"#ed7953\"],[0.7777777777777778,\"#fb9f3a\"],[0.8888888888888888,\"#fdca26\"],[1.0,\"#f0f921\"]],\"sequentialminus\":[[0.0,\"#0d0887\"],[0.1111111111111111,\"#46039f\"],[0.2222222222222222,\"#7201a8\"],[0.3333333333333333,\"#9c179e\"],[0.4444444444444444,\"#bd3786\"],[0.5555555555555556,\"#d8576b\"],[0.6666666666666666,\"#ed7953\"],[0.7777777777777778,\"#fb9f3a\"],[0.8888888888888888,\"#fdca26\"],[1.0,\"#f0f921\"]]},\"colorway\":[\"#636efa\",\"#EF553B\",\"#00cc96\",\"#ab63fa\",\"#FFA15A\",\"#19d3f3\",\"#FF6692\",\"#B6E880\",\"#FF97FF\",\"#FECB52\"],\"font\":{\"color\":\"#2a3f5f\"},\"geo\":{\"bgcolor\":\"white\",\"lakecolor\":\"white\",\"landcolor\":\"#E5ECF6\",\"showlakes\":true,\"showland\":true,\"subunitcolor\":\"white\"},\"hoverlabel\":{\"align\":\"left\"},\"hovermode\":\"closest\",\"mapbox\":{\"style\":\"light\"},\"paper_bgcolor\":\"white\",\"plot_bgcolor\":\"#E5ECF6\",\"polar\":{\"angularaxis\":{\"gridcolor\":\"white\",\"linecolor\":\"white\",\"ticks\":\"\"},\"bgcolor\":\"#E5ECF6\",\"radialaxis\":{\"gridcolor\":\"white\",\"linecolor\":\"white\",\"ticks\":\"\"}},\"scene\":{\"xaxis\":{\"backgroundcolor\":\"#E5ECF6\",\"gridcolor\":\"white\",\"gridwidth\":2,\"linecolor\":\"white\",\"showbackground\":true,\"ticks\":\"\",\"zerolinecolor\":\"white\"},\"yaxis\":{\"backgroundcolor\":\"#E5ECF6\",\"gridcolor\":\"white\",\"gridwidth\":2,\"linecolor\":\"white\",\"showbackground\":true,\"ticks\":\"\",\"zerolinecolor\":\"white\"},\"zaxis\":{\"backgroundcolor\":\"#E5ECF6\",\"gridcolor\":\"white\",\"gridwidth\":2,\"linecolor\":\"white\",\"showbackground\":true,\"ticks\":\"\",\"zerolinecolor\":\"white\"}},\"shapedefaults\":{\"line\":{\"color\":\"#2a3f5f\"}},\"ternary\":{\"aaxis\":{\"gridcolor\":\"white\",\"linecolor\":\"white\",\"ticks\":\"\"},\"baxis\":{\"gridcolor\":\"white\",\"linecolor\":\"white\",\"ticks\":\"\"},\"bgcolor\":\"#E5ECF6\",\"caxis\":{\"gridcolor\":\"white\",\"linecolor\":\"white\",\"ticks\":\"\"}},\"title\":{\"x\":0.05},\"xaxis\":{\"automargin\":true,\"gridcolor\":\"white\",\"linecolor\":\"white\",\"ticks\":\"\",\"title\":{\"standoff\":15},\"zerolinecolor\":\"white\",\"zerolinewidth\":2},\"yaxis\":{\"automargin\":true,\"gridcolor\":\"white\",\"linecolor\":\"white\",\"ticks\":\"\",\"title\":{\"standoff\":15},\"zerolinecolor\":\"white\",\"zerolinewidth\":2}}}},                        {\"responsive\": true}                    ).then(function(){\n",
              "                            \n",
              "var gd = document.getElementById('f9d52c04-0da2-46c6-9ae7-59d17bffea14');\n",
              "var x = new MutationObserver(function (mutations, observer) {{\n",
              "        var display = window.getComputedStyle(gd).display;\n",
              "        if (!display || display === 'none') {{\n",
              "            console.log([gd, 'removed!']);\n",
              "            Plotly.purge(gd);\n",
              "            observer.disconnect();\n",
              "        }}\n",
              "}});\n",
              "\n",
              "// Listen for the removal of the full notebook cells\n",
              "var notebookContainer = gd.closest('#notebook-container');\n",
              "if (notebookContainer) {{\n",
              "    x.observe(notebookContainer, {childList: true});\n",
              "}}\n",
              "\n",
              "// Listen for the clearing of the current output cell\n",
              "var outputEl = gd.closest('.output');\n",
              "if (outputEl) {{\n",
              "    x.observe(outputEl, {childList: true});\n",
              "}}\n",
              "\n",
              "                        })                };                            </script>        </div>\n",
              "</body>\n",
              "</html>"
            ]
          },
          "metadata": {}
        }
      ]
    }
  ]
}