{
  "nbformat": 4,
  "nbformat_minor": 0,
  "metadata": {
    "colab": {
      "provenance": []
    },
    "kernelspec": {
      "name": "python3",
      "display_name": "Python 3"
    },
    "language_info": {
      "name": "python"
    }
  },
  "cells": [
    {
      "cell_type": "markdown",
      "source": [
        "#Task A\n"
      ],
      "metadata": {
        "id": "CetKjclaOsZH"
      }
    },
    {
      "cell_type": "code",
      "source": [
        "import numpy as np\n",
        "import matplotlib.pyplot as plt\n",
        "import scipy\n",
        "from scipy import stats\n",
        "from scipy.stats import binom"
      ],
      "metadata": {
        "id": "9PK-3TNEPP3P"
      },
      "execution_count": null,
      "outputs": []
    },
    {
      "cell_type": "code",
      "source": [
        "#A1\n",
        "N = 20\n",
        "D = np.random.normal(5,2.7,N)\n",
        "m = np.mean(D)\n",
        "s = np.std(D)\n",
        "\n",
        "B = 1000\n",
        "D_b = []\n",
        "mb = []\n",
        "sb = []\n",
        "for x in range(B):\n",
        "  rand_choice = np.random.choice(D, N, replace=True)\n",
        "  D_b.append(rand_choice)\n",
        "  mbx = np.mean(rand_choice)\n",
        "  mb.append(mbx)\n",
        "  sbx = np.std(rand_choice)\n",
        "  sb.append(sbx)\n",
        "\n",
        "am = np.percentile(mb, 2.5)\n",
        "bm = np.percentile(mb,97.5)\n",
        "astd =  np.percentile(sb, 2.5)\n",
        "bstd =  np.percentile(sb, 97.5)\n",
        "\n",
        "Bootints = [astd,bstd]\n",
        "Bootintmu=[am,bm]\n",
        "print('interval 1',Bootintmu,'Length',bm-am, Bootints, 'Length',astd-bstd)\n",
        "\n",
        "N = 2000\n",
        "D = np.random.normal(5,2.7,N)\n",
        "m = np.mean(D)\n",
        "s = np.std(D)\n",
        "\n",
        "B = 1000\n",
        "D_b = []\n",
        "mb = []\n",
        "sb = []\n",
        "for x in range(B):\n",
        "  rand_choice= np.random.choice(D, N, replace=True)\n",
        "  D_b.append(rand_choice)\n",
        "  mbx = np.mean(rand_choice)\n",
        "  mb.append(mbx)\n",
        "  sbx = np.std(rand_choice)\n",
        "  sb.append(sbx)\n",
        "\n",
        "am = np.percentile(mb, 2.5)\n",
        "bm = np.percentile(mb,97.5)\n",
        "\n",
        "astd =  np.percentile(sb, 2.5)\n",
        "bstd =  np.percentile(sb, 97.5)\n",
        "\n",
        "Bootints = [astd,bstd]\n",
        "Bootintmu=[am,bm]\n",
        "print('interval 2',Bootintmu,'Length',bm-am, Bootints, 'Length',astd-bstd)\n"
      ],
      "metadata": {
        "colab": {
          "base_uri": "https://localhost:8080/"
        },
        "id": "u9hy-qyOO12_",
        "outputId": "e4a5a410-ecce-4997-8bb9-49cf5a129ce2"
      },
      "execution_count": null,
      "outputs": [
        {
          "output_type": "stream",
          "name": "stdout",
          "text": [
            "interval 1 [3.7862588410395452, 5.490161364700614] Length 1.703902523661069 [1.3644793026349653, 2.4874531215709723] Length -1.122973818936007\n",
            "interval 2 [4.883164008732381, 5.117669112556129] Length 0.23450510382374823 [2.5807753348301437, 2.7602503152267106] Length -0.17947498039656695\n"
          ]
        }
      ]
    },
    {
      "cell_type": "markdown",
      "source": [
        "***Why is escon interval shorter?***\n",
        "A larger sample size provides a more accurate estimate of the true population mean and therefore, a more precise bootstrap interval. With a larger sample size, the bootstrap distribution is more tightly centered around the true population mean, leading to a smaller interval width. This is why the second interval is shorter than the first interval.\n",
        "\n",
        "***Is mu = 5 and sigma = 2.7 in the interval?***\n",
        "Yes, mostly! For a large enough sample size, it is expected that the true values would be inside the corresponding Percentile Bootstrap Intervals with a high probability (e.g., 95% for a 95% bootstrap interval). The larger the sample size, the higher the probability of the true values being inside the intervals."
      ],
      "metadata": {
        "id": "pEUewrzIUxLA"
      }
    },
    {
      "cell_type": "code",
      "source": [
        "#A2\n",
        "X = [13.2,8.2,10.9,14.3,10.7,6.6,9.5,10.8,8.8,13.3]\n",
        "Y = [14.0,8.8,11.2,14.2,11.8,6.4,9.8,11.3,9.3,13.6]\n",
        "N = 10\n",
        "B = 1000\n",
        "\n",
        "plt.figure('1')\n",
        "plt.scatter(X,Y)\n",
        "\n",
        "r = np.corrcoef(X, Y)\n",
        "#print('Pearson coeff',r[0,1])\n",
        "\n",
        "Pcoeff = []\n",
        "for i in range(B):\n",
        "  choices = np.random.choice(len(X), N, replace=True)\n",
        "  q=0\n",
        "  pairs = np.zeros((N,2))\n",
        "  for n in choices:\n",
        "    pairs[q] = [X[n],Y[n]]\n",
        "    q+=1\n",
        "  r2 = np.corrcoef(pairs[:,0], pairs[:,1])\n",
        "  Pcoeff.append(r2[0,1])\n",
        "\n",
        "\n",
        "plt.figure('2')\n",
        "plt.hist(Pcoeff,bins=50)\n",
        "\n",
        "a =  np.percentile(Pcoeff, 2.5)\n",
        "b =  np.percentile(Pcoeff, 97.5)\n",
        "\n",
        "print('Confidence interval', [a,b])\n"
      ],
      "metadata": {
        "colab": {
          "base_uri": "https://localhost:8080/",
          "height": 531
        },
        "id": "3heWZLcTW1AS",
        "outputId": "54f18a5b-b5c0-49fb-9c8c-5f504d76a1fa"
      },
      "execution_count": null,
      "outputs": [
        {
          "output_type": "stream",
          "name": "stdout",
          "text": [
            "Confidence interval [0.9746804957767484, 0.9978712458269255]\n"
          ]
        },
        {
          "output_type": "display_data",
          "data": {
            "text/plain": [
              "<Figure size 432x288 with 1 Axes>"
            ],
            "image/png": "[encoded data removed]"
          },
          "metadata": {
            "needs_background": "light"
          }
        },
        {
          "output_type": "display_data",
          "data": {
            "text/plain": [
              "<Figure size 432x288 with 1 Axes>"
            ],
            "image/png": "[encoded data removed]"
          },
          "metadata": {
            "needs_background": "light"
          }
        }
      ]
    },
    {
      "cell_type": "markdown",
      "source": [
        "Are X and Y related? Yes almost linear positive + pearson coef approx. = 1, Confidence interval does not contain zero ==> has positive correlation."
      ],
      "metadata": {
        "id": "uOMHFsfOXy0u"
      }
    },
    {
      "cell_type": "code",
      "source": [
        "#A3\n",
        "values=np.asarray ([1,2])\n",
        "counts=np.asarray ([14,46])\n",
        "np_urn=np_urn=np.repeat(values , counts)\n",
        "\n",
        "N = 60\n",
        "numb = 10000\n",
        "array = np.zeros((numb,N))\n",
        "fractions = []\n",
        "\n",
        "for i in range(numb):\n",
        "  array[i] = np.random.choice(np_urn , size=N, p=None , replace=True)\n",
        "  defect_count = 0\n",
        "  for x in array[i]:\n",
        "    if x == 1:\n",
        "      defect_count+=1\n",
        "  fractions.append(defect_count/N)\n",
        "\n",
        "a =  np.percentile(fractions, 2.5)\n",
        "b =  np.percentile(fractions, 97.5)\n",
        "\n",
        "print('Confidence interval', [a,b])\n",
        "plt.hist(fractions, bins = 20)\n",
        "\n"
      ],
      "metadata": {
        "colab": {
          "base_uri": "https://localhost:8080/",
          "height": 464
        },
        "id": "ZN9g_xBi4M7W",
        "outputId": "77b832fc-bbf0-4d09-8f5d-17aed747096b"
      },
      "execution_count": null,
      "outputs": [
        {
          "output_type": "stream",
          "name": "stdout",
          "text": [
            "Confidence interval [0.13333333333333333, 0.35]\n"
          ]
        },
        {
          "output_type": "execute_result",
          "data": {
            "text/plain": [
              "(array([4.000e+00, 1.600e+01, 4.800e+01, 3.360e+02, 3.970e+02, 6.050e+02,\n",
              "        8.570e+02, 1.026e+03, 2.361e+03, 1.178e+03, 9.900e+02, 7.910e+02,\n",
              "        8.900e+02, 2.400e+02, 1.380e+02, 6.500e+01, 4.300e+01, 1.000e+01,\n",
              "        4.000e+00, 1.000e+00]),\n",
              " array([0.05      , 0.07083333, 0.09166667, 0.1125    , 0.13333333,\n",
              "        0.15416667, 0.175     , 0.19583333, 0.21666667, 0.2375    ,\n",
              "        0.25833333, 0.27916667, 0.3       , 0.32083333, 0.34166667,\n",
              "        0.3625    , 0.38333333, 0.40416667, 0.425     , 0.44583333,\n",
              "        0.46666667]),\n",
              " <a list of 20 Patch objects>)"
            ]
          },
          "metadata": {},
          "execution_count": 5
        },
        {
          "output_type": "display_data",
          "data": {
            "text/plain": [
              "<Figure size 432x288 with 1 Axes>"
            ],
            "image/png": "[encoded data removed]"
          },
          "metadata": {
            "needs_background": "light"
          }
        }
      ]
    },
    {
      "cell_type": "code",
      "source": [
        "#A4\n",
        "\n",
        "#URN - 1 = red, 2 = white\n",
        "value=np.asarray ([1,2])\n",
        "count=np.asarray ([4,16])\n",
        "np_urn=np_urn=np.repeat(value , count)\n",
        "\n",
        "num_iterations = 10000\n",
        "N = 20\n",
        "error_rates = []\n",
        "for i in range(num_iterations):\n",
        "    rand_choice = np.random.choice(np_urn , N, replace=True)\n",
        "    error = np.count_nonzero(rand_choice == 1)\n",
        "    error_rates.append(error/N)\n",
        "\n",
        "conf_int =  np.percentile(error_rates, [2.5,97.7])\n",
        "\n",
        "print(conf_int)"
      ],
      "metadata": {
        "colab": {
          "base_uri": "https://localhost:8080/"
        },
        "id": "HDaY-FMsb-RS",
        "outputId": "e1ca5360-e474-4054-9e55-1ac4571049ed"
      },
      "execution_count": null,
      "outputs": [
        {
          "output_type": "stream",
          "name": "stdout",
          "text": [
            "[0.05 0.4 ]\n"
          ]
        }
      ]
    },
    {
      "cell_type": "code",
      "source": [
        "#A5a\n",
        "\n",
        "#URN - 1 = red (fail), 2 = white (success)\n",
        "value=np.asarray ([1,2])\n",
        "count=np.asarray ([7,89])\n",
        "np_urn=np_urn=np.repeat(value , count)\n",
        "\n",
        "num_iterations = 10000\n",
        "N = 96\n",
        "error_rates = []\n",
        "for i in range(num_iterations):\n",
        "    rand_choice = np.random.choice(np_urn , N, replace=True)\n",
        "    error = np.count_nonzero(rand_choice == 2)\n",
        "    error_rates.append(error/N)\n",
        "\n",
        "conf_int =  np.percentile(error_rates, [2.5,97.7])\n",
        "\n",
        "print(conf_int)"
      ],
      "metadata": {
        "colab": {
          "base_uri": "https://localhost:8080/"
        },
        "id": "ftAXcJLlifrb",
        "outputId": "facb465c-cca8-48b4-ef1c-96077654aa3d"
      },
      "execution_count": null,
      "outputs": [
        {
          "output_type": "stream",
          "name": "stdout",
          "text": [
            "[0.875      0.97916667]\n"
          ]
        }
      ]
    },
    {
      "cell_type": "code",
      "source": [
        "#A5b\n",
        "\n",
        "#URN - 1 = red (fail), 2 = white (success)\n",
        "value=np.asarray ([1,2])\n",
        "count=np.asarray ([27,357])\n",
        "np_urn=np_urn=np.repeat(value , count)\n",
        "\n",
        "num_iterations = 10000\n",
        "N = 384\n",
        "error_rates = []\n",
        "for i in range(num_iterations):\n",
        "    rand_choice = np.random.choice(np_urn , N, replace=True)\n",
        "    error = np.count_nonzero(rand_choice == 2)\n",
        "    error_rates.append(error/N)\n",
        "\n",
        "conf_int =  np.percentile(error_rates, [2.5,97.7])\n",
        "\n",
        "print(conf_int)"
      ],
      "metadata": {
        "colab": {
          "base_uri": "https://localhost:8080/"
        },
        "id": "xESmX4L7kLpf",
        "outputId": "f623c3c0-5e67-4b10-b4da-b8a6f3bebb91"
      },
      "execution_count": null,
      "outputs": [
        {
          "output_type": "stream",
          "name": "stdout",
          "text": [
            "[0.90364583 0.953125  ]\n"
          ]
        }
      ]
    },
    {
      "cell_type": "code",
      "source": [
        "#A5c\n",
        "\n",
        "#URN - 1 = red (fail), 2 = white (success)\n",
        "value=np.asarray ([1,2])\n",
        "count=np.asarray ([1536-1428,1428])\n",
        "np_urn=np_urn=np.repeat(value , count)\n",
        "\n",
        "num_iterations = 10000\n",
        "N = 1536\n",
        "error_rates = []\n",
        "for i in range(num_iterations):\n",
        "    rand_choice = np.random.choice(np_urn , N, replace=True)\n",
        "    error = np.count_nonzero(rand_choice == 2)\n",
        "    error_rates.append(error/N)\n",
        "\n",
        "conf_int =  np.percentile(error_rates, [2.5,97.7])\n",
        "\n",
        "print(conf_int)\n",
        "\n",
        "conf_2 = (0.93*2-conf_int[1],0.93*2-conf_int[0] )\n",
        "print(conf_2)"
      ],
      "metadata": {
        "colab": {
          "base_uri": "https://localhost:8080/"
        },
        "id": "3HOYfB18kkbh",
        "outputId": "17e4a685-e827-47ee-c335-ead782137f53"
      },
      "execution_count": null,
      "outputs": [
        {
          "output_type": "stream",
          "name": "stdout",
          "text": [
            "[0.91666667 0.94270833]\n",
            "(0.9172916666666667, 0.9433333333333335)\n"
          ]
        }
      ]
    },
    {
      "cell_type": "markdown",
      "source": [
        "\n",
        "\n",
        "```\n",
        "# Detta formeras som kod\n",
        "```\n",
        "\n",
        "***Why does bootstrap intervals become shorter when the size of the dataset increases?***\n",
        "\n",
        "Bootstrap intervals become shorter when the size of the dataset increases because larger sample sizes provide more information about the underlying distribution of the data, which allows for more precise estimates of population parameters. As a result, the bootstrap distribution becomes more concentrated around the true population parameter, leading to narrower confidence intervals."
      ],
      "metadata": {
        "id": "Y0DUftoWk58d"
      }
    },
    {
      "cell_type": "markdown",
      "source": [
        "#Task B"
      ],
      "metadata": {
        "id": "EY1a2ax7o6SA"
      }
    },
    {
      "cell_type": "code",
      "source": [
        "#B1\n",
        "value=np.asarray ([1,2])\n",
        "count=np.asarray ([1,1])\n",
        "np_urn=np_urn=np.repeat(value , count)\n",
        "N = 20\n",
        "\n",
        "rand_choice = np.random.choice(np_urn , N, replace=True)\n",
        "res = []\n",
        "for value in rand_choice:\n",
        "  if value == 2 :\n",
        "    res.append(value)\n",
        "X = [len(res),1-len(res)]\n",
        "red_balls = 7\n",
        "p = 0.5\n",
        "p_value = scipy.stats.binom_test(X,p =0.5, alternative = 'two-sided')\n",
        "\n",
        "#p_val = np.sum(np.sum(rand_choice == 2,axis = 0)/N <= 7/N)\n",
        "# prob = binom.cdf(red_balls, N, p)\n",
        "# print('fraction red balls',len(res)/N,'\\n','p-value:',prob,'\\n','p<!0.05')\n",
        "\n",
        "if p_value < 1/N:\n",
        "    print(\"Reject null hypothesis\", p_value)\n",
        "else:\n",
        "    print(\"Fail to reject null hypothesis\", p_value)\n"
      ],
      "metadata": {
        "colab": {
          "base_uri": "https://localhost:8080/"
        },
        "id": "eMvg9uUsgw6C",
        "outputId": "dd871004-2611-40c9-84d4-5811b9ae8ea3"
      },
      "execution_count": null,
      "outputs": [
        {
          "output_type": "stream",
          "name": "stdout",
          "text": [
            "Reject null hypothesis 0.0\n"
          ]
        }
      ]
    },
    {
      "cell_type": "code",
      "source": [
        "#B2 - WRONG\n",
        "value=np.asarray ([1,2])\n",
        "count=np.asarray ([300,900])\n",
        "np_urn=np_urn=np.repeat(value , count)\n",
        "N = 1200\n",
        "\n",
        "B = 1000\n",
        "sample = np.random.choice(np_urn , (B,N), replace=True)\n",
        "count = np.sum(sample == 2, axis = 1)\n",
        "fractions = [values/N for values in count]\n",
        "\n",
        "p = 0.88\n",
        "red_balls = 900\n",
        "p_value = binom.cdf(red_balls, N, p)\n",
        "\n",
        "if p_value < 1/N:\n",
        "    print(\"Reject null hypothesis\", p_value)\n",
        "else:\n",
        "    print(\"Fail to reject null hypothesis\", p_value)\n"
      ],
      "metadata": {
        "colab": {
          "base_uri": "https://localhost:8080/"
        },
        "id": "aeq6MmixpdfI",
        "outputId": "9efdcc48-a68e-418a-ea0f-f01c84d19048"
      },
      "execution_count": null,
      "outputs": [
        {
          "output_type": "stream",
          "name": "stdout",
          "text": [
            "Reject null hypothesis 3.183562124760847e-35\n"
          ]
        }
      ]
    },
    {
      "cell_type": "code",
      "source": [
        "#B2\n",
        "value = np.asarray([1, 2])\n",
        "count = np.asarray([144, 1056])\n",
        "np_urn = np.repeat(value, count)\n",
        "N = 1200\n",
        "B = 1000\n",
        "\n",
        "# simulate random samples and calculate the fraction of positive tests for each sample\n",
        "draws = np.random.choice(np_urn, size=(B, N), replace=True)\n",
        "fractions = np.sum(draws == 2, axis=1) / N\n",
        "\n",
        "# calculate the p-value using the simulated distribution of fractions\n",
        "p = 0.75\n",
        "p_value = np.sum(fractions <= p) / B\n",
        "\n",
        "# compare the p-value to the significance level (1/N)\n",
        "if p_value < 1 / N:\n",
        "    print(\"Reject null hypothesis\", p_value,'(p value < 1/N)')\n",
        "else:\n",
        "    print(\"Fail to reject null hypothesis\", p_value)"
      ],
      "metadata": {
        "colab": {
          "base_uri": "https://localhost:8080/"
        },
        "id": "vWu2_N_12Qwc",
        "outputId": "a5452301-9bf4-47ef-d660-812b7b5ae615"
      },
      "execution_count": null,
      "outputs": [
        {
          "output_type": "stream",
          "name": "stdout",
          "text": [
            "Reject null hypothesis 0.0 (p value < 1/N)\n"
          ]
        }
      ]
    },
    {
      "cell_type": "code",
      "source": [
        "#B2b\n",
        "value = np.asarray([1, 2])\n",
        "count = np.asarray([144, 1056])\n",
        "np_urn = np.repeat(value, count)\n",
        "N = 12\n",
        "B = 1000\n",
        "\n",
        "# simulate random samples and calculate the fraction of positive tests for each sample\n",
        "draws = np.random.choice(np_urn, size=(B, N), replace=True)\n",
        "fractions = np.sum(draws == 2, axis=1) / N\n",
        "\n",
        "# calculate the p-value using the simulated distribution of fractions\n",
        "p = 0.75\n",
        "p_value = np.sum(fractions <= p) / B\n",
        "\n",
        "\n",
        "# compare the p-value to the significance level (1/N)\n",
        "if p_value < 1 / N:\n",
        "    print(\"Reject null hypothesis\", p_value,'(p value < 1/N)')\n",
        "else:\n",
        "    print(\"Fail to reject null hypothesis\", p_value)"
      ],
      "metadata": {
        "colab": {
          "base_uri": "https://localhost:8080/"
        },
        "id": "NSr51f9A7ga_",
        "outputId": "de2a69a1-8010-4d16-fb38-68061bbde78a"
      },
      "execution_count": null,
      "outputs": [
        {
          "output_type": "stream",
          "name": "stdout",
          "text": [
            "Fail to reject null hypothesis 0.159\n"
          ]
        }
      ]
    },
    {
      "cell_type": "code",
      "source": [
        "#B3\n",
        "value = np.asarray([1, 2])\n",
        "count = np.asarray([7, 89])\n",
        "np_urn = np.repeat(value, count)\n",
        "N = 96\n",
        "B = 1000\n",
        "\n",
        "draws = np.random.choice(np_urn, size=(B, N), replace=True)\n",
        "success = np.sum(draws == 2, axis=1)\n",
        "\n",
        "threshhold = np.percentile(success, 5)\n",
        "print(threshhold)\n"
      ],
      "metadata": {
        "colab": {
          "base_uri": "https://localhost:8080/"
        },
        "id": "fFYQL070xFFS",
        "outputId": "bbce6222-f354-4f86-8bd7-d1bf10ebf101"
      },
      "execution_count": null,
      "outputs": [
        {
          "output_type": "stream",
          "name": "stdout",
          "text": [
            "85.0\n"
          ]
        }
      ]
    },
    {
      "cell_type": "code",
      "source": [
        "#B4\n",
        "women = [60,62,73,81,27,72,61,59,42,39,71,74]\n",
        "men = [74,79,80,89,71,72,92,67,91,83,43]\n",
        "value = np.asarray([60,62,73,81,27,72,61,59,42,39,71,74,74,79,80,89,71,72,92,67,91,83,43])\n",
        "count = np.asarray([1 for i in range(23)])\n",
        "np_urn = np.repeat(value, count)\n",
        "\n",
        "mean_obs = np.mean(women) - np.mean(men)\n",
        "NW = 12\n",
        "NM = 11\n",
        "B = 10000\n",
        "women_draw = np.random.choice(np_urn, size=(B, NW), replace=True)\n",
        "men_draw = np.random.choice(np_urn, size=(B, NM), replace=True)\n",
        "women_mean = [np.mean(women_draw[i]) for i in range(B)]\n",
        "men_mean = [np.mean(men_draw[i]) for i in range(B)]\n",
        "mean_dif = [women_mean[i]-men_mean[i] for i in range(B)]\n",
        "\n",
        "p_val = (np.sum(np.abs(mean_dif) >= np.abs(mean_obs)))/B\n",
        "print(p_val)\n"
      ],
      "metadata": {
        "colab": {
          "base_uri": "https://localhost:8080/"
        },
        "id": "eNfN9AtY2nDw",
        "outputId": "0f1641c1-cad3-4ca3-b41a-1a5556c01c3d"
      },
      "execution_count": null,
      "outputs": [
        {
          "output_type": "stream",
          "name": "stdout",
          "text": [
            "0.0168\n"
          ]
        }
      ]
    },
    {
      "cell_type": "markdown",
      "source": [
        "***Is there any statistical reason to believe there is a difference between men and women?***\n",
        "If the p-value is very small (less than a chosen significance level, such as 0.05), then we conclude that the observed difference is unlikely to have occurred by chance, and we have evidence to suggest that there is a real difference between the two groups."
      ],
      "metadata": {
        "id": "KWbsvTHB-aEV"
      }
    },
    {
      "cell_type": "code",
      "source": [
        "#B5\n",
        "levels_in_factory_A = [13.2, 8.2, 10.9, 14.3, 10.7, 6.6, 9.5, 10.8, 8.8, 13.3]\n",
        "levels_in_factory_B = [14.0, 8.8, 11.2, 14.2, 11.8, 6.4, 9.8, 11.3, 9.3, 13.6]\n",
        "#a\n",
        "mean_obs = np.mean(levels_in_factory_A)-np.mean(levels_in_factory_B)\n",
        "\n",
        "tests = 10000\n",
        "sample_size = 10\n",
        "\n",
        "#b\n",
        "\n",
        "#Urn\n",
        "values = np.asarray([13.2, 8.2, 10.9, 14.3, 10.7, 6.6, 9.5, 10.8, 8.8, 13.3, 14.0, 8.8, 11.2, 14.2, 11.8, 6.4, 9.8, 11.3, 9.3, 13.6])\n",
        "counts = np.asarray([1 for i in range(len(levels_in_factory_A)+len(levels_in_factory_B))])\n",
        "np_urn_a = np.repeat(values, counts)\n",
        "\n",
        "#experimental data\n",
        "sample_A = np.random.choice(np_urn_a, size=(tests, sample_size), replace=True)\n",
        "sample_B = np.random.choice(np_urn_a, size=(tests, sample_size), replace=True)\n",
        "\n",
        "#experimental mean\n",
        "sample_A_mean = [np.mean(sample_A[i]) for i in range(tests)]\n",
        "sample_B_mean = [np.mean(sample_B[i]) for i in range(tests)]\n",
        "mean_dif = [sample_A_mean[i]-sample_B_mean[i] for i in range(tests)]\n",
        "\n",
        "plt.figure('1')\n",
        "plt.hist(mean_dif,bins = 50)\n",
        "\n",
        "p_val = (np.sum(np.abs(mean_dif) >= np.abs(mean_obs)))/tests\n",
        "\n",
        "if p_val < 1 / N:\n",
        "    print(\"Reject null hypothesis\", p_val,'(p value < 1/N)')\n",
        "else:\n",
        "    print(\"Fail to reject null hypothesis\", p_val)\n",
        "\n",
        "#c\n",
        "#Urn for A values\n",
        "values1 = np.asarray(levels_in_factory_A)\n",
        "counts1 = np.asarray([1 for i in range(len(levels_in_factory_A))])\n",
        "np_urn_b1 = np.repeat(values1, counts1)\n",
        "\n",
        "#Urn for B values\n",
        "values2 = np.asarray(levels_in_factory_B)\n",
        "counts2 = np.asarray([1 for i in range(len(levels_in_factory_B))])\n",
        "np_urn_b2 = np.repeat(values2, counts2)\n",
        "\n",
        "#Experimental data\n",
        "sample_A1 = np.random.choice(np_urn_b1, size=(tests, sample_size), replace=True)\n",
        "sample_B1 = np.random.choice(np_urn_b2, size=(tests, sample_size), replace=True)\n",
        "\n",
        "#Experimental mean\n",
        "sample_A1_mean = [np.mean(sample_A1[i]) for i in range(tests)]\n",
        "sample_B1_mean = [np.mean(sample_B1[i]) for i in range(tests)]\n",
        "mean_dif1 = [sample_A1_mean[i]-sample_B1_mean[i] for i in range(tests)]\n",
        "\n",
        "plt.figure('2')\n",
        "plt.hist(mean_dif1,bins=50)\n",
        "\n",
        "conf_int =  np.percentile(mean_dif1, [2.5,97.7])\n",
        "\n",
        "print(conf_int)\n"
      ],
      "metadata": {
        "id": "GR7ZzW6p3XOG",
        "colab": {
          "base_uri": "https://localhost:8080/",
          "height": 549
        },
        "outputId": "53815f80-669b-4fc9-fa9c-21e33bf9501c"
      },
      "execution_count": null,
      "outputs": [
        {
          "output_type": "stream",
          "name": "stdout",
          "text": [
            "Fail to reject null hypothesis 0.6998\n",
            "[-2.44  1.68]\n"
          ]
        },
        {
          "output_type": "display_data",
          "data": {
            "text/plain": [
              "<Figure size 432x288 with 1 Axes>"
            ],
            "image/png": "[encoded data removed]"
          },
          "metadata": {
            "needs_background": "light"
          }
        },
        {
          "output_type": "display_data",
          "data": {
            "text/plain": [
              "<Figure size 432x288 with 1 Axes>"
            ],
            "image/png": "[encoded data removed]"
          },
          "metadata": {
            "needs_background": "light"
          }
        }
      ]
    },
    {
      "cell_type": "markdown",
      "source": [
        " *** Is the oil pressure higher in factory A, compared to the machines in factory B? Notably, a\n",
        "double sided test is relevant in this case since we are only want to determine if there is a difference,\n",
        "regardless of its sign.***\n",
        "a) yes, the oil pressure is expected to be -0,41 isch less in machine A than B\n",
        "b) Null hypothesis might be true\n",
        "c) We cannot say anything about the difference in oil pressure, conf interval contains 0\n"
      ],
      "metadata": {
        "id": "yKy8cShi_F6d"
      }
    },
    {
      "cell_type": "code",
      "source": [
        "#B6\n",
        "values_of_group_A = [13.2, 8.2, 10.9, 14.3, 10.7, 6.6, 9.5, 10.8, 8.8, 13.3]\n",
        "values_of_group_B = [14.0, 8.8, 11.2, 14.2, 11.8, 6.4, 9.8, 11.3, 9.3, 13.6]\n",
        "\n",
        "#i\n",
        "dstd = np.std(values_of_group_A)-np.std(values_of_group_B)\n",
        "q75A,q25A = np.percentile(values_of_group_A, [75,25])\n",
        "IQRA =q75A - q25A\n",
        "q75B,q25B = np.percentile(values_of_group_B, [75,25])\n",
        "IQRB =q75B - q25B\n",
        "dIQR = IQRA - IQRB\n",
        "print('d',dstd,'\\n','IQR',dIQR)\n",
        "\n",
        "#ii\n",
        "values = np.asarray([13.2, 8.2, 10.9, 14.3, 10.7, 6.6, 9.5, 10.8, 8.8, 13.3,14.0, 8.8, 11.2, 14.2, 11.8, 6.4, 9.8, 11.3, 9.3, 13.6])\n",
        "counts = np.asarray([1 for i in range(len(values_of_group_A)+len(values_of_group_B))])\n",
        "np_urn = np.repeat(values, counts)\n",
        "\n",
        "tests = 10000\n",
        "sample_size = 10\n",
        "\n",
        "sampleA = np.random.choice(np_urn, size=(tests, sample_size), replace=True)\n",
        "sampleB = np.random.choice(np_urn, size=(tests, sample_size), replace=True)\n",
        "dstd2 = [(np.std(sampleA[i])-np.std(sampleB[i])) for i in range(tests)]\n",
        "\n",
        "dIQR2 = []\n",
        "for i in range(tests):\n",
        "  q75A,q25A = np.percentile(sampleA[i], [75,25])\n",
        "  IQRA =q75A - q25A\n",
        "  q75B,q25B = np.percentile(sampleB[i], [75,25])\n",
        "  IQRB =q75B - q25B\n",
        "  dIQR2.append(IQRA - IQRB)\n",
        "\n",
        "\n",
        "plt.figure('1')\n",
        "plt.hist(dstd2, bins = 50)\n",
        "plt.title('std')\n",
        "\n",
        "plt.figure('2')\n",
        "plt.hist(dIQR2, bins = 50)\n",
        "plt.title('IQR')\n",
        "\n",
        "p_value_std = (np.sum(np.abs(dstd2) >= np.abs(dstd)))/tests\n",
        "p_value_IQR = (np.sum(np.abs(dIQR2) >= np.abs(dIQR)))/tests\n",
        "\n",
        "print('p std',p_value_std,'\\n','p IQR',p_value_IQR,'\\n','1/N =',1/tests)"
      ],
      "metadata": {
        "colab": {
          "base_uri": "https://localhost:8080/",
          "height": 635
        },
        "id": "yfI3YRpDGh14",
        "outputId": "4d4a4fe4-3d7c-442c-e2af-162d3a71f082"
      },
      "execution_count": null,
      "outputs": [
        {
          "output_type": "stream",
          "name": "stdout",
          "text": [
            "d -0.06369361887928271 \n",
            " IQR -0.07500000000000107\n",
            "p std 0.913 \n",
            " p IQR 0.9614 \n",
            " 1/N = 0.0001\n"
          ]
        },
        {
          "output_type": "display_data",
          "data": {
            "text/plain": [
              "<Figure size 432x288 with 1 Axes>"
            ],
            "image/png": "[encoded data removed]"
          },
          "metadata": {
            "needs_background": "light"
          }
        },
        {
          "output_type": "display_data",
          "data": {
            "text/plain": [
              "<Figure size 432x288 with 1 Axes>"
            ],
            "image/png": "[encoded data removed]"
          },
          "metadata": {
            "needs_background": "light"
          }
        }
      ]
    },
    {
      "cell_type": "markdown",
      "source": [
        "Both p-values are high, indicating that there is no strong evidence against the null hypothesis of equal spreads (measured by standard deviation or IQR) between the two groups. Therefore, based on these results, we cannot conclude that there is a statistically significant difference in spread between the two groups."
      ],
      "metadata": {
        "id": "hjeFu-g6PTGf"
      }
    },
    {
      "cell_type": "code",
      "source": [
        "#B7\n",
        "dA =[0.67,-1.29,-0.42,0.27,-0.59,-0.06, 0.41,0.40,1.00, 1.14]\n",
        "dB=[0.45,1.68,0.17,0.07,0.35,0.00,0.16,0.16,1.00,1.29]\n",
        "numb_samples = 10000\n",
        "\n",
        "\n",
        "obs_rmtrx = np.corrcoef(dA, dB)\n",
        "obs_r = obs_rmtrx[0,1]\n",
        "p_coeff = []\n",
        "for n in range(numb_samples):\n",
        "  permuted_dA = np.random.permutation(dA)\n",
        "  rmtrx = np.corrcoef(permuted_dA, dB)\n",
        "  p_coeff.append(rmtrx[0,1])\n",
        "\n",
        "\n",
        "p_value = 2*(np.sum(p_coeff >= abs(obs_r)))/numb_samples\n",
        "\n",
        "if p_value < 1 / numb_samples:\n",
        "    print(\"Reject null hypothesis\", p_value,'(p value < 1/N)')\n",
        "else:\n",
        "    print(\"Fail to reject null hypothesis\", p_value)\n",
        "\n",
        "plt.figure('1')\n",
        "plt.hist(p_coeff,bins = 50)\n",
        "\n",
        "plt.figure('2')\n",
        "plt.scatter(dA,dB)\n"
      ],
      "metadata": {
        "colab": {
          "base_uri": "https://localhost:8080/",
          "height": 552
        },
        "id": "bkGg8W1WIOMs",
        "outputId": "16e84ef5-9df6-4b66-93fb-c6b9368ccfbf"
      },
      "execution_count": null,
      "outputs": [
        {
          "output_type": "stream",
          "name": "stdout",
          "text": [
            "Fail to reject null hypothesis 0.828\n"
          ]
        },
        {
          "output_type": "execute_result",
          "data": {
            "text/plain": [
              "<matplotlib.collections.PathCollection at 0x7f71e27c4df0>"
            ]
          },
          "metadata": {},
          "execution_count": 18
        },
        {
          "output_type": "display_data",
          "data": {
            "text/plain": [
              "<Figure size 432x288 with 1 Axes>"
            ],
            "image/png": "[encoded data removed]"
          },
          "metadata": {
            "needs_background": "light"
          }
        },
        {
          "output_type": "display_data",
          "data": {
            "text/plain": [
              "<Figure size 432x288 with 1 Axes>"
            ],
            "image/png": "[encoded data removed]"
          },
          "metadata": {
            "needs_background": "light"
          }
        }
      ]
    },
    {
      "cell_type": "code",
      "source": [
        "#B8\n",
        "\n",
        "women = [60,62,73,81,27,72,61,59,42,39,71,74]\n",
        "men = [74,79,80,89,71,72,92,67,91,83,43]\n",
        "kids = [61,68,43,35,77,80,55,48]\n",
        "\n",
        "mean_obs = abs(np.mean(women)-np.mean(men)) + abs(np.mean(women)-np.mean(kids)) + abs(np.mean(men)- np.mean(kids))\n",
        "std_obs = abs(np.std(women)-np.std(men)) + abs(np.std(women)-np.std(kids)) + abs(np.std(men)- np.std(kids))\n",
        "comb_obs = mean_obs + std_obs\n",
        "\n",
        "value = np.asarray(women + men + kids)\n",
        "count = np.asarray([1 for i in range(len(women)+len(men)+len(kids))])\n",
        "np_urn = np.repeat(value, count)\n",
        "\n",
        "tests = 10000\n",
        "women_draw = np.random.choice(np_urn, size=(tests, len(women)), replace=True)\n",
        "men_draw = np.random.choice(np_urn, size=(tests, len(men)), replace=True)\n",
        "kids_draw = np.random.choice(np_urn, size=(tests, len(kids)), replace=True)\n",
        "\n",
        "women_mean = [np.mean(women_draw[i]) for i in range(tests)]\n",
        "men_mean = [np.mean(men_draw[i]) for i in range(tests)]\n",
        "kids_mean = [np.mean(kids_draw[i]) for i in range(tests)]\n",
        "mean_dif = [abs(women_mean[i]-men_mean[i]) + abs(women_mean[i]-kids_mean[i]) + abs(men_mean[i]- kids_mean[i]) for i in range(tests)]\n",
        "\n",
        "women_std = [np.std(women_draw[i]) for i in range(tests)]\n",
        "men_std = [np.std(men_draw[i]) for i in range(tests)]\n",
        "kids_std = [np.std(kids_draw[i]) for i in range(tests)]\n",
        "std_dif = [abs(women_std[i]-men_std[i]) + abs(women_std[i]-kids_std[i]) + abs(men_std[i]- kids_std[i]) for i in range(tests)]\n",
        "\n",
        "comb_dif = mean_dif + std_dif\n",
        "\n",
        "\n",
        "\n",
        "p_val_mean = (np.sum(np.abs(mean_dif) >= np.abs(mean_obs)))/tests\n",
        "p_val_std = (np.sum(np.abs(std_dif) >= np.abs(std_obs)))/tests\n",
        "p_val_comb = (np.sum(np.abs(comb_dif) >= np.abs(comb_obs)))/tests\n",
        "print('1/N =', 1/tests)\n",
        "if p_val_mean < 1 / tests:\n",
        "    print(\"Reject null hypothesis that mean is equal\", p_val_mean,'(p value < 1/N)')\n",
        "else:\n",
        "    print(\"Fail to reject null hypothesis that mean is equal\", p_val_mean)\n",
        "\n",
        "if p_val_std < 1 / tests:\n",
        "    print(\"Reject null hypothesis that std is equal\", p_val_std,'(p value < 1/N)')\n",
        "else:\n",
        "    print(\"Fail to reject null hypothesis that std is equal\", p_val_std)\n",
        "\n",
        "if p_val_comb < 1 / tests:\n",
        "    print(\"Reject null hypothesis that mean and std is equal\", p_val_comb,'(p value < 1/N)')\n",
        "else:\n",
        "    print(\"Fail to reject null hypothesis that mean and std is equal\", p_val_comb)\n"
      ],
      "metadata": {
        "colab": {
          "base_uri": "https://localhost:8080/"
        },
        "id": "Nd_FlCm1NNT0",
        "outputId": "304c3823-cfb2-4cdf-bfcd-78d366131d06"
      },
      "execution_count": null,
      "outputs": [
        {
          "output_type": "stream",
          "name": "stdout",
          "text": [
            "1/N = 0.0001\n",
            "Fail to reject null hypothesis that mean is equal 0.0414\n",
            "Fail to reject null hypothesis that std is equal 0.8713\n",
            "Fail to reject null hypothesis that mean and std is equal 0.0179\n"
          ]
        }
      ]
    },
    {
      "cell_type": "markdown",
      "source": [
        "***Is there any statistical reason to believe that the underlying distributions for women, men\n",
        "and kids are different?***\n",
        "The result show that we cannot disprove the null hypothesis that mean and std (the distribution) are equal for the groups\n",
        "\n",
        "***Which of the three do you find most attractive and why?***\n",
        "lowest p_value ??\n",
        "\n",
        "***or every test statistic selected, you get a different p-value. What are your thoughts regarding this\n",
        "fact when someone reports they have rejected or accepted a null hypothesis? How useful do you think\n",
        "their report is?***\n",
        "\n",
        "When someone reports they have rejected or accepted a null hypothesis based on a specific test statistic, it is important to understand the underlying assumptions and limitations of the test, as well as the context and implications of the hypothesis being tested. A significant p-value in one test statistic does not necessarily mean that the null hypothesis is false or that the effect size is meaningful. Therefore, it is essential to interpret the results of hypothesis testing in the context of the research question and the available evidence, rather than relying solely on the p-value or a single test statistic."
      ],
      "metadata": {
        "id": "hM0wVdE5UeRl"
      }
    }
  ]
}