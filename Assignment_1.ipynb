{
  "cells": [
    {
      "cell_type": "code",
      "execution_count": null,
      "metadata": {
        "id": "OtNGKLmO7nij"
      },
      "outputs": [],
      "source": [
        "import numpy as np\n",
        "import math\n",
        "import matplotlib.pyplot as plt\n",
        "from scipy.stats import beta\n",
        "from scipy.stats import norm\n",
        "from scipy.stats import weibull_min\n",
        "import scipy\n",
        "from scipy.stats import weibull_min\n",
        "from scipy import stats\n"
      ]
    },
    {
      "cell_type": "markdown",
      "metadata": {
        "id": "Fq1kkebh_SZR"
      },
      "source": [
        "# Part 3\n",
        "\n"
      ]
    },
    {
      "cell_type": "code",
      "execution_count": null,
      "metadata": {
        "colab": {
          "base_uri": "https://localhost:8080/",
          "height": 232
        },
        "id": "5ib6FYx_7pTW",
        "outputId": "d379345a-0db6-4034-c1b9-c02a0bdf1c05"
      },
      "outputs": [
        {
          "output_type": "error",
          "ename": "NameError",
          "evalue": "ignored",
          "traceback": [
            "\u001b[0;31m---------------------------------------------------------------------------\u001b[0m",
            "\u001b[0;31mNameError\u001b[0m                                 Traceback (most recent call last)",
            "\u001b[0;32m<ipython-input-1-1e50a8912d8d>\u001b[0m in \u001b[0;36m<module>\u001b[0;34m\u001b[0m\n\u001b[1;32m      1\u001b[0m \u001b[0;31m#2.1 Create urn\u001b[0m\u001b[0;34m\u001b[0m\u001b[0;34m\u001b[0m\u001b[0;34m\u001b[0m\u001b[0m\n\u001b[0;32m----> 2\u001b[0;31m \u001b[0mnp_values\u001b[0m\u001b[0;34m=\u001b[0m\u001b[0mnp\u001b[0m\u001b[0;34m.\u001b[0m\u001b[0masarray\u001b[0m \u001b[0;34m(\u001b[0m\u001b[0;34m[\u001b[0m\u001b[0;36m1\u001b[0m\u001b[0;34m,\u001b[0m\u001b[0;36m2\u001b[0m\u001b[0;34m,\u001b[0m\u001b[0;36m3\u001b[0m\u001b[0;34m]\u001b[0m\u001b[0;34m)\u001b[0m\u001b[0;34m\u001b[0m\u001b[0;34m\u001b[0m\u001b[0m\n\u001b[0m\u001b[1;32m      3\u001b[0m \u001b[0mnp_counts\u001b[0m\u001b[0;34m=\u001b[0m\u001b[0mnp\u001b[0m\u001b[0;34m.\u001b[0m\u001b[0masarray\u001b[0m \u001b[0;34m(\u001b[0m\u001b[0;34m[\u001b[0m\u001b[0;36m3\u001b[0m\u001b[0;34m,\u001b[0m\u001b[0;36m2\u001b[0m\u001b[0;34m,\u001b[0m\u001b[0;36m1\u001b[0m\u001b[0;34m]\u001b[0m\u001b[0;34m)\u001b[0m\u001b[0;34m\u001b[0m\u001b[0;34m\u001b[0m\u001b[0m\n\u001b[1;32m      4\u001b[0m \u001b[0mnp_urn\u001b[0m\u001b[0;34m=\u001b[0m\u001b[0mnp\u001b[0m\u001b[0;34m.\u001b[0m\u001b[0mrepeat\u001b[0m\u001b[0;34m(\u001b[0m\u001b[0mnp_values\u001b[0m \u001b[0;34m,\u001b[0m \u001b[0mnp_counts\u001b[0m\u001b[0;34m)\u001b[0m\u001b[0;34m\u001b[0m\u001b[0;34m\u001b[0m\u001b[0m\n\u001b[1;32m      5\u001b[0m \u001b[0;31m#print(np_urn)\u001b[0m\u001b[0;34m\u001b[0m\u001b[0;34m\u001b[0m\u001b[0;34m\u001b[0m\u001b[0m\n",
            "\u001b[0;31mNameError\u001b[0m: name 'np' is not defined"
          ]
        }
      ],
      "source": [
        "#2.1 Create urn\n",
        "np_values=np.asarray ([1,2,3])\n",
        "np_counts=np.asarray ([3,2,1])\n",
        "np_urn=np.repeat(np_values , np_counts)\n",
        "#print(np_urn)\n",
        " #Draw with replacement\n",
        "N=6\n",
        "np_draw_with_replacement=np.random.choice(np_urn , size=N, p=None , replace=True)\n",
        "print(\"Draw with replacement\",np_draw_with_replacement)\n"
      ]
    },
    {
      "cell_type": "code",
      "execution_count": null,
      "metadata": {
        "colab": {
          "base_uri": "https://localhost:8080/"
        },
        "id": "fIoaAMI87ru-",
        "outputId": "e9754e87-75dc-42b1-c030-468c98453e19"
      },
      "outputs": [
        {
          "name": "stdout",
          "output_type": "stream",
          "text": [
            "[-0.17309686 -0.39386744 -0.44669218 -0.8369959   0.62803448  0.52577777\n",
            "  1.68035269  0.19823043 -1.39136915 -0.19159784]\n"
          ]
        }
      ],
      "source": [
        "#2.2 FROM UNIVARIATE NORMAL USING NUMPY\n",
        "mu=0\n",
        "sigma=1\n",
        "N=10\n",
        "np_onedimensional_normal_data=np.random.normal(mu , sigma , N)\n",
        "print(np_onedimensional_normal_data)"
      ]
    },
    {
      "cell_type": "code",
      "execution_count": null,
      "metadata": {
        "colab": {
          "base_uri": "https://localhost:8080/"
        },
        "id": "HXP6yQrd_A8y",
        "outputId": "59870f4b-efef-441e-ecd8-2696aca7870a"
      },
      "outputs": [
        {
          "name": "stdout",
          "output_type": "stream",
          "text": [
            "Data: [[-0.04090881  1.1592895 ]\n",
            " [ 1.53121571  1.07674655]\n",
            " [ 1.28160194  1.81016257]\n",
            " [-1.19627925  2.07299087]\n",
            " [ 2.14400011 -0.66004461]\n",
            " [ 2.03029767  1.07723398]\n",
            " [ 1.75660707  1.74458582]\n",
            " [ 1.64460655  0.29487675]\n",
            " [-0.35091979  1.60631228]\n",
            " [ 1.05209074  0.42987322]]\n",
            "Datatype of np_2dimensional_normal_data_as_rows: <class 'numpy.ndarray'>\n",
            "Shape of np_2dimensional_normal_data_as_rows: (10, 2)\n"
          ]
        }
      ],
      "source": [
        "#RESAMPLING FROM MULTIVARIATE NORMAL USING NUMPY\n",
        "list_mu=[1, 2]\n",
        "list_SIGMA= [[1, 0], [0, 1]]\n",
        "N=10\n",
        "np_2dimensional_normal_samples_as_rows= np.random.multivariate_normal(list_mu ,list_SIGMA ,N)\n",
        "print(\"Data:\",np_2dimensional_normal_samples_as_rows)\n",
        "print(\"Datatype of np_2dimensional_normal_data_as_rows:\",type(np_2dimensional_normal_samples_as_rows) )\n",
        "print(\"Shape of np_2dimensional_normal_data_as_rows:\",np_2dimensional_normal_samples_as_rows.shape)"
      ]
    },
    {
      "cell_type": "markdown",
      "metadata": {
        "id": "gV8HYhrq_XSh"
      },
      "source": [
        "# Part 3"
      ]
    },
    {
      "cell_type": "code",
      "execution_count": null,
      "metadata": {
        "colab": {
          "base_uri": "https://localhost:8080/"
        },
        "id": "FMXGDXjn_Z2q",
        "outputId": "38aa48a3-1c91-409b-893d-59641800bdbd"
      },
      "outputs": [
        {
          "name": "stdout",
          "output_type": "stream",
          "text": [
            "Draw with replacement [3 3 3 3 3 2 3 3 3 3 3 3 3 3 3 3 3 3 3 3 3 3 3 3 3 3 3 3 3 3 3 3 3 3 3 3 3\n",
            " 3 3 3 3 3 3 3 3 3 3 3 3 3 3 3 3 3 3 3 3 3 3 3 3 3 3 3 3 3 3 3 3 3 3 3 3 3\n",
            " 3 3 3 3 3 3 3 3 3 3 3 3 3 3 3 3 3 3 3 3 3 3 3 3 3 3]\n"
          ]
        }
      ],
      "source": [
        "#3.1, A1 Urn model of discrete probability distribution\n",
        "#Create urn\n",
        "np_values=np.asarray ([1,2,3])\n",
        "np_counts=np.asarray ([2,3,195])\n",
        "np_urn=np.repeat(np_values , np_counts)\n",
        "#print(np_urn)\n",
        "#Draw with repalcement N times\n",
        "N=100\n",
        "np_draw_with_replacement=np.random.choice(np_urn , size=N, p=None , replace=True)\n",
        "print(\"Draw with replacement\",np_draw_with_replacement)"
      ]
    },
    {
      "cell_type": "code",
      "execution_count": null,
      "metadata": {
        "colab": {
          "base_uri": "https://localhost:8080/"
        },
        "id": "ZeIm7SbMBwlu",
        "outputId": "fca99e17-1dee-42fa-ba92-b009c05307c2"
      },
      "outputs": [
        {
          "name": "stdout",
          "output_type": "stream",
          "text": [
            "(305, 695, 0.695)\n"
          ]
        }
      ],
      "source": [
        "#3.2, A2 Urn model for lab instrument processing times\n",
        "#Create urn\n",
        "np_values=np.asarray ([54,66,70,72,97])\n",
        "np_counts=np.asarray ([1,1,1,1,1])\n",
        "np_urn=np.repeat(np_values , np_counts)\n",
        "#print(np_urn)\n",
        "#Draw with repalcement N times\n",
        "N=3\n",
        "np_draw_with_replacement=np.random.choice(np_urn , size=N, p=None , replace=True)\n",
        "#print(\"Draw with replacement\",np_draw_with_replacement)\n",
        "# total time\n",
        "\n",
        "def calcTime(Arr):\n",
        "  totTime=0\n",
        "  for i in range(0, len(Arr)):\n",
        "    totTime = totTime + Arr[i]\n",
        "  return totTime\n",
        "#print(calcTime(np_draw_with_replacement))\n",
        "\n",
        "def runAndCheck(M):\n",
        "  goodRuns=0\n",
        "  over200=0\n",
        "  N=3\n",
        "  for i in range(0, M):\n",
        "    Arr= np.random.choice(np_urn , size=N, p=None , replace=True)\n",
        "    totTime= calcTime(np.random.choice(np_urn , size=N, p=None , replace=True))\n",
        "    #print (Arr)\n",
        "    #print (totTime)\n",
        "    if totTime<= 200:\n",
        "      goodRuns+=1\n",
        "    else:\n",
        "      over200+=1\n",
        "  probLonger200= over200/M\n",
        "  return (goodRuns, over200,probLonger200 )\n",
        "\n",
        "print(runAndCheck(1000))\n",
        "\n",
        "\n"
      ]
    },
    {
      "cell_type": "code",
      "execution_count": null,
      "metadata": {
        "colab": {
          "base_uri": "https://localhost:8080/"
        },
        "id": "JbN1NtxMJZJy",
        "outputId": "4a00af05-427d-4c03-e4ac-ea2b047feacc"
      },
      "outputs": [
        {
          "name": "stdout",
          "output_type": "stream",
          "text": [
            "0.296\n"
          ]
        }
      ],
      "source": [
        "#3.3, A3 Urn model for fault analysis\n",
        "#Create urn\n",
        "np_values=np.asarray (['red', 'white'])\n",
        "np_counts=np.asarray ([400,800])          #Ändra antal för b)\n",
        "np_urn=np.repeat(np_values , np_counts)\n",
        "\n",
        "def drawBalls (M):\n",
        "  N=3\n",
        "  amountGood=0\n",
        "\n",
        "  for i in range (0,M):\n",
        "    ballCollor= np.random.choice(np_urn , size=N, p=None , replace=True) #replace är switch mellan att replacea eller inte i c\n",
        "    amountGood = amountGood + fault(ballCollor)\n",
        "    #print (ballCollor)\n",
        "    #print (amountGood)\n",
        "\n",
        "  #print (amountGood)\n",
        "  andelGood = amountGood/M\n",
        "  return andelGood\n",
        "\n",
        "def fault(Arr):\n",
        "  for i in range (0,len(Arr)):\n",
        "    if Arr[i]=='red':\n",
        "      return 0\n",
        "  return 1\n",
        "\n",
        "print (drawBalls(1000))\n",
        "\n",
        "# a ger ca 0,24\n",
        "# b ger ca 0,29\n",
        "# c ger ca 0,29 för små urval och för stora urval\n",
        "# d eftersom vi plockar bort och litet urval minstar sannorlikhet för alla rätt i a\n",
        "#   i b ger bprtplocket liten skillnad i urvalen och därmed behålls ca 1/3 förhållandet.\n",
        "#   I c eftersom vi lägger tillbaka förändras inte urvalet och därmed är b och c lika och närmare 1/3"
      ]
    },
    {
      "cell_type": "code",
      "execution_count": null,
      "metadata": {
        "id": "Ft7dgZDkmMGW",
        "colab": {
          "base_uri": "https://localhost:8080/",
          "height": 282
        },
        "outputId": "a23db1ff-b83c-4e83-e57f-b39a3ad89005"
      },
      "outputs": [
        {
          "output_type": "display_data",
          "data": {
            "text/plain": [
              "<Figure size 432x288 with 1 Axes>"
            ],
            "image/png": "[encoded data removed]"
          },
          "metadata": {}
        }
      ],
      "source": [
        "#3.4 Urn model of a pipetting robot with success rate 93%\n",
        "np_values=np.asarray (['Correct', 'Fail'])\n",
        "np_counts=np.asarray ([93,7])\n",
        "np_urn=np.repeat(np_values , np_counts)\n",
        "\n",
        "def pipette(Tries):\n",
        "  N=96\n",
        "  successfullPipette=0\n",
        "  correctPerSet=[]\n",
        "  for i in range (0,Tries):\n",
        "    oneSet= np.random.choice(np_urn , size=N, p=None , replace=True)\n",
        "    correctPerSet=np.append(correctPerSet,count(oneSet))\n",
        "  return correctPerSet\n",
        "\n",
        "\n",
        "def count(Arr):\n",
        "  count=0\n",
        "  for i in range (0,len(Arr)):\n",
        "    if Arr[i]=='Correct':\n",
        "      count = count +1\n",
        "  #print(count)\n",
        "  return count\n",
        "\n",
        "x=pipette(1000)\n",
        "#print (x)\n",
        "#np.histogram(dataSet)\n",
        "\n",
        "import matplotlib.pyplot as plt\n",
        "plt.style.use('ggplot') #styel of graph\n",
        "\n",
        "\n",
        "hist, bin_edges = np.histogram(x, bins=50)\n",
        "\n",
        "fig, ax = plt.subplots()\n",
        "ax.hist(x, bin_edges, cumulative=False)\n",
        "ax.set_xlabel('x')\n",
        "ax.set_ylabel('Frequency')\n",
        "plt.show()\n",
        "\n",
        "#fig, ax = plt.subplots()\n",
        "#ax.hist(x, bin_edges, cumulative=True)\n",
        "#ax.set_xlabel('x')\n",
        "#ax.set_ylabel('Frequency')\n",
        "#plt.show()"
      ]
    },
    {
      "cell_type": "markdown",
      "metadata": {
        "id": "-G8tlzPlvVrS"
      },
      "source": [
        "# Part 4\n",
        "#### beta distribution is in the intervall of [0,1]"
      ]
    },
    {
      "cell_type": "code",
      "execution_count": null,
      "metadata": {
        "colab": {
          "base_uri": "https://localhost:8080/",
          "height": 282
        },
        "id": "dq5EanQqvYYM",
        "outputId": "0417277b-cc5a-43a6-aebf-29561643cfb6"
      },
      "outputs": [
        {
          "data": {
            "text/plain": [
              "[<matplotlib.lines.Line2D at 0x7f434a62f070>]"
            ]
          },
          "execution_count": 36,
          "metadata": {},
          "output_type": "execute_result"
        },
        {
          "data": {
            "image/png": "[encoded data removed]",
            "text/plain": [
              "<Figure size 432x288 with 1 Axes>"
            ]
          },
          "metadata": {},
          "output_type": "display_data"
        }
      ],
      "source": [
        "# 4.1\n",
        "#a)\n",
        "#Normal\n",
        "mu= 0\n",
        "sigma =2\n",
        "x = np.linspace(-6,6,200)\n",
        "\n",
        "plt.plot(x, norm.pdf(x,mu,sigma))"
      ]
    },
    {
      "cell_type": "code",
      "execution_count": null,
      "metadata": {
        "colab": {
          "base_uri": "https://localhost:8080/",
          "height": 282
        },
        "id": "nir7VQMbMaCZ",
        "outputId": "07fc2470-2d21-460c-d193-987bacafdf60"
      },
      "outputs": [
        {
          "output_type": "execute_result",
          "data": {
            "text/plain": [
              "[<matplotlib.lines.Line2D at 0x7f0935688be0>]"
            ]
          },
          "metadata": {},
          "execution_count": 5
        },
        {
          "output_type": "display_data",
          "data": {
            "text/plain": [
              "<Figure size 432x288 with 1 Axes>"
            ],
            "image/png": "[encoded data removed]"
          },
          "metadata": {}
        }
      ],
      "source": [
        "#Beta plot\n",
        "alpha=2\n",
        "betaa= 5\n",
        "x2 = np.arange (0.01, 1, 0.01)\n",
        "y = beta.pdf(x2,alpha,betaa)\n",
        "plt.plot(x2,y)"
      ]
    },
    {
      "cell_type": "code",
      "execution_count": null,
      "metadata": {
        "colab": {
          "base_uri": "https://localhost:8080/",
          "height": 265
        },
        "id": "h3Idue2ZMqnb",
        "outputId": "a9070dc4-9ecb-4dd6-e91f-f85935164ef0"
      },
      "outputs": [
        {
          "data": {
            "image/png": "[encoded data removed]",
            "text/plain": [
              "<Figure size 432x288 with 1 Axes>"
            ]
          },
          "metadata": {},
          "output_type": "display_data"
        }
      ],
      "source": [
        "#Weigbull\n",
        "lamba= 1\n",
        "k=1.5\n",
        "def weib(x,n,a):\n",
        "  return (a / n) * (x / n)**(a - 1) * np.exp(-(x / n)**a)\n",
        "\n",
        "x3= np.linspace(0,3,300)\n",
        "#plt.plot(x3, weibull( lamba, k))\n",
        "#plt.show()\n",
        "\n",
        "plt.plot(x3, weib(x3, lamba, k))\n",
        "plt.show()"
      ]
    },
    {
      "cell_type": "code",
      "execution_count": null,
      "metadata": {
        "colab": {
          "base_uri": "https://localhost:8080/"
        },
        "id": "sfxl-Y37PcYd",
        "outputId": "e7f15676-b3e9-4d83-81df-d3dd10e28312"
      },
      "outputs": [
        {
          "name": "stdout",
          "output_type": "stream",
          "text": [
            "[0.94386205 0.27349159 0.65863022 0.87595132 0.65410736 0.85810286\n",
            " 0.43154422 1.87297165 2.04577649 1.14612825]\n"
          ]
        }
      ],
      "source": [
        "#4.1 b)\n",
        "#Draw a sample x from a Weibull(lambda,k) distribution 2\n",
        "\n",
        "def drawTest(M):\n",
        "  allTests=np.array([])\n",
        "  for i in range(0,M):\n",
        "    oneTest=lamba*np.random.weibull(k)\n",
        "    allTests= np.append(allTests, oneTest)\n",
        "  return allTests\n",
        "\n",
        "print(drawTest(10))"
      ]
    },
    {
      "cell_type": "code",
      "execution_count": null,
      "metadata": {
        "id": "Szwt26ctfYs8"
      },
      "outputs": [],
      "source": [
        "#4.2 Data from a mixture of multiple pdfs\n",
        "#Draw sample\n",
        "np_values=np.asarray (['w1','w2','w3'])\n",
        "np_counts=np.asarray ([5,5,90])\n",
        "np_urn=np.repeat(np_values , np_counts)\n",
        "#print(np_urn)\n",
        "#Draw with repalcement N times\n",
        "x= np.linspace(-5,5,1000)\n",
        "\n",
        "#for graphed intervall [-3,3]\n",
        "xGraph = np.linspace(-3,3,100)\n",
        "\n",
        "mu1= -2\n",
        "sigma1 =0.1\n",
        "mu2= 2\n",
        "sigma2 =0.1\n",
        "mu3= 0\n",
        "sigma3 =1\n",
        "\n",
        "\n",
        "def drawOne():\n",
        "  N=1\n",
        "  draw= np.random.choice(np_urn , size=N, p=None , replace=True)\n",
        "  #print (draw)\n",
        "  return draw\n",
        "\n",
        "\n",
        "def p1(intervall):\n",
        "  cdf_upper_limit = norm(mu1 , sigma1).cdf(intervall[1])\n",
        "  cdf_lower_limit = norm(mu1 , sigma1).cdf(intervall[0])\n",
        "\n",
        "  prob = cdf_upper_limit - cdf_lower_limit\n",
        "  plt.plot(xGraph, norm.pdf(xGraph,mu1,sigma1))\n",
        "  return prob\n",
        "\n",
        "#print(p1([-2,10]))\n",
        "\n",
        "def p2(intervall):\n",
        "  cdf_upper_limit = norm(mu2 , sigma2).cdf(intervall[1])\n",
        "  cdf_lower_limit = norm(mu2 , sigma2).cdf(intervall[0])\n",
        "\n",
        "  prob = cdf_upper_limit - cdf_lower_limit\n",
        "  plt.plot(xGraph, norm.pdf(xGraph,mu2,sigma2))\n",
        "  return prob\n",
        "\n",
        "def p3(intervall):\n",
        "  cdf_upper_limit = norm(mu3 , sigma3).cdf(intervall[1])\n",
        "  cdf_lower_limit = norm(mu3 , sigma3).cdf(intervall[0])\n",
        "\n",
        "  prob = cdf_upper_limit - cdf_lower_limit\n",
        "  plt.plot(xGraph, norm.pdf(xGraph,mu3,sigma3))\n",
        "  return prob\n",
        "\n",
        "\n",
        "def checkDrawRun(val, intervall):\n",
        "  if val =='w1':\n",
        "    # för a)\n",
        "    #return p1(intervall)\n",
        "\n",
        "    return(np.random.normal(mu1, sigma1))\n",
        "  if val == 'w2':\n",
        "    # för a)\n",
        "    #return p2(intervall)\n",
        "\n",
        "    return(np.random.normal(mu2, sigma2))\n",
        "  if val == 'w3':\n",
        "    # för a)\n",
        "    #return p3(intervall)\n",
        "\n",
        "    return(np.random.normal(mu3, sigma3))\n",
        "\n",
        "\n",
        "\n",
        "#print(checkDrawRun(drawOne(), [-3,3]))\n",
        "def uppgiftB(M):\n",
        "  #1000 random punkter från random normalfördelning\n",
        "  allRandom= []\n",
        "  for i in range (0,M):\n",
        "    allRandom= np.append(allRandom, checkDrawRun(drawOne(), [-3,3]))  #intervall används ej\n",
        "\n",
        "  #plt.plot(xGraph, norm.pdf(xGraph,mu1,sigma1))\n",
        "  #plt.plot(xGraph, norm.pdf(xGraph,mu2,sigma2))\n",
        "  #plt.plot(xGraph, norm.pdf(xGraph,mu3,sigma3))\n",
        "  #plt.hist(allRandom, bins=100) #to plot all points\n",
        "  #plt.show()\n",
        "  return allRandom\n",
        "plt.hist(uppgiftB(1000), bins=100) #to plot all points\n",
        ""
      ]
    },
    {
      "cell_type": "code",
      "execution_count": null,
      "metadata": {
        "id": "_9bU4byr40Ta"
      },
      "outputs": [],
      "source": [
        "#4.3 a) Data from a Gaussian kernel density estimator\n",
        "# a)\n",
        "dataSet= uppgiftB(200)"
      ]
    },
    {
      "cell_type": "code",
      "execution_count": null,
      "metadata": {
        "colab": {
          "base_uri": "https://localhost:8080/",
          "height": 282
        },
        "id": "GyhH2ZbYZUOq",
        "outputId": "9a9530f9-1ddf-488d-b373-03d4852edcf3"
      },
      "outputs": [
        {
          "output_type": "execute_result",
          "data": {
            "text/plain": [
              "[<matplotlib.lines.Line2D at 0x7f5498e1bf40>]"
            ]
          },
          "metadata": {},
          "execution_count": 3
        },
        {
          "output_type": "display_data",
          "data": {
            "text/plain": [
              "<Figure size 432x288 with 1 Axes>"
            ],
            "image/png": "[encoded data removed]"
          },
          "metadata": {
            "needs_background": "light"
          }
        }
      ],
      "source": [
        "# B) Skapa KDE\n",
        "from sklearn.neighbors import KernelDensity\n",
        "dataSet= uppgiftB(2000)\n",
        "x= np.linspace(-3,3, len(dataSet))\n",
        "\n",
        "# KDE\n",
        "\n",
        "kde = KernelDensity(kernel='gaussian', bandwidth=0.01).fit(dataSet[:, None])\n",
        "\n",
        "logprob= kde.score_samples(x[:, None])\n",
        "\n",
        "plt.fill_between(x,np.exp(logprob))\n",
        "plt.plot(dataSet,np.full_like(dataSet, -0.01), '|k', markeredgewidth = 1)\n",
        "\n",
        "\n",
        "\n"
      ]
    },
    {
      "cell_type": "code",
      "execution_count": null,
      "metadata": {
        "id": "CvV3Cfd6Y7O3",
        "colab": {
          "base_uri": "https://localhost:8080/",
          "height": 775
        },
        "outputId": "df00fe42-a7d2-43d2-f5b8-2cffab0351ba"
      },
      "outputs": [
        {
          "output_type": "execute_result",
          "data": {
            "text/plain": [
              "(array([ 2.,  0.,  0.,  0.,  0.,  0.,  1.,  0.,  2.,  2.,  0.,  0.,  2.,\n",
              "         1.,  3.,  4.,  6., 12., 22., 18., 20.,  8.,  2.,  1.,  8.,  5.,\n",
              "         9.,  5.,  5.,  6.,  7., 11.,  5.,  8.,  8.,  6., 15., 16.,  9.,\n",
              "        21., 14., 21., 18.,  8., 24., 20., 35., 28., 13., 30., 30., 20.,\n",
              "        20., 34., 27.,  9., 19., 22., 21., 17., 10., 15., 19., 11., 12.,\n",
              "        12., 12., 20., 12., 10., 15.,  8.,  4., 11., 10.,  8., 24.,  8.,\n",
              "         3.,  6.,  5., 12., 17., 14., 13.,  8.,  5.,  2.,  0.,  2.,  2.,\n",
              "         3.,  6.,  0.,  0.,  0.,  0.,  0.,  0.,  1.]),\n",
              " array([-3.22435386, -3.16159457, -3.09883527, -3.03607598, -2.97331669,\n",
              "        -2.9105574 , -2.84779811, -2.78503882, -2.72227953, -2.65952024,\n",
              "        -2.59676095, -2.53400166, -2.47124237, -2.40848308, -2.34572378,\n",
              "        -2.28296449, -2.2202052 , -2.15744591, -2.09468662, -2.03192733,\n",
              "        -1.96916804, -1.90640875, -1.84364946, -1.78089017, -1.71813088,\n",
              "        -1.65537159, -1.59261229, -1.529853  , -1.46709371, -1.40433442,\n",
              "        -1.34157513, -1.27881584, -1.21605655, -1.15329726, -1.09053797,\n",
              "        -1.02777868, -0.96501939, -0.9022601 , -0.8395008 , -0.77674151,\n",
              "        -0.71398222, -0.65122293, -0.58846364, -0.52570435, -0.46294506,\n",
              "        -0.40018577, -0.33742648, -0.27466719, -0.2119079 , -0.14914861,\n",
              "        -0.08638932, -0.02363002,  0.03912927,  0.10188856,  0.16464785,\n",
              "         0.22740714,  0.29016643,  0.35292572,  0.41568501,  0.4784443 ,\n",
              "         0.54120359,  0.60396288,  0.66672217,  0.72948147,  0.79224076,\n",
              "         0.85500005,  0.91775934,  0.98051863,  1.04327792,  1.10603721,\n",
              "         1.1687965 ,  1.23155579,  1.29431508,  1.35707437,  1.41983366,\n",
              "         1.48259296,  1.54535225,  1.60811154,  1.67087083,  1.73363012,\n",
              "         1.79638941,  1.8591487 ,  1.92190799,  1.98466728,  2.04742657,\n",
              "         2.11018586,  2.17294515,  2.23570445,  2.29846374,  2.36122303,\n",
              "         2.42398232,  2.48674161,  2.5495009 ,  2.61226019,  2.67501948,\n",
              "         2.73777877,  2.80053806,  2.86329735,  2.92605664,  2.98881593,\n",
              "         3.05157523]),\n",
              " <a list of 100 Patch objects>)"
            ]
          },
          "metadata": {},
          "execution_count": 10
        },
        {
          "output_type": "display_data",
          "data": {
            "text/plain": [
              "<Figure size 432x288 with 1 Axes>"
            ],
            "image/png": "[encoded data removed]"
          },
          "metadata": {
            "needs_background": "light"
          }
        }
      ],
      "source": [
        "# c)\n",
        "data=uppgiftB(1000)\n",
        "\n",
        "\n",
        "def my_kde_datagen(D,M_desired,b):\n",
        "  #data = np.atleast_2d(data).T\n",
        "  kde = KernelDensity(kernel='gaussian', bandwidth=b).fit(D[:, None])\n",
        "  return kde.sample(M_desired, 1)\n",
        "\n",
        "# d)\n",
        "y= my_kde_datagen(data,1000,0.01)\n",
        "#print ('detta är y', y)\n",
        "\n",
        "# e)\n",
        "plt.hist(data, bins=100, alpha=0.5)\n",
        "plt.hist (y, bins=100, alpha =0.5)"
      ]
    },
    {
      "cell_type": "code",
      "source": [],
      "metadata": {
        "id": "oa1T4yHocpWr"
      },
      "execution_count": null,
      "outputs": []
    },
    {
      "cell_type": "code",
      "source": [
        "#4.4 a)\n",
        "covarianceVector=np.array([[1, 0.7], [0.7, 3]])\n",
        "mu=np.array([0,0])\n",
        "\n",
        "sample1= np.random.multivariate_normal(mu, covarianceVector, 1000)\n",
        "#print(sample)\n",
        "x1,y1 = sample1[:,0], sample1 [:,1]\n",
        "plt.scatter(x1,y1)\n",
        "\n",
        "# b)\n",
        "covarianceVectorB=np.array([[1, -0.7], [-0.7, 3]])\n",
        "sample2= np.random.multivariate_normal(mu, covarianceVectorB, 1000)\n",
        "x2,y2 = sample2[:,0], sample2 [:,1]\n",
        "#plt.scatter(x2,y2)\n",
        "\n",
        "# c)\n",
        "covarianceVectorC=np.array([[1, -3], [-3, 1]])\n",
        "sample3= np.random.multivariate_normal(mu, covarianceVectorC, 1000)\n",
        "x3,y3 = sample3[:,0], sample3 [:,1]\n",
        "plt.scatter(x3,y3)\n",
        "\n"
      ],
      "metadata": {
        "colab": {
          "base_uri": "https://localhost:8080/",
          "height": 336
        },
        "id": "8BV2RyfWDcPn",
        "outputId": "79816391-fb12-487e-ac5b-605bba591b89"
      },
      "execution_count": null,
      "outputs": [
        {
          "output_type": "stream",
          "name": "stderr",
          "text": [
            "<ipython-input-5-66b2d9691778>:18: RuntimeWarning: covariance is not positive-semidefinite.\n",
            "  sample3= np.random.multivariate_normal(mu, covarianceVectorC, 1000)\n"
          ]
        },
        {
          "output_type": "execute_result",
          "data": {
            "text/plain": [
              "<matplotlib.collections.PathCollection at 0x7fec73109520>"
            ]
          },
          "metadata": {},
          "execution_count": 5
        },
        {
          "output_type": "display_data",
          "data": {
            "text/plain": [
              "<Figure size 432x288 with 1 Axes>"
            ],
            "image/png": "[encoded data removed]"
          },
          "metadata": {
            "needs_background": "light"
          }
        }
      ]
    },
    {
      "cell_type": "markdown",
      "source": [
        "# Part 5 - Markov and Hidden Markov Models: Discrete time and discrete states\n"
      ],
      "metadata": {
        "id": "50JEv89vGi7T"
      }
    },
    {
      "cell_type": "code",
      "source": [
        "# 5\n",
        "#5.1b)\n",
        "initialState = 'G'\n",
        "\n",
        "def nextState(state):\n",
        "  r= np.random.rand()\n",
        "  if state == 'G':\n",
        "    if r <= 0.2:\n",
        "      return 'M'\n",
        "    else:\n",
        "      return 'G'\n",
        "  elif state== 'M':\n",
        "    if r <= 0.2:\n",
        "      return 'A'\n",
        "    else:\n",
        "      return 'G'\n",
        "  else:\n",
        "    if r <= 0.1:\n",
        "      return 'G'\n",
        "    else:\n",
        "      return 'A'\n",
        "\n",
        "def runMarkov(initial, reps):\n",
        "  nextRun= initial\n",
        "  wholeArray= np.array([initial])\n",
        "  for i in range(0,reps-1):\n",
        "    nextRun= nextState(nextRun)\n",
        "    wholeArray = np.append(wholeArray, nextRun)\n",
        "  return wholeArray\n",
        "\n",
        "svar=runMarkov(initialState, 1000)\n",
        "plt.hist(svar, bins=3)\n"
      ],
      "metadata": {
        "colab": {
          "base_uri": "https://localhost:8080/",
          "height": 316
        },
        "id": "P67HIcZqGdhb",
        "outputId": "b1a787df-b34e-4995-f9f9-450404fbaac4"
      },
      "execution_count": null,
      "outputs": [
        {
          "output_type": "execute_result",
          "data": {
            "text/plain": [
              "(array([549., 126., 325.]),\n",
              " array([0.        , 0.66666667, 1.33333333, 2.        ]),\n",
              " <BarContainer object of 3 artists>)"
            ]
          },
          "metadata": {},
          "execution_count": 6
        },
        {
          "output_type": "display_data",
          "data": {
            "text/plain": [
              "<Figure size 432x288 with 1 Axes>"
            ],
            "image/png": "[encoded data removed]"
          },
          "metadata": {
            "needs_background": "light"
          }
        }
      ]
    },
    {
      "cell_type": "code",
      "source": [
        "# 5.2 Generate state sequence from a 5-state Markov model\n",
        "\n",
        "initialState = 'S0'\n",
        "\n",
        "def nextState(state):\n",
        "  r= np.random.rand()\n",
        "\n",
        "  if state == 'S1':\n",
        "    if r <= 0.1:\n",
        "      return 'S2'\n",
        "    else:\n",
        "      return 'S1'\n",
        "\n",
        "  elif state== 'S2':\n",
        "    return 'S3'\n",
        "\n",
        "  elif state== 'S0':\n",
        "    return 'S1'\n",
        "\n",
        "  elif state== 'S3':\n",
        "    if r <= 0.1:\n",
        "      return 'S4'\n",
        "    else:\n",
        "      return 'S3'\n",
        "\n",
        "\n",
        "\n",
        "def runMarkov(initial):\n",
        "  nextRun= initial\n",
        "  wholeArray= np.array([initial])\n",
        "\n",
        "  while nextRun != 'S4':\n",
        "    nextRun= nextState(nextRun)\n",
        "    wholeArray = np.append(wholeArray, nextRun)\n",
        "  return wholeArray\n",
        "\n",
        "def runFunction(start, M):\n",
        "  for i in range (0,M):\n",
        "    print(runMarkov(start))\n",
        "\n",
        "runFunction(initialState, 10)"
      ],
      "metadata": {
        "id": "A02sJ9fLMhCQ"
      },
      "execution_count": null,
      "outputs": []
    },
    {
      "cell_type": "code",
      "source": [
        "# 5.3 Generate symbol sequences from a Hidden Markov Model\n",
        "\n",
        "initialState = 'S0'\n",
        "np_values=np.asarray (['A','C','G','T'])\n",
        "\n",
        "def forS1 ():\n",
        "  np_counts=np.asarray ([25,25,25,25])\n",
        "  np_urn=np.repeat(np_values , np_counts)\n",
        "  np_draw_with_replacement=np.random.choice(np_urn , size=1, p=None , replace=True)\n",
        "  return np_draw_with_replacement\n",
        "\n",
        "def forS2 ():\n",
        "  np_counts=np.asarray ([5,0,95,0])\n",
        "  np_urn=np.repeat(np_values , np_counts)\n",
        "  np_draw_with_replacement=np.random.choice(np_urn , size=1, p=None , replace=True)\n",
        "  return np_draw_with_replacement\n",
        "\n",
        "def forS3 ():\n",
        "  np_counts=np.asarray ([40,10,10,40])\n",
        "  np_urn=np.repeat(np_values , np_counts)\n",
        "  np_draw_with_replacement=np.random.choice(np_urn , size=1, p=None , replace=True)\n",
        "  return np_draw_with_replacement\n",
        "\n",
        "def nextState(state):\n",
        "  r= np.random.rand()\n",
        "\n",
        "  if state == 'S1':\n",
        "    if r <= 0.1:\n",
        "      return ['S2', forS1()]\n",
        "    else:\n",
        "      return ['S1', forS1()]\n",
        "\n",
        "  elif state== 'S2':\n",
        "    return ['S3', forS2()]\n",
        "\n",
        "  elif state== 'S0':\n",
        "    return ['S1', forS2()]\n",
        "\n",
        "  elif state== 'S3':\n",
        "    if r <= 0.1:\n",
        "      return ['S4', forS3()]\n",
        "    else:\n",
        "      return ['S3', forS3()]\n",
        "\n",
        "def runMarkov(initial):\n",
        "  nextRun= np.array([initial, None])\n",
        "  wholeArray= np.array([])\n",
        "\n",
        "  while nextRun[0] != 'S4':\n",
        "    nextRun= nextState(nextRun[0])\n",
        "    wholeArray = np.append(wholeArray, nextRun[1])\n",
        "  return wholeArray\n",
        "\n",
        "def runFunction(start, M):\n",
        "  for i in range (0,M):\n",
        "    print(runMarkov(start))\n",
        "\n",
        "runFunction(initialState, 1)\n",
        "\n",
        "\n",
        "#print(runMarkov(initialState))\n"
      ],
      "metadata": {
        "colab": {
          "base_uri": "https://localhost:8080/"
        },
        "id": "KPk5u1ERPL7w",
        "outputId": "da79ae5d-b730-4998-979a-3ee5ca4712da"
      },
      "execution_count": null,
      "outputs": [
        {
          "output_type": "stream",
          "name": "stdout",
          "text": [
            "['G' 'C' 'T' 'C' 'G' 'G' 'G' 'T']\n"
          ]
        }
      ]
    },
    {
      "cell_type": "markdown",
      "source": [
        "# Part 6 - Linear relationships embedded in measurement noise"
      ],
      "metadata": {
        "id": "x1kywxhLaqPD"
      }
    },
    {
      "cell_type": "code",
      "source": [
        "# 6.1 a)\n",
        "x= np.random.uniform(0,1,10)\n",
        "y= 2*x+4\n",
        "print (x,y)\n",
        "\n",
        "# b)\n",
        "mu=0\n",
        "sigma= 0.3\n",
        "x2= np.array([None]*len(x))\n",
        "y2= np.array([None]*len(y))\n",
        "\n",
        "for i in range (0,len(x)):\n",
        "  x2[i] = x[i] + np.random.normal(mu, sigma)\n",
        "  y2[i] = y[i] + np.random.normal(mu, sigma)\n",
        "print(x2,y2)\n"
      ],
      "metadata": {
        "id": "FZ-2MR9uW1Ou",
        "colab": {
          "base_uri": "https://localhost:8080/"
        },
        "outputId": "0686a0bf-079d-4966-8b02-cfceeb9b3014"
      },
      "execution_count": null,
      "outputs": [
        {
          "output_type": "stream",
          "name": "stdout",
          "text": [
            "[0.16870273 0.59411446 0.43037045 0.03050114 0.74328572 0.61050985\n",
            " 0.95395226 0.26182291 0.20009461 0.68860039] [4.33740545 5.18822892 4.86074089 4.06100228 5.48657144 5.2210197\n",
            " 5.90790452 4.52364581 4.40018923 5.37720077]\n",
            "[-0.22327382645798016 0.5306868508410789 -0.10626715066588022\n",
            " -0.273555811544943 0.8731700495927697 0.24643006887195262\n",
            " 1.0802047050996222 0.08620080162231966 0.5370359265403488\n",
            " 1.1663219528789357] [4.152602017760325 5.300268300576017 5.0645560974237185 4.154960029412324\n",
            " 5.646028050172521 5.00383785067849 6.3877324406309945 4.523738677878248\n",
            " 4.228201635063062 5.642781906240226]\n"
          ]
        }
      ]
    },
    {
      "cell_type": "code",
      "source": [
        "# 6.2 a)\n",
        "covarianceMatrix= 0.25* np.identity(3)\n",
        "x3a= np.random.multivariate_normal([0,0,0], covarianceMatrix, 1000)\n",
        "y3a= np.array([])\n",
        "\n",
        "for i in range(0, len(x3a)):\n",
        "  addRow= [0.3, 0.2, 0.5]* x3a[i]\n",
        "  y3a = np.append(y3a, sum(addRow))\n",
        "#print(x3a)\n",
        "print(y3a)\n",
        "\n",
        "x3b= np.array([None]*(len(x3a)))\n",
        "y3b= np.array([None]*len(y3a))\n",
        "\n",
        "#b)\n",
        "mu=0\n",
        "sigma= 0.3\n",
        "for i in range (0, len(x3a)):\n",
        "  x3b[i] = x3a[i] + np.random.multivariate_normal([0,0,0], covarianceMatrix, 1)\n",
        "  y3b[i] = y3a[i] + np.random.normal(mu, sigma)\n",
        "\n",
        "#print (x3b)\n",
        "#print (y3b)\n",
        "\n",
        "\n",
        "# MU and sigma\n",
        "yMu = np.mean(y3a)\n",
        "ySigma = np.std(y3a)\n",
        "thisShouldBeBg = yMu/ySigma\n",
        "print(yMu, ySigma)\n",
        "print('thisShould be big', thisShouldBeBg)"
      ],
      "metadata": {
        "id": "qh7r_nwqh0Cl"
      },
      "execution_count": null,
      "outputs": []
    },
    {
      "cell_type": "code",
      "source": [],
      "metadata": {
        "id": "BK0_6AVU-2AU"
      },
      "execution_count": null,
      "outputs": []
    }
  ],
  "metadata": {
    "colab": {
      "provenance": [],
      "toc_visible": true
    },
    "kernelspec": {
      "display_name": "Python 3",
      "name": "python3"
    },
    "language_info": {
      "name": "python"
    }
  },
  "nbformat": 4,
  "nbformat_minor": 0
}
